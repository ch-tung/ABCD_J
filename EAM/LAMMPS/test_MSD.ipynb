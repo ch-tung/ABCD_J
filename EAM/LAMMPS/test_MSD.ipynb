{
 "cells": [
  {
   "cell_type": "code",
   "execution_count": 1,
   "metadata": {},
   "outputs": [],
   "source": [
    "import numpy as np\n",
    "from matplotlib import pyplot as plt\n",
    "from tqdm import tqdm, trange"
   ]
  },
  {
   "cell_type": "code",
   "execution_count": 2,
   "metadata": {},
   "outputs": [],
   "source": [
    "def load_lammps_dump(filename):\n",
    "    with open(filename, 'r') as file:\n",
    "        lines = file.readlines()\n",
    "\n",
    "    # Find the number of particles\n",
    "    for i, line in enumerate(lines):\n",
    "        if line.startswith('ITEM: NUMBER OF ATOMS'):\n",
    "            num_particles = int(lines[i+1].strip())\n",
    "            break\n",
    "        \n",
    "        # Find the box dimensions\n",
    "    for i, line in enumerate(lines):\n",
    "        if line.startswith('ITEM: BOX BOUNDS'):\n",
    "            box_bounds = [list(map(float, bounds.split())) for bounds in lines[i+1:i+4]]\n",
    "            break\n",
    "\n",
    "    # Find the starting line of the atomic positions\n",
    "    start_lines = []\n",
    "    for i, line in enumerate(lines):\n",
    "        if line.startswith('ITEM: ATOMS'):\n",
    "            start_line = i + 1\n",
    "            start_lines.append(start_line)\n",
    "\n",
    "    # Initialize arrays to store the data\n",
    "    ntime = len(start_lines)\n",
    "    positions = np.zeros((ntime, num_particles, 3))\n",
    "    atom_ids = np.zeros(num_particles, dtype=int)\n",
    "    atom_types = np.zeros(num_particles, dtype=int)\n",
    "    \n",
    "    # atom id and type\n",
    "    start_line_0 = start_lines[0]\n",
    "    for i in range(num_particles):\n",
    "        line = lines[start_line_0+i]\n",
    "        data = line.split()\n",
    "        atom_ids[i] = int(data[0])\n",
    "        atom_types[i] = int(data[1])\n",
    "\n",
    "    # Parse the atomic positions, atom IDs, and atom types\n",
    "    for it, start_line_t in tqdm(enumerate(start_lines)):\n",
    "        for i in range(num_particles):\n",
    "            line = lines[start_line_t+i]\n",
    "            data = line.split()\n",
    "            positions[it, i, :] = [float(data[2]), float(data[3]), float(data[4])]\n",
    "\n",
    "    return positions, atom_ids, atom_types, box_bounds\n"
   ]
  },
  {
   "cell_type": "code",
   "execution_count": 3,
   "metadata": {},
   "outputs": [
    {
     "name": "stderr",
     "output_type": "stream",
     "text": [
      "10001it [00:21, 468.11it/s]\n"
     ]
    },
    {
     "name": "stdout",
     "output_type": "stream",
     "text": [
      "(10001, 2047, 3)\n"
     ]
    },
    {
     "name": "stderr",
     "output_type": "stream",
     "text": [
      "10001it [00:21, 473.65it/s]\n"
     ]
    },
    {
     "name": "stdout",
     "output_type": "stream",
     "text": [
      "(10001, 2047, 3)\n"
     ]
    },
    {
     "name": "stderr",
     "output_type": "stream",
     "text": [
      "10001it [00:21, 471.36it/s]\n"
     ]
    },
    {
     "name": "stdout",
     "output_type": "stream",
     "text": [
      "(10001, 2047, 3)\n"
     ]
    },
    {
     "name": "stderr",
     "output_type": "stream",
     "text": [
      "10001it [00:21, 472.00it/s]\n"
     ]
    },
    {
     "name": "stdout",
     "output_type": "stream",
     "text": [
      "(10001, 2047, 3)\n"
     ]
    }
   ],
   "source": [
    "positions_list = []\n",
    "temperature_list = [810,870,910,950]\n",
    "for temp in temperature_list:\n",
    "    positions, atom_ids, atom_types, box_bounds = load_lammps_dump(f\"./out_vacancy_cube8_{temp:d}_lt.dump\")\n",
    "    print(positions.shape)\n",
    "    positions_list.append(positions)    "
   ]
  },
  {
   "cell_type": "code",
   "execution_count": 5,
   "metadata": {},
   "outputs": [
    {
     "name": "stderr",
     "output_type": "stream",
     "text": [
      "10001it [00:20, 476.75it/s]\n"
     ]
    },
    {
     "name": "stdout",
     "output_type": "stream",
     "text": [
      "(10001, 2047, 3)\n"
     ]
    },
    {
     "name": "stderr",
     "output_type": "stream",
     "text": [
      "10001it [00:20, 478.34it/s]\n"
     ]
    },
    {
     "name": "stdout",
     "output_type": "stream",
     "text": [
      "(10001, 2047, 3)\n"
     ]
    },
    {
     "name": "stderr",
     "output_type": "stream",
     "text": [
      "10001it [00:20, 483.21it/s]\n"
     ]
    },
    {
     "name": "stdout",
     "output_type": "stream",
     "text": [
      "(10001, 2047, 3)\n"
     ]
    },
    {
     "name": "stderr",
     "output_type": "stream",
     "text": [
      "10001it [00:21, 474.51it/s]"
     ]
    },
    {
     "name": "stdout",
     "output_type": "stream",
     "text": [
      "(10001, 2047, 3)\n"
     ]
    },
    {
     "name": "stderr",
     "output_type": "stream",
     "text": [
      "\n"
     ]
    }
   ],
   "source": [
    "positions_list_st = []\n",
    "temperature_list = [810,870,910,950]\n",
    "for temp in temperature_list:\n",
    "    positions, atom_ids, atom_types, box_bounds = load_lammps_dump(f\"./out_vacancy_cube8_{temp:d}_st.dump\")\n",
    "    print(positions.shape)\n",
    "    positions_list_st.append(positions)    "
   ]
  },
  {
   "cell_type": "code",
   "execution_count": 51,
   "metadata": {},
   "outputs": [],
   "source": [
    "n_t0 = 2\n",
    "n_times = positions_list[0].shape[0]\n",
    "n_times_msd = int(np.floor(n_times/n_t0))\n",
    "\n",
    "n_particles = len(atom_ids)\n",
    "\n",
    "\n",
    "t_list = np.arange(n_times_msd)\n",
    "t0_list = np.arange(n_t0)*n_times_msd\n",
    "\n",
    "msd_list = []\n",
    "for positions in positions_list:\n",
    "    msd = np.zeros(n_times_msd)\n",
    "    for it0, t0 in enumerate(t0_list):\n",
    "        position_0 = positions[t0]\n",
    "        for it, t in (enumerate(t_list)):\n",
    "            position_t = positions[t0+t]\n",
    "            msd_t = np.sum((position_t-position_0)**2)/n_particles\n",
    "            msd[it] += msd_t    \n",
    "    msd = msd/n_t0\n",
    "    msd_list.append(msd)\n"
   ]
  },
  {
   "cell_type": "code",
   "execution_count": 52,
   "metadata": {},
   "outputs": [],
   "source": [
    "n_t0 = 2\n",
    "n_times = positions_list_st[0].shape[0]\n",
    "n_times_msd = n_times_msd = int(np.floor(n_times/n_t0))\n",
    "\n",
    "n_particles = len(atom_ids)\n",
    "\n",
    "\n",
    "t_list_st = np.arange(n_times_msd)\n",
    "t0_list = np.arange(n_t0)*n_times_msd\n",
    "\n",
    "msd_list_st = []\n",
    "for positions in positions_list_st:\n",
    "    msd = np.zeros(n_times_msd)\n",
    "    for it0, t0 in enumerate(t0_list):\n",
    "        position_0 = positions[t0]\n",
    "        for it, t in (enumerate(t_list_st)):\n",
    "            position_t = positions[t0+t]\n",
    "            msd_t = np.sum((position_t-position_0)**2)/n_particles\n",
    "            msd[it] += msd_t    \n",
    "    msd = msd/n_t0\n",
    "    msd_list_st.append(msd)\n"
   ]
  },
  {
   "cell_type": "code",
   "execution_count": 54,
   "metadata": {},
   "outputs": [
    {
     "data": {
      "image/png": "[encoded data removed]",
      "text/plain": [
       "<Figure size 600x600 with 1 Axes>"
      ]
     },
     "metadata": {},
     "output_type": "display_data"
    }
   ],
   "source": [
    "timestep = 10\n",
    "timestep_st = 10/1000\n",
    "fig = plt.figure(figsize=(6,6))\n",
    "ax = fig.add_subplot(1,1,1)\n",
    "\n",
    "colors = [\"C0\",\"C1\",\"C2\",\"C3\"]\n",
    "for i_temp, temperature in enumerate(temperature_list):\n",
    "    msd_st = msd_list_st[i_temp]\n",
    "    ax.plot(t_list_st[1:]*timestep_st,msd_st[1:],\".\",color=colors[i_temp])\n",
    "    msd = msd_list[i_temp]\n",
    "    ax.plot(t_list[1:]*timestep,msd[1:],\".\",color=colors[i_temp], label=str(temperature)+\"K\")\n",
    "\n",
    "\n",
    "ax.set_xscale(\"log\")\n",
    "ax.set_yscale(\"log\")\n",
    "# ax.set_ylim([1e-1,10])\n",
    "# ax.set_xlim([1,1e4])\n",
    "\n",
    "ax.set_xlabel(r\"$t$ (ps)\")\n",
    "ax.set_ylabel(r\"$\\rm{MSD}$\")\n",
    "ax.legend(frameon=False)\n",
    "plt.show()"
   ]
  },
  {
   "cell_type": "code",
   "execution_count": null,
   "metadata": {},
   "outputs": [],
   "source": []
  }
 ],
 "metadata": {
  "kernelspec": {
   "display_name": "Python 3 (ipykernel)",
   "language": "python",
   "name": "python3"
  },
  "language_info": {
   "codemirror_mode": {
    "name": "ipython",
    "version": 3
   },
   "file_extension": ".py",
   "mimetype": "text/x-python",
   "name": "python",
   "nbconvert_exporter": "python",
   "pygments_lexer": "ipython3",
   "version": "3.10.0"
  }
 },
 "nbformat": 4,
 "nbformat_minor": 4
}
