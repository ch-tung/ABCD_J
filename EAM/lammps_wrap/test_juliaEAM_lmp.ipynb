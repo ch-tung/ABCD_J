{
 "cells": [
  {
   "cell_type": "code",
   "execution_count": 1,
   "metadata": {},
   "outputs": [
    {
     "name": "stderr",
     "output_type": "stream",
     "text": [
      "\u001b[32m\u001b[1m  Activating\u001b[22m\u001b[39m project at `~/Documents/ABCD_J/EAM/lammps_wrap`\n"
     ]
    }
   ],
   "source": [
    "cd(@__DIR__)\n",
    "ENV[\"CELLLISTMAP_8.3_WARNING\"] = \"false\"\n",
    "# include(\"../../src/juliaEAM.jl\")\n",
    "include(\"../../src/lammpsIO.jl\")\n",
    "\n",
    "using Pkg\n",
    "Pkg.activate(\".\")\n",
    "\n",
    "using Printf\n",
    "using AtomsCalculators\n",
    "using Unitful: Å, nm\n",
    "using StaticArrays: SVector\n",
    "using Molly\n",
    "using LinearAlgebra\n",
    "using DelimitedFiles\n",
    "using UnitfulAtomic\n",
    "import PeriodicTable\n",
    "using ProgressMeter\n",
    "using Random\n",
    "\n",
    "using LAMMPS"
   ]
  },
  {
   "cell_type": "code",
   "execution_count": 2,
   "metadata": {},
   "outputs": [
    {
     "data": {
      "text/plain": [
       "26.9815 u"
      ]
     },
     "execution_count": 2,
     "metadata": {},
     "output_type": "execute_result"
    }
   ],
   "source": [
    "al_LatConst = 4.0495/10 # nm\n",
    "atom_mass = 26.9815u\"u\"  # Atomic mass of aluminum in grams per mole"
   ]
  },
  {
   "cell_type": "code",
   "execution_count": 3,
   "metadata": {},
   "outputs": [
    {
     "data": {
      "text/plain": [
       "initialize_system_dump (generic function with 1 method)"
      ]
     },
     "execution_count": 3,
     "metadata": {},
     "output_type": "execute_result"
    }
   ],
   "source": [
    "function initialize_system_dump(;loggers=(coords=CoordinateLogger(1),),filename_dump=\"\")\n",
    "    n_atoms, box_size, coords_molly, attypes = lmpDumpReader(filename_dump)\n",
    "    molly_atoms = [Molly.Atom(index=i, charge=0, mass=atom_mass, \n",
    "                    #   σ=2.0u\"Å\" |> x -> uconvert(u\"nm\", x), ϵ=ϵ_kJ_per_mol\n",
    "                    ) for i in 1:length(coords_molly)]\n",
    "    # Specify boundary condition\n",
    "    boundary_condition = Molly.CubicBoundary(box_size[1],box_size[2],box_size[3])\n",
    "\n",
    "    atom_positions_init = copy(coords_molly)\n",
    "    molly_atoms_init = copy(molly_atoms)\n",
    "\n",
    "    DNF = DistanceNeighborFinder(\n",
    "        eligible=trues(length(molly_atoms_init), length(molly_atoms_init)),\n",
    "        n_steps=1e3,\n",
    "        dist_cutoff=8u\"Å\")\n",
    "    TNF = TreeNeighborFinder(\n",
    "        eligible=trues(length(molly_atoms_init), length(molly_atoms_init)), \n",
    "        n_steps=1e3,\n",
    "        dist_cutoff=8u\"Å\")\n",
    "\n",
    "    # Initialize the system with the initial positions and velocities\n",
    "    system_init = Molly.System(\n",
    "    atoms=molly_atoms_init,\n",
    "    atoms_data = [AtomData(element=\"Al\", atom_type=string(attypes[ia])) for (ia,a) in enumerate(molly_atoms_init)],\n",
    "    coords=atom_positions_init,  # Ensure these are SVector with correct units\n",
    "    boundary=boundary_condition,\n",
    "    # loggers=Dict(:kinetic_eng => Molly.KineticEnergyLogger(100), :pot_eng => Molly.PotentialEnergyLogger(100)),\n",
    "    neighbor_finder = DNF,\n",
    "    loggers=loggers,\n",
    "    energy_units=u\"eV\",  # Ensure these units are correctly specified\n",
    "    force_units=u\"eV/Å\"  # Ensure these units are correctly specified\n",
    "    )\n",
    "    return system_init\n",
    "end"
   ]
  },
  {
   "cell_type": "code",
   "execution_count": 4,
   "metadata": {},
   "outputs": [
    {
     "data": {
      "text/plain": [
       "System with 2046 atoms, boundary CubicBoundary{Quantity{Float64, 𝐋, Unitful.FreeUnits{(Å,), 𝐋, nothing}}}(Quantity{Float64, 𝐋, Unitful.FreeUnits{(Å,), 𝐋, nothing}}[32.39519588960027 Å, 32.39519588960027 Å, 32.39519588960027 Å])"
      ]
     },
     "execution_count": 4,
     "metadata": {},
     "output_type": "execute_result"
    }
   ],
   "source": [
    "filename_dump = \"./out_divacancy.dump\"\n",
    "# filename_dump = \"./out_vacancy_big.dump\"\n",
    "molly_system = initialize_system_dump(filename_dump = filename_dump)\n",
    "# neighbors_all = get_neighbors_all(molly_system)"
   ]
  },
  {
   "cell_type": "code",
   "execution_count": 5,
   "metadata": {},
   "outputs": [],
   "source": [
    "for i in 1:length(molly_system.coords)\n",
    "    random_direction = randn(size(molly_system.coords[i]))\n",
    "    molly_system.coords[i] += 0.1u\"Å\" * random_direction*1\n",
    "end"
   ]
  },
  {
   "cell_type": "code",
   "execution_count": 6,
   "metadata": {},
   "outputs": [
    {
     "name": "stdout",
     "output_type": "stream",
     "text": [
      "LAMMPS (29 Aug 2024)\n",
      "OMP_NUM_THREADS environment is not set. Defaulting to 1 thread. (src/comm.cpp:98)\n",
      "  using 1 OpenMP thread(s) per MPI task\n",
      "Created orthogonal box = (0 0 0) to (32.395196 32.395196 32.395196)\n",
      "  1 by 1 by 1 MPI processor grid\n",
      "WARNING: No fixes with time integration, atoms won't move (src/verlet.cpp:60)\n",
      "Neighbor list info ...\n",
      "  update: every = 1 steps, delay = 0 steps, check = yes\n",
      "  max neighbors/atom: 2000, page size: 100000\n",
      "  master list distance cutoff = 8.28721\n",
      "  ghost atom cutoff = 8.28721\n",
      "  binsize = 4.143605, bins = 8 8 8\n",
      "  1 neighbor lists, perpetual/occasional/extra = 1 0 0\n",
      "  (1) pair eam/alloy, perpetual\n",
      "      attributes: half, newton on\n",
      "      pair build: half/bin/atomonly/newton\n",
      "      stencil: half/bin/3d\n",
      "      bin: standard\n",
      "Setting up Verlet run ...\n",
      "  Unit style    : metal\n",
      "  Current step  : 0\n",
      "  Time step     : 0.001\n",
      "Per MPI rank memory allocation (min/avg/max) = 3.935 | 3.935 | 3.935 Mbytes\n",
      "   Step          Temp          E_pair         E_mol          TotEng         Press     \n",
      "         0   0             -6727.7196      0             -6727.7196      14342.174    \n",
      "Loop time of 2.583e-06 on 1 procs for 0 steps with 2046 atoms\n",
      "\n",
      "193.6% CPU use with 1 MPI tasks x 1 OpenMP threads\n",
      "\n",
      "MPI task timing breakdown:\n",
      "Section |  min time  |  avg time  |  max time  |%varavg| %total\n",
      "---------------------------------------------------------------\n",
      "Pair    | 0          | 0          | 0          |   0.0 |  0.00\n",
      "Neigh   | 0          | 0          | 0          |   0.0 |  0.00\n",
      "Comm    | 0          | 0          | 0          |   0.0 |  0.00\n",
      "Output  | 0          | 0          | 0          |   0.0 |  0.00\n",
      "Modify  | 0          | 0          | 0          |   0.0 |  0.00\n",
      "Other   |            | 2.583e-06  |            |       |100.00\n",
      "\n",
      "Nlocal:           2046 ave        2046 max        2046 min\n",
      "Histogram: 1 0 0 0 0 0 0 0 0 0\n",
      "Nghost:           5706 ave        5706 max        5706 min\n",
      "Histogram: 1 0 0 0 0 0 0 0 0 0\n",
      "Neighs:         143051 ave      143051 max      143051 min\n",
      "Histogram: 1 0 0 0 0 0 0 0 0 0\n",
      "\n",
      "Total # of neighbors = 143051\n",
      "Ave neighs/atom = 69.9174\n",
      "Neighbor list builds = 0\n",
      "Dangerous builds = 0\n",
      "Total wall time: 0:00:00\n"
     ]
    },
    {
     "data": {
      "text/plain": [
       "2046-element Vector{SVector{3, Quantity{Float64, 𝐋 𝐌 𝐓^-2, Unitful.FreeUnits{(Å^-1, eV), 𝐋 𝐌 𝐓^-2, nothing}}}}:\n",
       " [0.6324860069536028 eV Å^-1, 0.23582168964858782 eV Å^-1, 0.32279167480246107 eV Å^-1]\n",
       " [-0.553860171422416 eV Å^-1, -1.015962719957699 eV Å^-1, -0.07765470750507238 eV Å^-1]\n",
       " [-0.01641272606743365 eV Å^-1, -0.7029391889660167 eV Å^-1, -0.9180115570517074 eV Å^-1]\n",
       " [-0.0794594363016417 eV Å^-1, -0.4323191780912867 eV Å^-1, 0.49821447950127973 eV Å^-1]\n",
       " [0.04161732717668302 eV Å^-1, 0.022948094175482252 eV Å^-1, 0.1705259535814054 eV Å^-1]\n",
       " [-0.5172373153848187 eV Å^-1, -0.17224461990403744 eV Å^-1, 0.7122036515977234 eV Å^-1]\n",
       " [0.1661464480390545 eV Å^-1, -0.38500446955868306 eV Å^-1, -0.34538316413588677 eV Å^-1]\n",
       " [0.33733994757548214 eV Å^-1, -0.3354124299580391 eV Å^-1, 1.0077403081659877 eV Å^-1]\n",
       " [0.12180119816901505 eV Å^-1, 0.6033301645419237 eV Å^-1, -0.48531683788328145 eV Å^-1]\n",
       " [-0.6341678290901986 eV Å^-1, 0.4592996170226181 eV Å^-1, -0.22712703716546004 eV Å^-1]\n",
       " [-0.13646714455408232 eV Å^-1, -0.5093853208763027 eV Å^-1, 0.5034804819760468 eV Å^-1]\n",
       " [-0.2748972465926654 eV Å^-1, -0.19512211872502008 eV Å^-1, 0.5989162010735266 eV Å^-1]\n",
       " [-0.20783961382216862 eV Å^-1, -0.2145798921066282 eV Å^-1, -0.13423947167532152 eV Å^-1]\n",
       " ⋮\n",
       " [-0.034302121077917073 eV Å^-1, 0.5576643669069218 eV Å^-1, 0.7208046832197481 eV Å^-1]\n",
       " [0.4087637485083026 eV Å^-1, -0.21257335091117957 eV Å^-1, 1.4222618582815127 eV Å^-1]\n",
       " [0.03667669756208035 eV Å^-1, -0.3923676854679998 eV Å^-1, -0.4444067054991271 eV Å^-1]\n",
       " [-0.847683652514066 eV Å^-1, -1.6773429594865386 eV Å^-1, -0.7912093921381548 eV Å^-1]\n",
       " [-0.4885574698407964 eV Å^-1, 0.8626268681104504 eV Å^-1, -0.4310511395456075 eV Å^-1]\n",
       " [-0.9558069301107813 eV Å^-1, 0.6482258716800978 eV Å^-1, 0.026953520064133638 eV Å^-1]\n",
       " [0.40569478845085866 eV Å^-1, -0.27371533824309224 eV Å^-1, -0.28445748464191356 eV Å^-1]\n",
       " [-0.6729990036638088 eV Å^-1, -0.3029537854613381 eV Å^-1, 0.8666749111301215 eV Å^-1]\n",
       " [0.9951925616376149 eV Å^-1, 1.660681253779655 eV Å^-1, -0.5266082025358166 eV Å^-1]\n",
       " [0.3656275853008063 eV Å^-1, 0.0446691716891468 eV Å^-1, 0.11528560830333552 eV Å^-1]\n",
       " [-0.7119685806324774 eV Å^-1, -1.3310468012477548 eV Å^-1, -0.6810516835877554 eV Å^-1]\n",
       " [0.7717916270846066 eV Å^-1, 0.38981599256010024 eV Å^-1, -0.4214488170668385 eV Å^-1]"
      ]
     },
     "execution_count": 6,
     "metadata": {},
     "output_type": "execute_result"
    }
   ],
   "source": [
    "# Create a LAMMPS instance\n",
    "lmp = LMP()\n",
    "\n",
    "# Define the atom style\n",
    "command(lmp, \"units metal\")\n",
    "command(lmp, \"dimension 3\")\n",
    "command(lmp, \"boundary p p p\")\n",
    "command(lmp, \"atom_style atomic\")\n",
    "\n",
    "# Define the simulation box according to molly_system.boundary\n",
    "boundary = molly_system.boundary\n",
    "box_x = ustrip(boundary[1])\n",
    "box_y = ustrip(boundary[2])\n",
    "box_z = ustrip(boundary[3])\n",
    "command(lmp, \"region box block 0 $(box_x) 0 $(box_y) 0 $(box_z)\")\n",
    "command(lmp, \"create_box 1 box\")\n",
    "\n",
    "# Get atom positions, indices and types\n",
    "ustripped_coords = map(ustrip, molly_system.coords)\n",
    "pos = convert(Matrix,(reshape(reinterpret(Float64, ustripped_coords),3,:)))\n",
    "types = map(atoms_data -> parse(Int32, atoms_data.atom_type), molly_system.atoms_data)\n",
    "indices = map(atoms -> Int32(atoms.index), molly_system.atoms)\n",
    "\n",
    "# Create atoms in LAMMPS\n",
    "LAMMPS.create_atoms(lmp, pos, indices, types)\n",
    "\n",
    "# Set atom type and mass\n",
    "command(lmp, \"mass 1 26.9815\")\n",
    "\n",
    "# Define interatomic potential\n",
    "command(lmp, \"pair_style eam/alloy\")\n",
    "command(lmp, \"pair_coeff * * Al99.eam.alloy Al\")\n",
    "\n",
    "# Compute force \n",
    "command(lmp, \"compute f all property/atom fx fy fz\")\n",
    "\n",
    "command(lmp, \"run 0\")\n",
    "\n",
    "f = gather(lmp, \"c_f\", Float64)\n",
    "LAMMPS.close!(lmp)\n",
    "\n",
    "f_transposed = transpose(f)\n",
    "f_converted = [SVector{3, typeof(1.0u\"eV/Å\")}(f_transposed[i,:]*1.0u\"eV/Å\"...) for i in 1:size(f_transposed, 1)]"
   ]
  },
  {
   "cell_type": "code",
   "execution_count": 7,
   "metadata": {},
   "outputs": [],
   "source": [
    "# function calculate_forces(sys::System, pair_coeff_string::String)\n",
    "#     # Create a LAMMPS instance\n",
    "#     lmp = LMP([\"-screen\",\"none\"])\n",
    "\n",
    "#     # Define the atom style\n",
    "#     command(lmp, \"units metal\")\n",
    "#     command(lmp, \"dimension 3\")\n",
    "#     command(lmp, \"boundary p p p\")\n",
    "#     command(lmp, \"atom_style atomic\")\n",
    "\n",
    "#     # Define the simulation box according to sys.boundary\n",
    "#     boundary = sys.boundary\n",
    "#     box_x = ustrip(boundary[1])\n",
    "#     box_y = ustrip(boundary[2])\n",
    "#     box_z = ustrip(boundary[3])\n",
    "#     command(lmp, \"region box block 0 $(box_x) 0 $(box_y) 0 $(box_z)\")\n",
    "#     command(lmp, \"create_box 1 box\")\n",
    "\n",
    "#     # Get atom positions, indices and types\n",
    "#     ustripped_coords = map(ustrip, sys.coords)\n",
    "#     pos = convert(Matrix, (reshape(reinterpret(Float64, ustripped_coords), 3, :)))\n",
    "#     types = map(atoms_data -> parse(Int32, atoms_data.atom_type), sys.atoms_data)\n",
    "#     indices = map(atoms -> Int32(atoms.index), sys.atoms)\n",
    "\n",
    "#     # Create atoms in LAMMPS\n",
    "#     LAMMPS.create_atoms(lmp, pos, indices, types)\n",
    "\n",
    "#     # Set atom type and mass\n",
    "#     command(lmp, \"mass 1 26.9815\")\n",
    "\n",
    "#     # Define interatomic potential\n",
    "#     command(lmp, \"pair_style eam/alloy\")\n",
    "#     command(lmp, pair_coeff_string)\n",
    "\n",
    "#     # Compute force \n",
    "#     command(lmp, \"compute f all property/atom fx fy fz\")\n",
    "\n",
    "#     command(lmp, \"run 0\")\n",
    "\n",
    "#     f = gather(lmp, \"c_f\", Float64)\n",
    "#     LAMMPS.close!(lmp)\n",
    "\n",
    "#     f_transposed = transpose(f)\n",
    "#     f_converted = [SVector{3, typeof(1.0u\"eV/Å\")}(f_transposed[i, :] * 1.0u\"eV/Å\"...) for i in 1:size(f_transposed, 1)]\n",
    "\n",
    "#     return f_converted\n",
    "# end"
   ]
  },
  {
   "cell_type": "code",
   "execution_count": 8,
   "metadata": {},
   "outputs": [],
   "source": [
    "# calculate_forces(molly_system, \"pair_coeff * * Al99.eam.alloy Al\")"
   ]
  },
  {
   "cell_type": "code",
   "execution_count": 9,
   "metadata": {},
   "outputs": [],
   "source": [
    "include(\"./juliaEAM.jl\")\n",
    "## `AtomCalculators` force/energy calculator and `Molly` simulator\n",
    "eam = EAM()\n",
    "fname = \"Al99.eam.alloy\"\n",
    "read_potential!(eam, fname)\n",
    "\n",
    "### Define customized interaction type in `AtomsCalculators`\n",
    "struct EAMInteractionJulia\n",
    "    calculator::Any  # Holds the ASE EAM calculator reference\n",
    "    f_energy::Any    # Holds the energy function\n",
    "    f_forces::Any    # Holds the forces function\n",
    "    f_atomstress::Any  # Holds the atomic level stresses function\n",
    "    pair_coeff_string::String  # Holds the pair coefficient string\n",
    "end"
   ]
  },
  {
   "cell_type": "code",
   "execution_count": 10,
   "metadata": {},
   "outputs": [
    {
     "data": {
      "text/plain": [
       "2046-element Vector{Vector{Int64}}:\n",
       " [2, 3, 4, 5, 6, 7, 8, 17, 18, 19  …  1949, 1950, 1951, 2029, 2031, 2041, 2042, 2044, 2045, 2046]\n",
       " [1, 3, 4, 5, 6, 7, 8, 9, 12, 17  …  1933, 1934, 1935, 1948, 1949, 1950, 1951, 1966, 2045, 2046]\n",
       " [1, 2, 4, 5, 6, 7, 8, 9, 12, 17  …  1279, 1293, 1405, 1600, 1933, 1934, 1935, 1950, 2045, 2046]\n",
       " [1, 2, 3, 5, 6, 7, 8, 17, 18, 19  …  1934, 1935, 1946, 1948, 1949, 1950, 1951, 1966, 2045, 2046]\n",
       " [1, 2, 3, 4, 6, 7, 8, 9, 10, 11  …  1054, 1149, 1150, 1165, 1277, 1933, 1934, 1950, 2045, 2046]\n",
       " [1, 2, 3, 4, 5, 7, 8, 9, 10, 11  …  1011, 1012, 1013, 1014, 1015, 1016, 1017, 1018, 1019, 1020]\n",
       " [1, 2, 3, 4, 5, 6, 8, 9, 10, 11  …  1011, 1012, 1013, 1014, 1015, 1016, 1017, 1018, 1019, 1020]\n",
       " [1, 2, 3, 4, 5, 6, 7, 9, 10, 11  …  1053, 1054, 1149, 1165, 1166, 1181, 1182, 1277, 1934, 1950]\n",
       " [2, 3, 5, 6, 7, 8, 10, 11, 12, 13  …  1014, 1015, 1016, 1017, 1018, 1019, 1020, 1021, 1022, 1023]\n",
       " [5, 6, 7, 8, 9, 11, 12, 13, 14, 15  …  1040, 1043, 1139, 1152, 1168, 1920, 1923, 1936, 1939, 2035]\n",
       " [5, 6, 7, 8, 9, 10, 12, 13, 14, 15  …  1040, 1136, 1139, 1152, 1155, 1168, 1264, 1267, 1923, 2035]\n",
       " [2, 3, 5, 6, 7, 8, 9, 10, 11, 13  …  927, 928, 935, 939, 1014, 1015, 1016, 1018, 1019, 1020]\n",
       " [6, 7, 9, 10, 11, 12, 14, 15, 16, 23  …  1922, 1923, 1936, 1938, 1939, 2019, 2032, 2033, 2034, 2035]\n",
       " ⋮\n",
       " [10, 11, 13, 14, 15, 16, 29, 31, 106, 109  …  2020, 2021, 2023, 2032, 2033, 2034, 2036, 2037, 2038, 2039]\n",
       " [110, 126, 783, 878, 879, 894, 895, 911, 1006, 1007  …  2033, 2034, 2035, 2037, 2038, 2039, 2040, 2041, 2042, 2043]\n",
       " [1024, 1025, 1026, 1028, 1029, 1030, 1031, 1032, 1033, 1034  …  2034, 2035, 2036, 2038, 2039, 2040, 2041, 2042, 2043, 2044]\n",
       " [1024, 1025, 1026, 1028, 1029, 1030, 1031, 1032, 1033, 1034  …  2035, 2036, 2037, 2039, 2040, 2041, 2042, 2043, 2044, 2046]\n",
       " [14, 15, 110, 126, 127, 783, 895, 910, 911, 1006  …  2033, 2034, 2035, 2036, 2037, 2038, 2040, 2041, 2042, 2043]\n",
       " [1028, 1029, 1030, 1032, 1033, 1034, 1036, 1109, 1113, 1121  …  2036, 2037, 2038, 2039, 2041, 2042, 2043, 2044, 2045, 2046]\n",
       " [1, 113, 769, 772, 868, 881, 884, 897, 900, 996  …  2036, 2037, 2038, 2039, 2040, 2042, 2043, 2044, 2045, 2046]\n",
       " [1, 97, 100, 113, 116, 868, 884, 897, 993, 996  …  2036, 2037, 2038, 2039, 2040, 2041, 2043, 2044, 2045, 2046]\n",
       " [1025, 1026, 1028, 1029, 1030, 1031, 1032, 1033, 1034, 1035  …  2036, 2037, 2038, 2039, 2040, 2041, 2042, 2044, 2045, 2046]\n",
       " [1, 97, 98, 100, 113, 114, 116, 740, 756, 769  …  2030, 2031, 2037, 2038, 2040, 2041, 2042, 2043, 2045, 2046]\n",
       " [1, 2, 3, 4, 5, 17, 97, 98, 100, 113  …  2028, 2029, 2030, 2031, 2040, 2041, 2042, 2043, 2044, 2046]\n",
       " [1, 2, 3, 4, 5, 82, 84, 97, 98, 99  …  2029, 2030, 2031, 2038, 2040, 2041, 2042, 2043, 2044, 2045]"
      ]
     },
     "execution_count": 10,
     "metadata": {},
     "output_type": "execute_result"
    }
   ],
   "source": [
    "include(\"./simulator.jl\")\n",
    "\n",
    "eamJulia = EAMInteractionJulia(eam,calculate_energy,calculate_forces_LAMMPS,calculate_atomstress,\"pair_coeff * * Al99.eam.alloy Al\")\n",
    "function Molly.forces(sys::System, interaction::EAMInteractionJulia, penalty_coords, sigma::typeof(1.0u\"Å\"), W::typeof(1.0u\"eV\"), neighbors_all::Vector{Vector{Int}};\n",
    "    n_threads::Integer=Threads.nthreads(), nopenalty_atoms=[]) \n",
    "    \n",
    "    fs = interaction.f_forces(sys, interaction.pair_coeff_string)\n",
    "\n",
    "    # Add penalty term to forces\n",
    "    if penalty_coords != nothing\n",
    "        fs += penalty_forces(sys, penalty_coords, sigma, W, nopenalty_atoms=nopenalty_atoms) # ev/Å\n",
    "        # print(maximum(norm.(penalty_forces(sys, penalty_coords, sigma, W))),\"\\n\")\n",
    "    end\n",
    "    return fs\n",
    "end\n",
    "\n",
    "# eamJulia = EAMInteractionJulia(eam,calculate_energy,calculate_forces,calculate_atomstress,\"pair_coeff * * Al99.eam.alloy Al\")\n",
    "# function Molly.forces(sys::System, interaction::EAMInteractionJulia, penalty_coords, sigma::typeof(1.0u\"Å\"), W::typeof(1.0u\"eV\"), neighbors_all::Vector{Vector{Int}};\n",
    "#     n_threads::Integer=Threads.nthreads(), nopenalty_atoms=[]) \n",
    "    \n",
    "#     fs = interaction.f_forces(interaction.calculator, sys, neighbors_all)\n",
    "\n",
    "#     # Add penalty term to forces\n",
    "#     if penalty_coords != nothing\n",
    "#         fs += penalty_forces(sys, penalty_coords, sigma, W, nopenalty_atoms=nopenalty_atoms) # ev/Å\n",
    "#         # print(maximum(norm.(penalty_forces(sys, penalty_coords, sigma, W))),\"\\n\")\n",
    "#     end\n",
    "#     return fs\n",
    "# end\n",
    "\n",
    "neighbors_all = get_neighbors_all(molly_system)"
   ]
  },
  {
   "cell_type": "code",
   "execution_count": 11,
   "metadata": {},
   "outputs": [],
   "source": [
    "# simulator = ABCSimulator(sigma=1.0*u\"Å\", W=1.0*u\"eV\", max_steps=1, max_steps_minimize=20, step_size_minimize=5e-3u\"ps\", tol=1e-6u\"eV/Å\")\n",
    "# Minimize_FIRE!(molly_system, simulator, eamJulia, nothing, neighbors_all;\n",
    "#          n_threads=1, frozen_atoms=[], neig_interval=5, print_nsteps=true,\n",
    "#          mass=26.9815u\"u\")"
   ]
  },
  {
   "cell_type": "code",
   "execution_count": 12,
   "metadata": {},
   "outputs": [],
   "source": [
    "for _ in 1:100\n",
    "    f_1 = calculate_forces_LAMMPS(molly_system, \"pair_coeff * * Al99.eam.alloy Al\")\n",
    "    sleep(0.00001)\n",
    "end"
   ]
  },
  {
   "cell_type": "code",
   "execution_count": 13,
   "metadata": {},
   "outputs": [],
   "source": [
    "for _ in 1:100\n",
    "    f_2 = calculate_forces(eam, molly_system, neighbors_all)\n",
    "    sleep(0.00001)\n",
    "end"
   ]
  },
  {
   "cell_type": "code",
   "execution_count": 18,
   "metadata": {},
   "outputs": [],
   "source": [
    "# Customized neighbor list calculator\n",
    "coords = molly_system.coords\n",
    "bounds = molly_system.boundary\n",
    "r_cutoff = 8u\"Å\"\n",
    "\n",
    "# determine cell number according to the cutoff radius\n",
    "n_cells = [ceil(Int, bounds[i]/r_cutoff) for i in 1:3]\n",
    "cell_size = bounds ./ n_cells\n",
    "\n",
    "# Initialize cell lists\n",
    "cell_list = [Int[] for _ in 1:prod(n_cells)] # list of cells\n",
    "cell_indices = fill(0, length(coords))\n",
    "\n",
    "# Assign atoms to cells\n",
    "for i in 1:length(coords)\n",
    "    coords_i = coords[i]\n",
    "    coords_i = coords_i .- floor.(coords_i ./ bounds) .* bounds\n",
    "    cell = Tuple(ceil(Int, coords_i[j] / cell_size[j]) for j in 1:3)\n",
    "    cell_index = (cell[1] - 1) * n_cells[2] * n_cells[3] + (cell[2] - 1) * n_cells[3] + cell[3]\n",
    "    push!(cell_list[cell_index], i) # Add atom index to cell list\n",
    "    cell_indices[i] = cell_index    # Record cell index for each atom\n",
    "end\n",
    "\n",
    "# Initialize neighbor list\n",
    "neighbor_list = [Int[] for _ in 1:length(coords)]\n",
    "\n",
    "# Loop over pairs of cells\n",
    "for i in 1:length(cell_list)\n",
    "    c1 = cell_list[i]\n",
    "    for j in i:length(cell_list)\n",
    "        c2 = cell_list[j]\n",
    "        for ii in c1\n",
    "            rx1, ry1, rz1 = coords[ii]\n",
    "            for jj in c2\n",
    "                if ii != jj\n",
    "                    rx, ry, rz = coords[jj]\n",
    "                    dx = rx1 - rx\n",
    "                    dy = ry1 - ry\n",
    "                    dz = rz1 - rz\n",
    "                    # Apply periodic boundary conditions\n",
    "                    dx -= round(dx / bounds[1]) * bounds[1]\n",
    "                    dy -= round(dy / bounds[2]) * bounds[2]\n",
    "                    dz -= round(dz / bounds[3]) * bounds[3]\n",
    "                    rsq = dx^2 + dy^2 + dz^2\n",
    "                    if rsq < r_cutoff^2\n",
    "                        push!(neighbor_list[ii], jj)\n",
    "                        push!(neighbor_list[jj], ii)\n",
    "                    end\n",
    "                end\n",
    "            end\n",
    "        end\n",
    "    end\n",
    "end"
   ]
  },
  {
   "cell_type": "code",
   "execution_count": 19,
   "metadata": {},
   "outputs": [
    {
     "data": {
      "text/plain": [
       "2046-element Vector{Vector{Int64}}:\n",
       " [2, 3, 4, 5, 6, 7, 8, 17, 18, 19  …  1949, 1950, 1951, 2029, 2031, 2041, 2042, 2044, 2045, 2046]\n",
       " [1, 3, 4, 5, 6, 7, 8, 9, 12, 17  …  1933, 1934, 1935, 1948, 1949, 1950, 1951, 1966, 2045, 2046]\n",
       " [1, 2, 4, 5, 6, 7, 8, 9, 12, 17  …  1279, 1293, 1405, 1600, 1933, 1934, 1935, 1950, 2045, 2046]\n",
       " [1, 2, 3, 5, 6, 7, 8, 17, 18, 19  …  1934, 1935, 1946, 1948, 1949, 1950, 1951, 1966, 2045, 2046]\n",
       " [1, 2, 3, 4, 6, 7, 8, 9, 10, 11  …  1054, 1149, 1150, 1165, 1277, 1933, 1934, 1950, 2045, 2046]\n",
       " [1, 2, 3, 4, 5, 7, 8, 9, 10, 11  …  1011, 1012, 1013, 1014, 1015, 1016, 1017, 1018, 1019, 1020]\n",
       " [1, 2, 3, 4, 5, 6, 8, 9, 10, 11  …  1011, 1012, 1013, 1014, 1015, 1016, 1017, 1018, 1019, 1020]\n",
       " [1, 2, 3, 4, 5, 6, 7, 9, 10, 11  …  1053, 1054, 1149, 1165, 1166, 1181, 1182, 1277, 1934, 1950]\n",
       " [2, 3, 5, 6, 7, 8, 10, 11, 12, 13  …  1014, 1015, 1016, 1017, 1018, 1019, 1020, 1021, 1022, 1023]\n",
       " [5, 6, 7, 8, 9, 11, 12, 13, 14, 15  …  1040, 1043, 1139, 1152, 1168, 1920, 1923, 1936, 1939, 2035]\n",
       " [5, 6, 7, 8, 9, 10, 12, 13, 14, 15  …  1040, 1136, 1139, 1152, 1155, 1168, 1264, 1267, 1923, 2035]\n",
       " [2, 3, 5, 6, 7, 8, 9, 10, 11, 13  …  927, 928, 935, 939, 1014, 1015, 1016, 1018, 1019, 1020]\n",
       " [6, 7, 9, 10, 11, 12, 14, 15, 16, 23  …  1922, 1923, 1936, 1938, 1939, 2019, 2032, 2033, 2034, 2035]\n",
       " ⋮\n",
       " [10, 11, 13, 14, 15, 16, 29, 31, 106, 109  …  2020, 2021, 2023, 2032, 2033, 2034, 2036, 2037, 2038, 2039]\n",
       " [110, 126, 783, 878, 879, 894, 895, 911, 1006, 1007  …  2033, 2034, 2035, 2037, 2038, 2039, 2040, 2041, 2042, 2043]\n",
       " [1024, 1025, 1026, 1028, 1029, 1030, 1031, 1032, 1033, 1034  …  2034, 2035, 2036, 2038, 2039, 2040, 2041, 2042, 2043, 2044]\n",
       " [1024, 1025, 1026, 1028, 1029, 1030, 1031, 1032, 1033, 1034  …  2035, 2036, 2037, 2039, 2040, 2041, 2042, 2043, 2044, 2046]\n",
       " [14, 15, 110, 126, 127, 783, 895, 910, 911, 1006  …  2033, 2034, 2035, 2036, 2037, 2038, 2040, 2041, 2042, 2043]\n",
       " [1028, 1029, 1030, 1032, 1033, 1034, 1036, 1109, 1113, 1121  …  2036, 2037, 2038, 2039, 2041, 2042, 2043, 2044, 2045, 2046]\n",
       " [1, 113, 769, 772, 868, 881, 884, 897, 900, 996  …  2036, 2037, 2038, 2039, 2040, 2042, 2043, 2044, 2045, 2046]\n",
       " [1, 97, 100, 113, 116, 868, 884, 897, 993, 996  …  2036, 2037, 2038, 2039, 2040, 2041, 2043, 2044, 2045, 2046]\n",
       " [1025, 1026, 1028, 1029, 1030, 1031, 1032, 1033, 1034, 1035  …  2036, 2037, 2038, 2039, 2040, 2041, 2042, 2044, 2045, 2046]\n",
       " [1, 97, 98, 100, 113, 114, 116, 740, 756, 769  …  2030, 2031, 2037, 2038, 2040, 2041, 2042, 2043, 2045, 2046]\n",
       " [1, 2, 3, 4, 5, 17, 97, 98, 100, 113  …  2028, 2029, 2030, 2031, 2040, 2041, 2042, 2043, 2044, 2046]\n",
       " [1, 2, 3, 4, 5, 82, 84, 97, 98, 99  …  2029, 2030, 2031, 2038, 2040, 2041, 2042, 2043, 2044, 2045]"
      ]
     },
     "execution_count": 19,
     "metadata": {},
     "output_type": "execute_result"
    }
   ],
   "source": [
    "neighbors_all = get_neighbors_all(molly_system)"
   ]
  }
 ],
 "metadata": {
  "kernelspec": {
   "display_name": "Julia 1.10.5",
   "language": "julia",
   "name": "julia-1.10"
  },
  "language_info": {
   "file_extension": ".jl",
   "mimetype": "application/julia",
   "name": "julia",
   "version": "1.10.5"
  }
 },
 "nbformat": 4,
 "nbformat_minor": 2
}
