{
 "cells": [
  {
   "cell_type": "code",
   "execution_count": 1,
   "metadata": {},
   "outputs": [
    {
     "name": "stderr",
     "output_type": "stream",
     "text": [
      "\u001b[32m\u001b[1m  Activating\u001b[22m\u001b[39m project at `~/Documents/ABCD_J/EAM/lammps_wrap`\n"
     ]
    }
   ],
   "source": [
    "cd(@__DIR__)\n",
    "ENV[\"CELLLISTMAP_8.3_WARNING\"] = \"false\"\n",
    "include(\"./juliaEAM.jl\")\n",
    "include(\"../../src/lammpsIO.jl\")\n",
    "\n",
    "using Pkg\n",
    "Pkg.activate(\".\")\n",
    "\n",
    "using Printf\n",
    "using AtomsCalculators\n",
    "using Unitful: Å, nm\n",
    "using StaticArrays: SVector\n",
    "using Molly\n",
    "using LinearAlgebra\n",
    "using DelimitedFiles\n",
    "using UnitfulAtomic\n",
    "import PeriodicTable\n",
    "using ProgressMeter\n",
    "using Random"
   ]
  },
  {
   "cell_type": "markdown",
   "metadata": {},
   "source": [
    "## Define Aluminum"
   ]
  },
  {
   "cell_type": "code",
   "execution_count": 2,
   "metadata": {},
   "outputs": [
    {
     "data": {
      "text/plain": [
       "simulate! (generic function with 1 method)"
      ]
     },
     "execution_count": 2,
     "metadata": {},
     "output_type": "execute_result"
    }
   ],
   "source": [
    "include(\"./juliaEAM.jl\")\n",
    "\n",
    "al_LatConst = 4.0495/10 # nm\n",
    "atom_mass = 26.9815u\"u\"  # Atomic mass of aluminum in grams per mole\n",
    "\n",
    "## `AtomCalculators` force/energy calculator and `Molly` simulator\n",
    "eam = EAM()\n",
    "fname = \"Al99.eam.alloy\"\n",
    "read_potential!(eam, fname)\n",
    "\n",
    "### Define customized interaction type in `AtomsCalculators`\n",
    "struct EAMInteractionJulia\n",
    "    calculator::Any  # Holds the ASE EAM calculator reference\n",
    "    f_energy::Any    # Holds the energy function\n",
    "    f_forces::Any    # Holds the forces function\n",
    "    f_atomstress::Any  # Holds the atomic level stresses function\n",
    "    pair_coeff_string::String  # Holds the pair coefficient string\n",
    "end\n",
    "\n",
    "include(\"./simulator.jl\")\n"
   ]
  },
  {
   "cell_type": "code",
   "execution_count": 3,
   "metadata": {},
   "outputs": [],
   "source": [
    "# eamJulia = EAMInteractionJulia(eam,calculate_energy,calculate_forces,calculate_atomstress,\"pair_coeff * * Al99.eam.alloy Al\")\n",
    "# function Molly.forces(sys::System, interaction::EAMInteractionJulia, penalty_coords, sigma::typeof(1.0u\"Å\"), W::typeof(1.0u\"eV\"), neighbors_all::Vector{Vector{Int}};\n",
    "#     n_threads::Integer=Threads.nthreads(), nopenalty_atoms=[]) \n",
    "    \n",
    "#     fs = interaction.f_forces(interaction.calculator, sys, neighbors_all)\n",
    "\n",
    "#     # Add penalty term to forces\n",
    "#     if penalty_coords != nothing\n",
    "#         fs += penalty_forces(sys, penalty_coords, sigma, W, nopenalty_atoms=nopenalty_atoms) # ev/Å\n",
    "#         # print(maximum(norm.(penalty_forces(sys, penalty_coords, sigma, W))),\"\\n\")\n",
    "#     end\n",
    "#     return fs\n",
    "# end\n",
    "\n",
    "eamJulia = EAMInteractionJulia(eam,calculate_energy,calculate_forces_LAMMPS,calculate_atomstress,\"pair_coeff * * Al99.eam.alloy Al\")\n",
    "function Molly.forces(sys::System, interaction::EAMInteractionJulia, penalty_coords, sigma::typeof(1.0u\"Å\"), W::typeof(1.0u\"eV\"), neighbors_all::Vector{Vector{Int}};\n",
    "    n_threads::Integer=Threads.nthreads(), nopenalty_atoms=[]) \n",
    "    \n",
    "    fs = interaction.f_forces(sys, interaction.pair_coeff_string)\n",
    "\n",
    "    # Add penalty term to forces\n",
    "    if penalty_coords != nothing\n",
    "        fs += penalty_forces(sys, penalty_coords, sigma, W, nopenalty_atoms=nopenalty_atoms) # ev/Å\n",
    "        # print(maximum(norm.(penalty_forces(sys, penalty_coords, sigma, W))),\"\\n\")\n",
    "    end\n",
    "    return fs\n",
    "end"
   ]
  },
  {
   "cell_type": "code",
   "execution_count": null,
   "metadata": {},
   "outputs": [
    {
     "data": {
      "text/plain": [
       "initialize_system_dump (generic function with 1 method)"
      ]
     },
     "execution_count": 4,
     "metadata": {},
     "output_type": "execute_result"
    }
   ],
   "source": [
    "function initialize_system_dump(;loggers=(coords=CoordinateLogger(1),),filename_dump=\"\")\n",
    "    n_atoms, box_size, coords_molly, attypes = lmpDumpReader(filename_dump)\n",
    "    molly_atoms = [Molly.Atom(index=i, charge=0, mass=atom_mass, \n",
    "                    #   σ=2.0u\"Å\" |> x -> uconvert(u\"nm\", x), ϵ=ϵ_kJ_per_mol\n",
    "                    ) for i in 1:length(coords_molly)]\n",
    "    # Specify boundary condition\n",
    "    boundary_condition = Molly.CubicBoundary(box_size[1],box_size[2],box_size[3])\n",
    "\n",
    "    atom_positions_init = copy(coords_molly)\n",
    "    molly_atoms_init = copy(molly_atoms)\n",
    "\n",
    "    DNF = DistanceNeighborFinder(\n",
    "        eligible=trues(length(molly_atoms_init), length(molly_atoms_init)),\n",
    "        n_steps=1e3,\n",
    "        dist_cutoff=8u\"Å\")\n",
    "    TNF = TreeNeighborFinder(\n",
    "        eligible=trues(length(molly_atoms_init), length(molly_atoms_init)), \n",
    "        n_steps=1e3,\n",
    "        dist_cutoff=8u\"Å\")\n",
    "\n",
    "    # Initialize the system with the initial positions and velocities\n",
    "    system_init = Molly.System(\n",
    "    atoms=molly_atoms_init,\n",
    "    atoms_data = [AtomData(element=\"Al\", atom_type=string(attypes[ia])) for (ia,a) in enumerate(molly_atoms_init)],\n",
    "    coords=atom_positions_init,  # Ensure these are SVector with correct units\n",
    "    boundary=boundary_condition,\n",
    "    # loggers=Dict(:kinetic_eng => Molly.KineticEnergyLogger(100), :pot_eng => Molly.PotentialEnergyLogger(100)),\n",
    "    neighbor_finder = DNF,\n",
    "    loggers=loggers,\n",
    "    energy_units=u\"eV\",  # Ensure these units are correctly specified\n",
    "    force_units=u\"eV/Å\"  # Ensure these units are correctly specified\n",
    "    )\n",
    "    return system_init\n",
    "end"
   ]
  },
  {
   "cell_type": "markdown",
   "metadata": {},
   "source": [
    "## Initialize sys"
   ]
  },
  {
   "cell_type": "code",
   "execution_count": 5,
   "metadata": {},
   "outputs": [
    {
     "data": {
      "text/plain": [
       "16368-element Vector{Vector{Int64}}:\n",
       " [257, 2193, 2449, 3095, 3097, 3098, 3099, 3100, 3101, 3102  …  12309, 12725, 12726, 12728, 12757, 12758, 12759, 12760, 12789, 13269]\n",
       " [3, 4, 5, 6, 7, 8, 9, 12, 33, 34  …  15411, 15889, 15890, 15891, 15892, 15921, 15922, 15923, 15924, 15955]\n",
       " [2, 4, 5, 6, 7, 8, 9, 12, 33, 34  …  9208, 9238, 9718, 12277, 12533, 14469, 15890, 15891, 15892, 15923]\n",
       " [2, 3, 5, 6, 7, 8, 33, 34, 35, 36  …  15889, 15890, 15891, 15892, 15919, 15921, 15922, 15923, 15924, 15955]\n",
       " [2, 3, 4, 6, 7, 8, 9, 10, 11, 12  …  8247, 8694, 8695, 8726, 9206, 12533, 14469, 15890, 15891, 15923]\n",
       " [2, 3, 4, 5, 7, 8, 9, 10, 11, 12  …  8160, 8161, 8162, 8163, 8164, 8165, 8166, 8167, 8168, 8172]\n",
       " [2, 3, 4, 5, 6, 8, 9, 10, 11, 12  …  8160, 8161, 8162, 8163, 8164, 8165, 8166, 8167, 8168, 8172]\n",
       " [2, 3, 4, 5, 6, 7, 9, 10, 11, 12  …  8246, 8247, 8694, 8726, 8727, 8758, 8759, 9206, 15891, 15923]\n",
       " [2, 3, 5, 6, 7, 8, 10, 11, 12, 13  …  8163, 8164, 8165, 8166, 8167, 8168, 8169, 8170, 8171, 8172]\n",
       " [5, 6, 7, 8, 9, 11, 12, 13, 14, 15  …  8164, 8165, 8166, 8167, 8168, 8169, 8170, 8171, 8172, 8176]\n",
       " [5, 6, 7, 8, 9, 10, 12, 13, 14, 15  …  8164, 8165, 8166, 8167, 8168, 8169, 8170, 8171, 8172, 8176]\n",
       " [2, 3, 5, 6, 7, 8, 9, 10, 11, 13  …  7724, 7747, 7751, 8162, 8163, 8164, 8166, 8167, 8168, 8172]\n",
       " [6, 7, 9, 10, 11, 12, 14, 15, 16, 17  …  8167, 8168, 8169, 8170, 8171, 8172, 8173, 8174, 8175, 8176]\n",
       " ⋮\n",
       " [8197, 8198, 8199, 8201, 8202, 8203, 8205, 8614, 8618, 8642  …  16354, 16355, 16356, 16358, 16359, 16360, 16361, 16362, 16363, 16364]\n",
       " [8197, 8198, 8199, 8201, 8202, 8203, 8204, 8205, 8206, 8207  …  16356, 16357, 16359, 16360, 16361, 16362, 16363, 16364, 16365, 16368]\n",
       " [8197, 8198, 8199, 8201, 8202, 8203, 8204, 8205, 8206, 8207  …  16356, 16357, 16358, 16360, 16361, 16362, 16363, 16364, 16365, 16368]\n",
       " [8194, 8195, 8197, 8198, 8199, 8200, 8201, 8202, 8203, 8204  …  16354, 16355, 16356, 16357, 16358, 16359, 16361, 16362, 16363, 16364]\n",
       " [8201, 8202, 8203, 8205, 8206, 8207, 8209, 8618, 8622, 8646  …  16358, 16359, 16360, 16362, 16363, 16364, 16365, 16366, 16367, 16368]\n",
       " [8201, 8202, 8203, 8205, 8206, 8207, 8208, 8209, 8210, 8211  …  16358, 16359, 16360, 16361, 16363, 16364, 16365, 16366, 16367, 16368]\n",
       " [8201, 8202, 8203, 8205, 8206, 8207, 8208, 8209, 8210, 8211  …  16358, 16359, 16360, 16361, 16362, 16364, 16365, 16366, 16367, 16368]\n",
       " [8198, 8199, 8201, 8202, 8203, 8204, 8205, 8206, 8207, 8208  …  16358, 16359, 16360, 16361, 16362, 16363, 16365, 16366, 16367, 16368]\n",
       " [8205, 8206, 8207, 8209, 8210, 8211, 8213, 8622, 8626, 8650  …  16340, 16358, 16359, 16361, 16362, 16363, 16364, 16366, 16367, 16368]\n",
       " [481, 7165, 7168, 7616, 7645, 7648, 7677, 7680, 8128, 8157  …  16338, 16339, 16340, 16361, 16362, 16363, 16364, 16365, 16367, 16368]\n",
       " [449, 452, 481, 484, 7616, 7648, 7677, 8125, 8128, 8157  …  16338, 16339, 16340, 16361, 16362, 16363, 16364, 16365, 16366, 16368]\n",
       " [8202, 8203, 8205, 8206, 8207, 8208, 8209, 8210, 8211, 8212  …  16340, 16358, 16359, 16361, 16362, 16363, 16364, 16365, 16366, 16367]"
      ]
     },
     "execution_count": 5,
     "metadata": {},
     "output_type": "execute_result"
    }
   ],
   "source": [
    "filename_dump = \"./out_vacancy_big_bcc.dump\"\n",
    "molly_system = initialize_system_dump(filename_dump = filename_dump)\n",
    "neighbors_all = get_neighbors_all(molly_system)"
   ]
  },
  {
   "cell_type": "markdown",
   "metadata": {},
   "source": [
    "energy minimization"
   ]
  },
  {
   "cell_type": "code",
   "execution_count": 6,
   "metadata": {},
   "outputs": [
    {
     "data": {
      "text/plain": [
       "16368-element Vector{Vector{Int64}}:\n",
       " [257, 2193, 2449, 3095, 3097, 3098, 3099, 3100, 3101, 3102  …  12309, 12725, 12726, 12728, 12757, 12758, 12759, 12760, 12789, 13269]\n",
       " [3, 4, 5, 6, 7, 8, 9, 12, 33, 34  …  15411, 15889, 15890, 15891, 15892, 15921, 15922, 15923, 15924, 15955]\n",
       " [2, 4, 5, 6, 7, 8, 9, 12, 33, 34  …  9208, 9238, 9718, 12277, 12533, 14469, 15890, 15891, 15892, 15923]\n",
       " [2, 3, 5, 6, 7, 8, 33, 34, 35, 36  …  15889, 15890, 15891, 15892, 15919, 15921, 15922, 15923, 15924, 15955]\n",
       " [2, 3, 4, 6, 7, 8, 9, 10, 11, 12  …  8247, 8694, 8695, 8726, 9206, 12533, 14469, 15890, 15891, 15923]\n",
       " [2, 3, 4, 5, 7, 8, 9, 10, 11, 12  …  8160, 8161, 8162, 8163, 8164, 8165, 8166, 8167, 8168, 8172]\n",
       " [2, 3, 4, 5, 6, 8, 9, 10, 11, 12  …  8160, 8161, 8162, 8163, 8164, 8165, 8166, 8167, 8168, 8172]\n",
       " [2, 3, 4, 5, 6, 7, 9, 10, 11, 12  …  8246, 8247, 8694, 8726, 8727, 8758, 8759, 9206, 15891, 15923]\n",
       " [2, 3, 5, 6, 7, 8, 10, 11, 12, 13  …  8163, 8164, 8165, 8166, 8167, 8168, 8169, 8170, 8171, 8172]\n",
       " [5, 6, 7, 8, 9, 11, 12, 13, 14, 15  …  8164, 8165, 8166, 8167, 8168, 8169, 8170, 8171, 8172, 8176]\n",
       " [5, 6, 7, 8, 9, 10, 12, 13, 14, 15  …  8164, 8165, 8166, 8167, 8168, 8169, 8170, 8171, 8172, 8176]\n",
       " [2, 3, 5, 6, 7, 8, 9, 10, 11, 13  …  7724, 7747, 7751, 8162, 8163, 8164, 8166, 8167, 8168, 8172]\n",
       " [6, 7, 9, 10, 11, 12, 14, 15, 16, 17  …  8167, 8168, 8169, 8170, 8171, 8172, 8173, 8174, 8175, 8176]\n",
       " ⋮\n",
       " [8197, 8198, 8199, 8201, 8202, 8203, 8205, 8614, 8618, 8642  …  16354, 16355, 16356, 16358, 16359, 16360, 16361, 16362, 16363, 16364]\n",
       " [8197, 8198, 8199, 8201, 8202, 8203, 8204, 8205, 8206, 8207  …  16356, 16357, 16359, 16360, 16361, 16362, 16363, 16364, 16365, 16368]\n",
       " [8197, 8198, 8199, 8201, 8202, 8203, 8204, 8205, 8206, 8207  …  16356, 16357, 16358, 16360, 16361, 16362, 16363, 16364, 16365, 16368]\n",
       " [8194, 8195, 8197, 8198, 8199, 8200, 8201, 8202, 8203, 8204  …  16354, 16355, 16356, 16357, 16358, 16359, 16361, 16362, 16363, 16364]\n",
       " [8201, 8202, 8203, 8205, 8206, 8207, 8209, 8618, 8622, 8646  …  16358, 16359, 16360, 16362, 16363, 16364, 16365, 16366, 16367, 16368]\n",
       " [8201, 8202, 8203, 8205, 8206, 8207, 8208, 8209, 8210, 8211  …  16358, 16359, 16360, 16361, 16363, 16364, 16365, 16366, 16367, 16368]\n",
       " [8201, 8202, 8203, 8205, 8206, 8207, 8208, 8209, 8210, 8211  …  16358, 16359, 16360, 16361, 16362, 16364, 16365, 16366, 16367, 16368]\n",
       " [8198, 8199, 8201, 8202, 8203, 8204, 8205, 8206, 8207, 8208  …  16358, 16359, 16360, 16361, 16362, 16363, 16365, 16366, 16367, 16368]\n",
       " [8205, 8206, 8207, 8209, 8210, 8211, 8213, 8622, 8626, 8650  …  16340, 16358, 16359, 16361, 16362, 16363, 16364, 16366, 16367, 16368]\n",
       " [481, 7165, 7168, 7616, 7645, 7648, 7677, 7680, 8128, 8157  …  16338, 16339, 16340, 16361, 16362, 16363, 16364, 16365, 16367, 16368]\n",
       " [449, 452, 481, 484, 7616, 7648, 7677, 8125, 8128, 8157  …  16338, 16339, 16340, 16361, 16362, 16363, 16364, 16365, 16366, 16368]\n",
       " [8202, 8203, 8205, 8206, 8207, 8208, 8209, 8210, 8211, 8212  …  16340, 16358, 16359, 16361, 16362, 16363, 16364, 16365, 16366, 16367]"
      ]
     },
     "execution_count": 6,
     "metadata": {},
     "output_type": "execute_result"
    }
   ],
   "source": [
    "simulator = ABCSimulator(sigma=1.0*u\"Å\", W=1.0*u\"eV\", max_steps=1, max_steps_minimize=20, step_size_minimize=5e-3u\"ps\", tol=1e-6u\"eV/Å\")\n",
    "Minimize_FIRE!(molly_system, simulator, eamJulia, nothing, neighbors_all;\n",
    "         n_threads=1, frozen_atoms=[], neig_interval=5, print_nsteps=true,\n",
    "         mass=26.9815u\"u\")\n",
    "neighbors_all = get_neighbors_all(molly_system)"
   ]
  },
  {
   "cell_type": "markdown",
   "metadata": {},
   "source": [
    "run ABC"
   ]
  },
  {
   "cell_type": "code",
   "execution_count": 7,
   "metadata": {},
   "outputs": [
    {
     "name": "stdout",
     "output_type": "stream",
     "text": [
      "exclude 0 atoms from E_phi calculation\n",
      "using 16368 atoms for E_phi calculation\n",
      "sigma^2 = 2.500000e-01, 2.256377e-03 Å/dof^1/2\n",
      " W = 1.200000e-01 eV\n",
      "step 0: -54985.68180225951 eV\n"
     ]
    },
    {
     "name": "stderr",
     "output_type": "stream",
     "text": [
      "\u001b[32mProgress: 100%|█████████████████████████████████████████| Time: 2:38:55\u001b[39m\n"
     ]
    },
    {
     "data": {
      "text/plain": [
       "System with 16368 atoms, boundary CubicBoundary{Quantity{Float64, 𝐋, Unitful.FreeUnits{(Å,), 𝐋, nothing}}}(Quantity{Float64, 𝐋, Unitful.FreeUnits{(Å,), 𝐋, nothing}}[64.78996211866995 Å, 64.78996211866995 Å, 64.78996211866995 Å])"
      ]
     },
     "execution_count": 7,
     "metadata": {},
     "output_type": "execute_result"
    }
   ],
   "source": [
    "frozen_atoms = []\n",
    "nopenalty_atoms = []\n",
    "N_free = length(molly_system.coords)-length(nopenalty_atoms)\n",
    "print(\"exclude \",length(nopenalty_atoms),\" atoms from E_phi calculation\\n\")\n",
    "print(\"using \",N_free,\" atoms for E_phi calculation\\n\")\n",
    "\n",
    "# sigma = sqrt(0.006*3*N_free)\n",
    "sigma = sqrt(0.25)\n",
    "W = 0.12\n",
    "@printf(\"sigma^2 = %e, %e Å/dof^1/2\\n W = %e eV\\n\",ustrip(sigma^2), ustrip(sigma/sqrt(3*N_free)),ustrip(W))\n",
    "\n",
    "simulator = ABCSimulator(sigma=sigma*u\" Å\", W=W*u\"eV\", \n",
    "                         max_steps=1000, max_steps_minimize=30, step_size_minimize=5e-3u\"ps\", tol=1e-3u\"eV/Å\")\n",
    "\n",
    "simulate!(molly_system, simulator, eamJulia, n_threads=1, \n",
    "         #   fname=\"output_stress_cube8.txt\", fname_dump=\"stress_cube8.dump\", fname_min_dump=\"min_stress_cube8.dump\",\n",
    "         fname=\"test.txt\", fname_dump=\"test.dump\", fname_min_dump=\"test.dump\", # for speed test\n",
    "         neig_interval=30, loggers_interval=10, dump_interval=10, start_dump=0,\n",
    "         minimize_only=false, \n",
    "         d_boost=1e-6u\"Å\", \n",
    "         frozen_atoms=frozen_atoms, nopenalty_atoms=nopenalty_atoms, \n",
    "         p_drop = 1-1/32, p_keep=0, n_memory=0, n_search=100,\n",
    "         p_stress = 1-12/16384)"
   ]
  },
  {
   "cell_type": "code",
   "execution_count": null,
   "metadata": {},
   "outputs": [],
   "source": []
  }
 ],
 "metadata": {
  "kernelspec": {
   "display_name": "Julia 1.10.5",
   "language": "julia",
   "name": "julia-1.10"
  },
  "language_info": {
   "file_extension": ".jl",
   "mimetype": "application/julia",
   "name": "julia",
   "version": "1.10.5"
  }
 },
 "nbformat": 4,
 "nbformat_minor": 2
}
