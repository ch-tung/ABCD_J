{
 "cells": [
  {
   "cell_type": "code",
   "execution_count": 1,
   "metadata": {},
   "outputs": [
    {
     "name": "stderr",
     "output_type": "stream",
     "text": [
      "\u001b[32m\u001b[1m  Activating\u001b[22m\u001b[39m new project at `~/Documents/ABCD_J/EAM/surface`\n"
     ]
    }
   ],
   "source": [
    "cd(@__DIR__)\n",
    "ENV[\"CELLLISTMAP_8.3_WARNING\"] = \"false\"\n",
    "include(\"../lammps_wrap/juliaEAM.jl\")\n",
    "include(\"../../src/lammpsIO.jl\")\n",
    "\n",
    "using Pkg\n",
    "Pkg.activate(\".\")\n",
    "\n",
    "using Printf\n",
    "using AtomsCalculators\n",
    "using Unitful: Å, nm\n",
    "using StaticArrays: SVector\n",
    "using Molly\n",
    "using LinearAlgebra\n",
    "using DelimitedFiles\n",
    "using UnitfulAtomic\n",
    "import PeriodicTable\n",
    "using ProgressMeter\n",
    "using Random"
   ]
  },
  {
   "cell_type": "markdown",
   "metadata": {},
   "source": [
    "## Define Copper"
   ]
  },
  {
   "cell_type": "code",
   "execution_count": 2,
   "metadata": {},
   "outputs": [
    {
     "data": {
      "text/plain": [
       "simulate! (generic function with 1 method)"
      ]
     },
     "execution_count": 2,
     "metadata": {},
     "output_type": "execute_result"
    }
   ],
   "source": [
    "# include(\"../lammps_wrap/juliaEAM.jl\")\n",
    "\n",
    "Cu_LatConst = 3.615/10 # nm\n",
    "atom_mass = 63.546u\"u\"  # Atomic mass of aluminum in grams per mole\n",
    "\n",
    "## `AtomCalculators` force/energy calculator and `Molly` simulator\n",
    "eam = EAM()\n",
    "fname = \"Cu_Zhou04.eam.alloy\"\n",
    "read_potential!(eam, fname)\n",
    "\n",
    "### Define customized interaction type in `AtomsCalculators`\n",
    "struct EAMInteractionJulia\n",
    "    calculator::Any  # Holds the ASE EAM calculator reference\n",
    "    f_energy::Any    # Holds the energy function\n",
    "    f_forces::Any    # Holds the forces function\n",
    "    f_atomstress::Any  # Holds the atomic level stresses function\n",
    "    pair_coeff_string::String  # Holds the pair coefficient string\n",
    "end\n",
    "\n",
    "include(\"../lammps_wrap/simulator.jl\")\n"
   ]
  },
  {
   "cell_type": "code",
   "execution_count": 3,
   "metadata": {},
   "outputs": [],
   "source": [
    "# eamJulia = EAMInteractionJulia(eam,calculate_energy,calculate_forces,calculate_atomstress,\"pair_coeff * * Al99.eam.alloy Al\")\n",
    "# function Molly.forces(sys::System, interaction::EAMInteractionJulia, penalty_coords, sigma::typeof(1.0u\"Å\"), W::typeof(1.0u\"eV\"), neighbors_all::Vector{Vector{Int}};\n",
    "#     n_threads::Integer=Threads.nthreads(), nopenalty_atoms=[]) \n",
    "    \n",
    "#     fs = interaction.f_forces(interaction.calculator, sys, neighbors_all)\n",
    "\n",
    "#     # Add penalty term to forces\n",
    "#     if penalty_coords != nothing\n",
    "#         fs += penalty_forces(sys, penalty_coords, sigma, W, nopenalty_atoms=nopenalty_atoms) # ev/Å\n",
    "#         # print(maximum(norm.(penalty_forces(sys, penalty_coords, sigma, W))),\"\\n\")\n",
    "#     end\n",
    "#     return fs\n",
    "# end\n",
    "\n",
    "eamJulia = EAMInteractionJulia(eam,calculate_energy,calculate_forces_LAMMPS,calculate_atomstress,\"pair_coeff * * Cu_Zhou04.eam.alloy Cu\")\n",
    "function Molly.forces(sys::System, interaction::EAMInteractionJulia, penalty_coords, sigma::typeof(1.0u\"Å\"), W::typeof(1.0u\"eV\"), neighbors_all::Vector{Vector{Int}};\n",
    "    n_threads::Integer=Threads.nthreads(), nopenalty_atoms=[]) \n",
    "    \n",
    "    fs = interaction.f_forces(sys, interaction.pair_coeff_string)\n",
    "\n",
    "    # Add penalty term to forces\n",
    "    if penalty_coords != nothing\n",
    "        fs += penalty_forces(sys, penalty_coords, sigma, W, nopenalty_atoms=nopenalty_atoms) # ev/Å\n",
    "        # print(maximum(norm.(penalty_forces(sys, penalty_coords, sigma, W))),\"\\n\")\n",
    "    end\n",
    "    return fs\n",
    "end"
   ]
  },
  {
   "cell_type": "code",
   "execution_count": 4,
   "metadata": {},
   "outputs": [
    {
     "data": {
      "text/plain": [
       "initialize_system_dump (generic function with 1 method)"
      ]
     },
     "execution_count": 4,
     "metadata": {},
     "output_type": "execute_result"
    }
   ],
   "source": [
    "function initialize_system_dump(;loggers=(coords=CoordinateLogger(1),),filename_dump=\"\")\n",
    "    n_atoms, box_size, coords_molly, attypes = lmpDumpReader(filename_dump)\n",
    "    molly_atoms = [Molly.Atom(index=i, charge=0, mass=atom_mass, \n",
    "                    #   σ=2.0u\"Å\" |> x -> uconvert(u\"nm\", x), ϵ=ϵ_kJ_per_mol\n",
    "                    ) for i in 1:length(coords_molly)]\n",
    "    # Specify boundary condition\n",
    "    boundary_condition = Molly.CubicBoundary(box_size[1],box_size[2],box_size[3])\n",
    "\n",
    "    atom_positions_init = copy(coords_molly)\n",
    "    molly_atoms_init = copy(molly_atoms)\n",
    "\n",
    "    DNF = DistanceNeighborFinder(\n",
    "        eligible=trues(length(molly_atoms_init), length(molly_atoms_init)),\n",
    "        n_steps=1e3,\n",
    "        dist_cutoff=7u\"Å\")\n",
    "    TNF = TreeNeighborFinder(\n",
    "        eligible=trues(length(molly_atoms_init), length(molly_atoms_init)), \n",
    "        n_steps=1e3,\n",
    "        dist_cutoff=7u\"Å\")\n",
    "\n",
    "    # Initialize the system with the initial positions and velocities\n",
    "    system_init = Molly.System(\n",
    "    atoms=molly_atoms_init,\n",
    "    atoms_data = [AtomData(element=\"Cu\", atom_type=string(attypes[ia])) for (ia,a) in enumerate(molly_atoms_init)],\n",
    "    coords=atom_positions_init,  # Ensure these are SVector with correct units\n",
    "    boundary=boundary_condition,\n",
    "    # loggers=Dict(:kinetic_eng => Molly.KineticEnergyLogger(100), :pot_eng => Molly.PotentialEnergyLogger(100)),\n",
    "    neighbor_finder = DNF,\n",
    "    loggers=loggers,\n",
    "    energy_units=u\"eV\",  # Ensure these units are correctly specified\n",
    "    force_units=u\"eV/Å\"  # Ensure these units are correctly specified\n",
    "    )\n",
    "    return system_init\n",
    "end"
   ]
  },
  {
   "cell_type": "markdown",
   "metadata": {},
   "source": [
    "## Initialize sys"
   ]
  },
  {
   "cell_type": "code",
   "execution_count": 5,
   "metadata": {},
   "outputs": [
    {
     "data": {
      "text/plain": [
       "7180-element Vector{Vector{Int64}}:\n",
       " [25, 1021, 1045, 1729, 1753, 2500, 2538, 2539, 2540, 2542  …  6511, 6551, 6553, 6555, 6557, 6751, 6791, 6792, 6795, 6796]\n",
       " [3, 4, 5, 6, 7, 8, 9, 12, 45, 46  …  3876, 3877, 3878, 4119, 4120, 4122, 4123, 4124, 4126, 4164]\n",
       " [2, 4, 5, 6, 7, 8, 9, 12, 45, 46  …  4130, 4163, 4164, 4165, 4166, 4407, 4408, 4411, 4412, 4452]\n",
       " [2, 3, 5, 6, 7, 8, 42, 43, 45, 46  …  4123, 4124, 4126, 4160, 4163, 4164, 4165, 4166, 4408, 4452]\n",
       " [2, 3, 4, 6, 7, 8, 9, 10, 11, 12  …  4121, 4122, 4123, 4124, 4125, 4126, 4127, 4128, 4130, 4164]\n",
       " [2, 3, 4, 5, 7, 8, 9, 10, 11, 12  …  3841, 3842, 3846, 4120, 4123, 4124, 4126, 4127, 4128, 4130]\n",
       " [2, 3, 4, 5, 6, 8, 9, 10, 11, 12  …  4128, 4129, 4130, 4131, 4134, 4408, 4411, 4412, 4415, 4416]\n",
       " [2, 3, 4, 5, 6, 7, 9, 10, 11, 12  …  4123, 4124, 4125, 4126, 4127, 4128, 4130, 4164, 4408, 4412]\n",
       " [2, 3, 5, 6, 7, 8, 10, 11, 12, 13  …  4124, 4125, 4126, 4127, 4128, 4129, 4130, 4131, 4132, 4134]\n",
       " [5, 6, 7, 8, 9, 11, 12, 13, 14, 15  …  3845, 3846, 3850, 4124, 4127, 4128, 4130, 4131, 4132, 4134]\n",
       " [5, 6, 7, 8, 9, 10, 12, 13, 14, 15  …  4132, 4133, 4134, 4135, 4138, 4412, 4415, 4416, 4419, 4420]\n",
       " [2, 3, 5, 6, 7, 8, 9, 10, 11, 13  …  4126, 4127, 4128, 4129, 4130, 4131, 4132, 4134, 4412, 4416]\n",
       " [6, 7, 9, 10, 11, 12, 14, 15, 16, 17  …  4128, 4129, 4130, 4131, 4132, 4133, 4134, 4135, 4136, 4138]\n",
       " ⋮\n",
       " [6570, 6574, 6613, 6617, 6618, 6621, 6622, 6661, 6665, 6666  …  7143, 7144, 7147, 7148, 7162, 7165, 7166, 7170, 7173, 7174]\n",
       " [6565, 6566, 6569, 6570, 6574, 6613, 6614, 6617, 6618, 6622  …  7143, 7144, 7147, 7148, 7165, 7166, 7169, 7173, 7174, 7177]\n",
       " [6545, 6546, 6549, 6550, 6554, 6593, 6594, 6597, 6598, 6602  …  7141, 7142, 7145, 7146, 7164, 7167, 7168, 7172, 7175, 7176]\n",
       " [6550, 6554, 6593, 6597, 6598, 6601, 6602, 6641, 6645, 6646  …  7141, 7142, 7145, 7146, 7167, 7168, 7171, 7175, 7176, 7179]\n",
       " [6566, 6570, 6609, 6613, 6614, 6617, 6618, 6657, 6661, 6662  …  7139, 7140, 7143, 7144, 7166, 7169, 7170, 7174, 7177, 7178]\n",
       " [6561, 6562, 6565, 6566, 6570, 6609, 6610, 6613, 6614, 6618  …  7139, 7140, 7143, 7144, 7169, 7170, 7173, 7177, 7178, 7180]\n",
       " [6549, 6550, 6553, 6554, 6558, 6597, 6598, 6601, 6602, 6606  …  7137, 7138, 7141, 7142, 7168, 7171, 7172, 7176, 7179, 7180]\n",
       " [6554, 6558, 6597, 6601, 6602, 6605, 6606, 6645, 6649, 6650  …  7137, 7138, 7141, 7142, 7171, 7172, 7175, 7178, 7179, 7180]\n",
       " [6562, 6566, 6609, 6610, 6613, 6614, 6653, 6657, 6658, 6661  …  7134, 7135, 7136, 7139, 7140, 7170, 7173, 7174, 7178, 7180]\n",
       " [6561, 6562, 6566, 6605, 6606, 6609, 6610, 6614, 6653, 6654  …  7136, 7137, 7139, 7140, 7173, 7174, 7176, 7177, 7179, 7180]\n",
       " [6514, 6553, 6554, 6557, 6558, 6562, 6601, 6602, 6605, 6606  …  7134, 7135, 7136, 7137, 7138, 7172, 7175, 7176, 7178, 7180]\n",
       " [6514, 6558, 6561, 6562, 6601, 6605, 6606, 6609, 6610, 6649  …  7136, 7137, 7138, 7139, 7174, 7175, 7176, 7177, 7178, 7179]"
      ]
     },
     "execution_count": 5,
     "metadata": {},
     "output_type": "execute_result"
    }
   ],
   "source": [
    "filename_dump = \"./out_surface.dump\"\n",
    "molly_system = initialize_system_dump(filename_dump = filename_dump)\n",
    "neighbors_all = get_neighbors_all(molly_system)"
   ]
  },
  {
   "cell_type": "markdown",
   "metadata": {},
   "source": [
    "energy minimization"
   ]
  },
  {
   "cell_type": "code",
   "execution_count": 6,
   "metadata": {},
   "outputs": [
    {
     "data": {
      "text/plain": [
       "7180-element Vector{Vector{Int64}}:\n",
       " [25, 1021, 1045, 1729, 1753, 2500, 2538, 2539, 2540, 2542  …  6511, 6551, 6553, 6555, 6557, 6751, 6791, 6792, 6795, 6796]\n",
       " [3, 4, 5, 6, 7, 8, 9, 12, 45, 46  …  3876, 3877, 3878, 4119, 4120, 4122, 4123, 4124, 4126, 4164]\n",
       " [2, 4, 5, 6, 7, 8, 9, 12, 45, 46  …  4130, 4163, 4164, 4165, 4166, 4407, 4408, 4411, 4412, 4452]\n",
       " [2, 3, 5, 6, 7, 8, 42, 43, 45, 46  …  4123, 4124, 4126, 4160, 4163, 4164, 4165, 4166, 4408, 4452]\n",
       " [2, 3, 4, 6, 7, 8, 9, 10, 11, 12  …  4121, 4122, 4123, 4124, 4125, 4126, 4127, 4128, 4130, 4164]\n",
       " [2, 3, 4, 5, 7, 8, 9, 10, 11, 12  …  3841, 3842, 3846, 4120, 4123, 4124, 4126, 4127, 4128, 4130]\n",
       " [2, 3, 4, 5, 6, 8, 9, 10, 11, 12  …  4128, 4129, 4130, 4131, 4134, 4408, 4411, 4412, 4415, 4416]\n",
       " [2, 3, 4, 5, 6, 7, 9, 10, 11, 12  …  4123, 4124, 4125, 4126, 4127, 4128, 4130, 4164, 4408, 4412]\n",
       " [2, 3, 5, 6, 7, 8, 10, 11, 12, 13  …  4124, 4125, 4126, 4127, 4128, 4129, 4130, 4131, 4132, 4134]\n",
       " [5, 6, 7, 8, 9, 11, 12, 13, 14, 15  …  3845, 3846, 3850, 4124, 4127, 4128, 4130, 4131, 4132, 4134]\n",
       " [5, 6, 7, 8, 9, 10, 12, 13, 14, 15  …  4132, 4133, 4134, 4135, 4138, 4412, 4415, 4416, 4419, 4420]\n",
       " [2, 3, 5, 6, 7, 8, 9, 10, 11, 13  …  4126, 4127, 4128, 4129, 4130, 4131, 4132, 4134, 4412, 4416]\n",
       " [6, 7, 9, 10, 11, 12, 14, 15, 16, 17  …  4128, 4129, 4130, 4131, 4132, 4133, 4134, 4135, 4136, 4138]\n",
       " ⋮\n",
       " [6570, 6574, 6613, 6617, 6618, 6621, 6622, 6661, 6665, 6666  …  7143, 7144, 7147, 7148, 7162, 7165, 7166, 7170, 7173, 7174]\n",
       " [6565, 6566, 6569, 6570, 6574, 6613, 6614, 6617, 6618, 6622  …  7143, 7144, 7147, 7148, 7165, 7166, 7169, 7173, 7174, 7177]\n",
       " [6545, 6546, 6549, 6550, 6554, 6593, 6594, 6597, 6598, 6602  …  7141, 7142, 7145, 7146, 7164, 7167, 7168, 7172, 7175, 7176]\n",
       " [6550, 6554, 6593, 6597, 6598, 6601, 6602, 6641, 6645, 6646  …  7141, 7142, 7145, 7146, 7167, 7168, 7171, 7175, 7176, 7179]\n",
       " [6566, 6570, 6609, 6613, 6614, 6617, 6618, 6657, 6661, 6662  …  7139, 7140, 7143, 7144, 7166, 7169, 7170, 7174, 7177, 7178]\n",
       " [6561, 6562, 6565, 6566, 6570, 6609, 6610, 6613, 6614, 6618  …  7139, 7140, 7143, 7144, 7169, 7170, 7173, 7177, 7178, 7180]\n",
       " [6549, 6550, 6553, 6554, 6558, 6597, 6598, 6601, 6602, 6606  …  7137, 7138, 7141, 7142, 7168, 7171, 7172, 7176, 7179, 7180]\n",
       " [6554, 6558, 6597, 6601, 6602, 6605, 6606, 6645, 6649, 6650  …  7137, 7138, 7141, 7142, 7171, 7172, 7175, 7178, 7179, 7180]\n",
       " [6562, 6566, 6609, 6610, 6613, 6614, 6653, 6657, 6658, 6661  …  7134, 7135, 7136, 7139, 7140, 7170, 7173, 7174, 7178, 7180]\n",
       " [6561, 6562, 6566, 6605, 6606, 6609, 6610, 6614, 6653, 6654  …  7136, 7137, 7139, 7140, 7173, 7174, 7176, 7177, 7179, 7180]\n",
       " [6514, 6553, 6554, 6557, 6558, 6562, 6601, 6602, 6605, 6606  …  7134, 7135, 7136, 7137, 7138, 7172, 7175, 7176, 7178, 7180]\n",
       " [6514, 6558, 6561, 6562, 6601, 6605, 6606, 6609, 6610, 6649  …  7136, 7137, 7138, 7139, 7174, 7175, 7176, 7177, 7178, 7179]"
      ]
     },
     "execution_count": 6,
     "metadata": {},
     "output_type": "execute_result"
    }
   ],
   "source": [
    "# frozen_atoms = []\n",
    "z_coords = [coords[3] for coords in molly_system.coords]\n",
    "frozen_atoms = [index for (index, z) in enumerate(z_coords) if z ≤ 1u\"Å\"]\n",
    "\n",
    "simulator = ABCSimulator(sigma=1.0*u\"Å\", W=1.0*u\"eV\", max_steps=1, max_steps_minimize=20, step_size_minimize=5e-3u\"ps\", tol=1e-6u\"eV/Å\")\n",
    "Minimize_FIRE!(molly_system, simulator, eamJulia, nothing, neighbors_all;\n",
    "         n_threads=1, frozen_atoms=frozen_atoms, neig_interval=5, print_nsteps=true,\n",
    "         mass=atom_mass)\n",
    "neighbors_all = get_neighbors_all(molly_system)"
   ]
  },
  {
   "cell_type": "markdown",
   "metadata": {},
   "source": [
    "run ABC"
   ]
  },
  {
   "cell_type": "code",
   "execution_count": 7,
   "metadata": {},
   "outputs": [
    {
     "name": "stdout",
     "output_type": "stream",
     "text": [
      "exclude 0 atoms from E_phi calculation\n",
      "using 7180 atoms for E_phi calculation\n",
      "sigma^2 = 1.800000e-01, 2.890769e-03 Å/dof^1/2\n",
      " W = 1.000000e-01 eV\n",
      "step 0: -25030.681347432528 eV\n"
     ]
    },
    {
     "name": "stderr",
     "output_type": "stream",
     "text": [
      "\u001b[32mProgress: 100%|█████████████████████████████████████████| Time: 8:44:58\u001b[39m\n"
     ]
    },
    {
     "data": {
      "text/plain": [
       "System with 7180 atoms, boundary CubicBoundary{Quantity{Float64, 𝐋, Unitful.FreeUnits{(Å,), 𝐋, nothing}}}(Quantity{Float64, 𝐋, Unitful.FreeUnits{(Å,), 𝐋, nothing}}[43.290503414318835 Å, 43.290503414318835 Å, 72.15083902386472 Å])"
      ]
     },
     "execution_count": 7,
     "metadata": {},
     "output_type": "execute_result"
    }
   ],
   "source": [
    "# frozen_atoms = []\n",
    "z_coords = [coords[3] for coords in molly_system.coords]\n",
    "frozen_atoms = [index for (index, z) in enumerate(z_coords) if z ≤ 1u\"Å\"]\n",
    "\n",
    "nopenalty_atoms = []\n",
    "N_free = length(molly_system.coords)-length(nopenalty_atoms)\n",
    "print(\"exclude \",length(nopenalty_atoms),\" atoms from E_phi calculation\\n\")\n",
    "print(\"using \",N_free,\" atoms for E_phi calculation\\n\")\n",
    "\n",
    "# sigma = sqrt(0.006*3*N_free)\n",
    "sigma = sqrt(0.18)\n",
    "W = 0.1\n",
    "@printf(\"sigma^2 = %e, %e Å/dof^1/2\\n W = %e eV\\n\",ustrip(sigma^2), ustrip(sigma/sqrt(3*N_free)),ustrip(W))\n",
    "\n",
    "simulator = ABCSimulator(sigma=sigma*u\" Å\", W=W*u\"eV\", \n",
    "                         max_steps=10000, max_steps_minimize=30, step_size_minimize=5e-3u\"ps\", tol=1e-3u\"eV/Å\")\n",
    "\n",
    "simulate!(molly_system, simulator, eamJulia, n_threads=1, \n",
    "         #   fname=\"output_stress_cube8.txt\", fname_dump=\"stress_cube8.dump\", fname_min_dump=\"min_stress_cube8.dump\",\n",
    "         fname=\"test2.txt\", fname_dump=\"test2.dump\", fname_min_dump=\"test2.dump\", # for speed test\n",
    "         neig_interval=30, loggers_interval=10, dump_interval=10, start_dump=0,\n",
    "         minimize_only=false, \n",
    "         d_boost=1e-6u\"Å\", \n",
    "         frozen_atoms=frozen_atoms, nopenalty_atoms=nopenalty_atoms, \n",
    "         p_drop = 1-1/32, p_keep=0, n_memory=0, n_search=100,\n",
    "         p_stress = 1-24/7180, n_stress=12)"
   ]
  },
  {
   "cell_type": "code",
   "execution_count": null,
   "metadata": {},
   "outputs": [],
   "source": []
  }
 ],
 "metadata": {
  "kernelspec": {
   "display_name": "Julia 1.10.5",
   "language": "julia",
   "name": "julia-1.10"
  },
  "language_info": {
   "file_extension": ".jl",
   "mimetype": "application/julia",
   "name": "julia",
   "version": "1.10.5"
  }
 },
 "nbformat": 4,
 "nbformat_minor": 2
}
