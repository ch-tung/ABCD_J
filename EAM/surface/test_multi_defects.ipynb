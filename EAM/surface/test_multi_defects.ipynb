{
 "cells": [
  {
   "cell_type": "code",
   "execution_count": 1,
   "metadata": {},
   "outputs": [
    {
     "name": "stderr",
     "output_type": "stream",
     "text": [
      "\u001b[32m\u001b[1m  Activating\u001b[22m\u001b[39m new project at `~/Documents/ABCDE/ABCD_J/EAM/surface`\n"
     ]
    }
   ],
   "source": [
    "cd(@__DIR__)\n",
    "ENV[\"CELLLISTMAP_8.3_WARNING\"] = \"false\"\n",
    "include(\"../../src/juliaEAM.jl\")\n",
    "include(\"../../src/lammpsIO.jl\")\n",
    "\n",
    "using Pkg\n",
    "Pkg.activate(\".\")\n",
    "\n",
    "using Printf\n",
    "using AtomsCalculators\n",
    "using Unitful: Å, nm\n",
    "using StaticArrays: SVector\n",
    "using Molly\n",
    "using LinearAlgebra\n",
    "using DelimitedFiles\n",
    "using UnitfulAtomic\n",
    "import PeriodicTable\n",
    "using ProgressMeter\n",
    "using Random"
   ]
  },
  {
   "cell_type": "markdown",
   "metadata": {},
   "source": [
    "## Define Copper"
   ]
  },
  {
   "cell_type": "code",
   "execution_count": 2,
   "metadata": {},
   "outputs": [],
   "source": [
    "# include(\"../lammps_wrap/juliaEAM.jl\")\n",
    "\n",
    "Cu_LatConst = 3.615/10 # nm\n",
    "atom_mass = 63.546u\"u\"  # Atomic mass of aluminum in grams per mole\n",
    "\n",
    "## `AtomCalculators` force/energy calculator and `Molly` simulator\n",
    "eam = EAM()\n",
    "fname = \"Cu_Zhou04.eam.alloy\"\n",
    "read_potential!(eam, fname)\n",
    "\n",
    "### Define customized interaction type in `AtomsCalculators`\n",
    "struct EAMInteractionJulia\n",
    "    calculator::Any  # Holds the ASE EAM calculator reference\n",
    "    f_energy::Any    # Holds the energy function\n",
    "    f_forces::Any    # Holds the forces function\n",
    "    f_atomstress::Any  # Holds the atomic level stresses function\n",
    "    pair_coeff_string::String  # Holds the pair coefficient string\n",
    "end"
   ]
  },
  {
   "cell_type": "markdown",
   "metadata": {},
   "source": [
    "## Initialize sys"
   ]
  },
  {
   "cell_type": "code",
   "execution_count": 3,
   "metadata": {},
   "outputs": [
    {
     "data": {
      "text/plain": [
       "initialize_system_dump (generic function with 1 method)"
      ]
     },
     "metadata": {},
     "output_type": "display_data"
    }
   ],
   "source": [
    "function initialize_system_dump(;loggers=(coords=CoordinateLogger(1),),filename_dump=\"\")\n",
    "    n_atoms, box_size, coords_molly, attypes = lmpDumpReader(filename_dump)\n",
    "    molly_atoms = [Molly.Atom(index=i, charge=0, mass=atom_mass, \n",
    "                    #   σ=2.0u\"Å\" |> x -> uconvert(u\"nm\", x), ϵ=ϵ_kJ_per_mol\n",
    "                    ) for i in 1:length(coords_molly)]\n",
    "    # Specify boundary condition\n",
    "    boundary_condition = Molly.CubicBoundary(box_size[1],box_size[2],box_size[3])\n",
    "\n",
    "    atom_positions_init = copy(coords_molly)\n",
    "    molly_atoms_init = copy(molly_atoms)\n",
    "\n",
    "    DNF = DistanceNeighborFinder(\n",
    "        eligible=trues(length(molly_atoms_init), length(molly_atoms_init)),\n",
    "        n_steps=1e3,\n",
    "        dist_cutoff=7u\"Å\")\n",
    "    TNF = TreeNeighborFinder(\n",
    "        eligible=trues(length(molly_atoms_init), length(molly_atoms_init)), \n",
    "        n_steps=1e3,\n",
    "        dist_cutoff=7u\"Å\")\n",
    "\n",
    "    # Initialize the system with the initial positions and velocities\n",
    "    system_init = Molly.System(\n",
    "    atoms=molly_atoms_init,\n",
    "    atoms_data = [AtomData(element=\"Cu\", atom_type=string(attypes[ia])) for (ia,a) in enumerate(molly_atoms_init)],\n",
    "    coords=atom_positions_init,  # Ensure these are SVector with correct units\n",
    "    boundary=boundary_condition,\n",
    "    # loggers=Dict(:kinetic_eng => Molly.KineticEnergyLogger(100), :pot_eng => Molly.PotentialEnergyLogger(100)),\n",
    "    neighbor_finder = DNF,\n",
    "    loggers=loggers,\n",
    "    energy_units=u\"eV\",  # Ensure these units are correctly specified\n",
    "    force_units=u\"eV/Å\"  # Ensure these units are correctly specified\n",
    "    )\n",
    "    return system_init\n",
    "end"
   ]
  },
  {
   "cell_type": "code",
   "execution_count": 4,
   "metadata": {},
   "outputs": [
    {
     "data": {
      "text/plain": [
       "7180-element Vector{Vector{Int64}}:\n",
       " [25, 1021, 1045, 1729, 1753, 2500, 2538, 2539, 2540, 2542  …  6511, 6551, 6553, 6555, 6557, 6751, 6791, 6792, 6795, 6796]\n",
       " [3, 4, 5, 6, 7, 8, 9, 12, 45, 46  …  3876, 3877, 3878, 4119, 4120, 4122, 4123, 4124, 4126, 4164]\n",
       " [2, 4, 5, 6, 7, 8, 9, 12, 45, 46  …  4130, 4163, 4164, 4165, 4166, 4407, 4408, 4411, 4412, 4452]\n",
       " [2, 3, 5, 6, 7, 8, 42, 43, 45, 46  …  4123, 4124, 4126, 4160, 4163, 4164, 4165, 4166, 4408, 4452]\n",
       " [2, 3, 4, 6, 7, 8, 9, 10, 11, 12  …  4121, 4122, 4123, 4124, 4125, 4126, 4127, 4128, 4130, 4164]\n",
       " [2, 3, 4, 5, 7, 8, 9, 10, 11, 12  …  3841, 3842, 3846, 4120, 4123, 4124, 4126, 4127, 4128, 4130]\n",
       " [2, 3, 4, 5, 6, 8, 9, 10, 11, 12  …  4128, 4129, 4130, 4131, 4134, 4408, 4411, 4412, 4415, 4416]\n",
       " [2, 3, 4, 5, 6, 7, 9, 10, 11, 12  …  4123, 4124, 4125, 4126, 4127, 4128, 4130, 4164, 4408, 4412]\n",
       " [2, 3, 5, 6, 7, 8, 10, 11, 12, 13  …  4124, 4125, 4126, 4127, 4128, 4129, 4130, 4131, 4132, 4134]\n",
       " [5, 6, 7, 8, 9, 11, 12, 13, 14, 15  …  3845, 3846, 3850, 4124, 4127, 4128, 4130, 4131, 4132, 4134]\n",
       " ⋮\n",
       " [6550, 6554, 6593, 6597, 6598, 6601, 6602, 6641, 6645, 6646  …  7141, 7142, 7145, 7146, 7167, 7168, 7171, 7175, 7176, 7179]\n",
       " [6566, 6570, 6609, 6613, 6614, 6617, 6618, 6657, 6661, 6662  …  7139, 7140, 7143, 7144, 7166, 7169, 7170, 7174, 7177, 7178]\n",
       " [6561, 6562, 6565, 6566, 6570, 6609, 6610, 6613, 6614, 6618  …  7139, 7140, 7143, 7144, 7169, 7170, 7173, 7177, 7178, 7180]\n",
       " [6549, 6550, 6553, 6554, 6558, 6597, 6598, 6601, 6602, 6606  …  7137, 7138, 7141, 7142, 7168, 7171, 7172, 7176, 7179, 7180]\n",
       " [6554, 6558, 6597, 6601, 6602, 6605, 6606, 6645, 6649, 6650  …  7137, 7138, 7141, 7142, 7171, 7172, 7175, 7178, 7179, 7180]\n",
       " [6562, 6566, 6609, 6610, 6613, 6614, 6653, 6657, 6658, 6661  …  7134, 7135, 7136, 7139, 7140, 7170, 7173, 7174, 7178, 7180]\n",
       " [6561, 6562, 6566, 6605, 6606, 6609, 6610, 6614, 6653, 6654  …  7136, 7137, 7139, 7140, 7173, 7174, 7176, 7177, 7179, 7180]\n",
       " [6514, 6553, 6554, 6557, 6558, 6562, 6601, 6602, 6605, 6606  …  7134, 7135, 7136, 7137, 7138, 7172, 7175, 7176, 7178, 7180]\n",
       " [6514, 6558, 6561, 6562, 6601, 6605, 6606, 6609, 6610, 6649  …  7136, 7137, 7138, 7139, 7174, 7175, 7176, 7177, 7178, 7179]"
      ]
     },
     "metadata": {},
     "output_type": "display_data"
    }
   ],
   "source": [
    "filename_dump = \"./out_surface.dump\"\n",
    "molly_system = initialize_system_dump(filename_dump = filename_dump)\n",
    "neighbors_all = get_neighbors_all(molly_system)"
   ]
  },
  {
   "cell_type": "code",
   "execution_count": 5,
   "metadata": {},
   "outputs": [],
   "source": [
    "include(\"../../src/simulator.jl\")\n",
    "function Molly.forces(sys::System, interaction::EAMInteractionJulia, penalty_coords, sigma::typeof(1.0u\"Å\"), W::typeof(1.0u\"eV\"), neighbors_all::Vector{Vector{Int}};\n",
    "    n_threads::Integer=Threads.nthreads(), nopenalty_atoms=[]) \n",
    "    \n",
    "    fs = interaction.f_forces(sys, interaction.pair_coeff_string)\n",
    "\n",
    "    # Add penalty term to forces\n",
    "    if penalty_coords != nothing\n",
    "        fs += penalty_forces(sys, penalty_coords, sigma, W, nopenalty_atoms=nopenalty_atoms) # ev/Å\n",
    "        # print(maximum(norm.(penalty_forces(sys, penalty_coords, sigma, W))),\"\\n\")\n",
    "    end\n",
    "    return fs\n",
    "end"
   ]
  },
  {
   "cell_type": "code",
   "execution_count": 6,
   "metadata": {},
   "outputs": [
    {
     "data": {
      "text/plain": [
       "EAMInteractionJulia(EAM(1, [\"Cu\"], 2000, 0.05002501250625312, 2000, 0.002859305649575697, 5.715751993501819, [0.0 -0.01357527207849252 … -1.834392661415103 -1.834127593569618], [50.80361252664051 50.80361252664051 … 2.954726881253157e-6 2.896308622055337e-6], [29], [63.546], [3.615], \"fcc\", [128.0308779828199;;; 128.0308779828199;;; 128.0308779828199;;; … ;;; -6.068483307636601e-6;;; -5.95141389855619e-6;;; -5.836667719215691e-6], 0.0:0.002859305649575697:5.715751993501819, 0.0:0.05002501250625312:100.0, [0.0, 0.002859305649575697, 0.005718611299151394, 0.008577916948727091, 0.011437222598302788, 0.014296528247878484, 0.017155833897454183, 0.020015139547029877, 0.022874445196605576, 0.025733750846181274  …  5.690018242655637, 5.692877548305213, 5.695736853954789, 5.698596159604364, 5.7014554652539395, 5.704314770903515, 5.707174076553091, 5.710033382202667, 5.712892687852243, 5.715751993501819], [0.0, 0.05002501250625312, 0.10005002501250625, 0.1500750375187594, 0.2001000500250125, 0.25012506253126565, 0.3001500750375188, 0.3501750875437719, 0.400200100050025, 0.4502251125562781  …  99.54977488744372, 99.59979989994997, 99.64982491245622, 99.69984992496248, 99.74987493746873, 99.79989994997499, 99.84992496248124, 99.89994997498749, 99.94997498749375, 100.0], Interpolations.Extrapolation{Float64, 1, Interpolations.ScaledInterpolation{Float64, 1, Interpolations.BSplineInterpolation{Float64, 1, OffsetArrays.OffsetVector{Float64, Vector{Float64}}, BSpline{Cubic{Line{OnGrid}}}, Tuple{Base.OneTo{Int64}}}, BSpline{Cubic{Line{OnGrid}}}, Tuple{StepRangeLen{Float64, Base.TwicePrecision{Float64}, Base.TwicePrecision{Float64}, Int64}}}, BSpline{Cubic{Line{OnGrid}}}, Interpolations.Throw{Nothing}}[2000-element extrapolate(scale(interpolate(OffsetArray(::Vector{Float64}, 0:2001), BSpline(Cubic(Line(OnGrid())))), (0.0:0.05002501250625312:100.0,)), Throw()) with element type Float64:\n",
       "  0.0\n",
       " -0.013575272078492519\n",
       " -0.027095936009703277\n",
       " -0.04056209710486969\n",
       " -0.05397386067523069\n",
       " -0.06733133203202357\n",
       " -0.08063461648648707\n",
       " -0.0938838193498599\n",
       " -0.1070790459333794\n",
       " -0.12022040154828519\n",
       "  ⋮\n",
       " -1.836248302527379\n",
       " -1.8359831933057407\n",
       " -1.8357180899209855\n",
       " -1.835452992397876\n",
       " -1.8351879007611167\n",
       " -1.8349228150353523\n",
       " -1.8346577352451718\n",
       " -1.834392661415103\n",
       " -1.834127593569618], Interpolations.Extrapolation{Float64, 1, Interpolations.ScaledInterpolation{Float64, 1, Interpolations.BSplineInterpolation{Float64, 1, OffsetArrays.OffsetVector{Float64, Vector{Float64}}, BSpline{Cubic{Line{OnGrid}}}, Tuple{Base.OneTo{Int64}}}, BSpline{Cubic{Line{OnGrid}}}, Tuple{StepRangeLen{Float64, Base.TwicePrecision{Float64}, Base.TwicePrecision{Float64}, Int64}}}, BSpline{Cubic{Line{OnGrid}}}, Interpolations.Throw{Nothing}}[2000-element extrapolate(scale(interpolate(OffsetArray(::Vector{Float64}, 0:2001), BSpline(Cubic(Line(OnGrid())))), (0.0:0.002859305649575697:5.715751993501819,)), Throw()) with element type Float64:\n",
       " 50.80361252664051\n",
       " 50.80361252664051\n",
       " 50.80361252664051\n",
       " 50.8036125266405\n",
       " 50.80361252664051\n",
       " 50.80361252664051\n",
       " 50.80361252664051\n",
       " 50.80361252664051\n",
       " 50.80361252664051\n",
       " 50.80361252664051\n",
       "  ⋮\n",
       "  3.399095127331764e-6\n",
       "  3.331625341029287e-6\n",
       "  3.265532165823993e-6\n",
       "  3.200786743701776e-6\n",
       "  3.1373608378326033e-6\n",
       "  3.075226818850456e-6\n",
       "  3.014357651444463e-6\n",
       "  2.954726881253157e-6\n",
       "  2.896308622055337e-6], Interpolations.Extrapolation{Float64, 1, Interpolations.ScaledInterpolation{Float64, 1, Interpolations.BSplineInterpolation{Float64, 1, OffsetArrays.OffsetVector{Float64, Vector{Float64}}, BSpline{Cubic{Line{OnGrid}}}, Tuple{Base.OneTo{Int64}}}, BSpline{Cubic{Line{OnGrid}}}, Tuple{StepRangeLen{Float64, Base.TwicePrecision{Float64}, Base.TwicePrecision{Float64}, Int64}}}, BSpline{Cubic{Line{OnGrid}}}, Interpolations.Throw{Nothing}}[2000-element extrapolate(scale(interpolate(OffsetArray(::Vector{Float64}, 0:2001), BSpline(Cubic(Line(OnGrid())))), (0.0:0.05002501250625312:100.0,)), Throw()) with element type Float64:\n",
       " -0.2716004686491314\n",
       " -0.27090812924893365\n",
       " -0.26971029685704\n",
       " -0.2686505801547455\n",
       " -0.26755652471565683\n",
       " -0.2664743395640455\n",
       " -0.2653916430292057\n",
       " -0.2643117527697766\n",
       " -0.26323377982182206\n",
       " -0.26215796238250016\n",
       "  ⋮\n",
       "  0.005299591515805526\n",
       "  0.005299475080066949\n",
       "  0.005299358169343902\n",
       "  0.005299240687201798\n",
       "  0.005299122999187448\n",
       "  0.0052990037466034805\n",
       "  0.005298888005616888\n",
       "  0.005298756837283488\n",
       "  0.005298680928221678], Interpolations.Extrapolation{Float64, 1, Interpolations.ScaledInterpolation{Float64, 1, Interpolations.BSplineInterpolation{Float64, 1, OffsetArrays.OffsetVector{Float64, Vector{Float64}}, BSpline{Cubic{Line{OnGrid}}}, Tuple{Base.OneTo{Int64}}}, BSpline{Cubic{Line{OnGrid}}}, Tuple{StepRangeLen{Float64, Base.TwicePrecision{Float64}, Base.TwicePrecision{Float64}, Int64}}}, BSpline{Cubic{Line{OnGrid}}}, Interpolations.Throw{Nothing}}[2000-element extrapolate(scale(interpolate(OffsetArray(::Vector{Float64}, 0:2001), BSpline(Cubic(Line(OnGrid())))), (0.0:0.002859305649575697:5.715751993501819,)), Throw()) with element type Float64:\n",
       " -2.4850184724586554e-12\n",
       " -1.2425092362293277e-12\n",
       " -1.2425092362293275e-12\n",
       "  0.0\n",
       "  2.4850184724586546e-12\n",
       "  1.2425092362293275e-12\n",
       "  3.0292258760486853e-28\n",
       " -2.485018472458655e-12\n",
       " -1.2425092362293279e-12\n",
       "  1.2425092362293277e-12\n",
       "  ⋮\n",
       " -2.3840710529416267e-5\n",
       " -2.3354126051979337e-5\n",
       " -2.2877815801572524e-5\n",
       " -2.24112226495298e-5\n",
       " -2.1955391117160112e-5\n",
       " -2.1505411143304977e-5\n",
       " -2.1078617810384855e-5\n",
       " -2.060934802833028e-5\n",
       " -2.0341713443479828e-5], Interpolations.Extrapolation{Float64, 1, Interpolations.ScaledInterpolation{Float64, 1, Interpolations.BSplineInterpolation{Float64, 1, OffsetArrays.OffsetVector{Float64, Vector{Float64}}, BSpline{Cubic{Line{OnGrid}}}, Tuple{Base.OneTo{Int64}}}, BSpline{Cubic{Line{OnGrid}}}, Tuple{StepRangeLen{Float64, Base.TwicePrecision{Float64}, Base.TwicePrecision{Float64}, Int64}}}, BSpline{Cubic{Line{OnGrid}}}, Interpolations.Throw{Nothing}}[1999-element extrapolate(scale(interpolate(OffsetArray(::Vector{Float64}, 0:2000), BSpline(Cubic(Line(OnGrid())))), (0.002859305649575697:0.002859305649575697:5.715751993501819,)), Throw()) with element type Float64:\n",
       " 44776.91218559264\n",
       " 22388.45609279632\n",
       " 14925.637395197544\n",
       " 11194.228046398159\n",
       "  8955.382437118527\n",
       "  7462.818697598773\n",
       "  6396.70174079895\n",
       "  5597.114023199082\n",
       "  4975.21246506585\n",
       "  4477.691218559264\n",
       "     ⋮\n",
       "    -1.19842260118194e-6\n",
       "    -1.174634734416654e-6\n",
       "    -1.1513322199525309e-6\n",
       "    -1.1285048833122933e-6\n",
       "    -1.1061427690295878e-6\n",
       "    -1.0842361358118845e-6\n",
       "    -1.0627754518127986e-6\n",
       "    -1.0417513900114269e-6\n",
       "    -1.021154823696224e-6;;], Interpolations.Extrapolation{Float64, 1, Interpolations.ScaledInterpolation{Float64, 1, Interpolations.BSplineInterpolation{Float64, 1, OffsetArrays.OffsetVector{Float64, Vector{Float64}}, BSpline{Cubic{Line{OnGrid}}}, Tuple{Base.OneTo{Int64}}}, BSpline{Cubic{Line{OnGrid}}}, Tuple{StepRangeLen{Float64, Base.TwicePrecision{Float64}, Base.TwicePrecision{Float64}, Int64}}}, BSpline{Cubic{Line{OnGrid}}}, Interpolations.Throw{Nothing}}[1999-element extrapolate(scale(interpolate(OffsetArray(::Vector{Float64}, 0:2000), BSpline(Cubic(Line(OnGrid())))), (0.002859305649575697:0.002859305649575697:5.715751993501819,)), Throw()) with element type Float64:\n",
       "      -9.143911399635736e6\n",
       "      -5.202274626429022e6\n",
       "      -1.3671199955821664e6\n",
       "      -1.0742941040925544e6\n",
       " -599729.5682344135\n",
       " -441803.8605865399\n",
       " -317637.55235662276\n",
       " -245154.04879534285\n",
       " -193181.0096493392\n",
       " -156626.78389232676\n",
       "       ⋮\n",
       "       8.405534865632838e-6\n",
       "       8.23397959093285e-6\n",
       "       8.066046703066845e-6\n",
       "       7.901539774987603e-6\n",
       "       7.740827074025044e-6\n",
       "       7.582177457966424e-6\n",
       "       7.431702763843213e-6\n",
       "       7.266252129537209e-6\n",
       "       7.1718920966822054e-6;;]), Main.calculate_energy, Main.calculate_forces_LAMMPS, Main.calculate_atomstress, \"pair_coeff * * Cu_Zhou04.eam.alloy Cu\")"
      ]
     },
     "metadata": {},
     "output_type": "display_data"
    }
   ],
   "source": [
    "eamJulia = EAMInteractionJulia(eam,calculate_energy,calculate_forces_LAMMPS,calculate_atomstress,\"pair_coeff * * Cu_Zhou04.eam.alloy Cu\")"
   ]
  },
  {
   "cell_type": "markdown",
   "metadata": {},
   "source": [
    "energy minimization"
   ]
  },
  {
   "cell_type": "code",
   "execution_count": null,
   "metadata": {},
   "outputs": [
    {
     "data": {
      "text/plain": [
       "7180-element Vector{Vector{Int64}}:\n",
       " [25, 1021, 1045, 1729, 1753, 2500, 2538, 2539, 2540, 2542  …  6511, 6551, 6553, 6555, 6557, 6751, 6791, 6792, 6795, 6796]\n",
       " [3, 4, 5, 6, 7, 8, 9, 12, 45, 46  …  3876, 3877, 3878, 4119, 4120, 4122, 4123, 4124, 4126, 4164]\n",
       " [2, 4, 5, 6, 7, 8, 9, 12, 45, 46  …  4130, 4163, 4164, 4165, 4166, 4407, 4408, 4411, 4412, 4452]\n",
       " [2, 3, 5, 6, 7, 8, 42, 43, 45, 46  …  4123, 4124, 4126, 4160, 4163, 4164, 4165, 4166, 4408, 4452]\n",
       " [2, 3, 4, 6, 7, 8, 9, 10, 11, 12  …  4121, 4122, 4123, 4124, 4125, 4126, 4127, 4128, 4130, 4164]\n",
       " [2, 3, 4, 5, 7, 8, 9, 10, 11, 12  …  3841, 3842, 3846, 4120, 4123, 4124, 4126, 4127, 4128, 4130]\n",
       " [2, 3, 4, 5, 6, 8, 9, 10, 11, 12  …  4128, 4129, 4130, 4131, 4134, 4408, 4411, 4412, 4415, 4416]\n",
       " [2, 3, 4, 5, 6, 7, 9, 10, 11, 12  …  4123, 4124, 4125, 4126, 4127, 4128, 4130, 4164, 4408, 4412]\n",
       " [2, 3, 5, 6, 7, 8, 10, 11, 12, 13  …  4124, 4125, 4126, 4127, 4128, 4129, 4130, 4131, 4132, 4134]\n",
       " [5, 6, 7, 8, 9, 11, 12, 13, 14, 15  …  3845, 3846, 3850, 4124, 4127, 4128, 4130, 4131, 4132, 4134]\n",
       " ⋮\n",
       " [6550, 6554, 6593, 6597, 6598, 6601, 6602, 6641, 6645, 6646  …  7141, 7142, 7145, 7146, 7167, 7168, 7171, 7175, 7176, 7179]\n",
       " [6566, 6570, 6609, 6613, 6614, 6617, 6618, 6657, 6661, 6662  …  7139, 7140, 7143, 7144, 7166, 7169, 7170, 7174, 7177, 7178]\n",
       " [6561, 6562, 6565, 6566, 6570, 6609, 6610, 6613, 6614, 6618  …  7139, 7140, 7143, 7144, 7169, 7170, 7173, 7177, 7178, 7180]\n",
       " [6549, 6550, 6553, 6554, 6558, 6597, 6598, 6601, 6602, 6606  …  7137, 7138, 7141, 7142, 7168, 7171, 7172, 7176, 7179, 7180]\n",
       " [6554, 6558, 6597, 6601, 6602, 6605, 6606, 6645, 6649, 6650  …  7137, 7138, 7141, 7142, 7171, 7172, 7175, 7178, 7179, 7180]\n",
       " [6562, 6566, 6609, 6610, 6613, 6614, 6653, 6657, 6658, 6661  …  7134, 7135, 7136, 7139, 7140, 7170, 7173, 7174, 7178, 7180]\n",
       " [6561, 6562, 6566, 6605, 6606, 6609, 6610, 6614, 6653, 6654  …  7136, 7137, 7139, 7140, 7173, 7174, 7176, 7177, 7179, 7180]\n",
       " [6514, 6553, 6554, 6557, 6558, 6562, 6601, 6602, 6605, 6606  …  7134, 7135, 7136, 7137, 7138, 7172, 7175, 7176, 7178, 7180]\n",
       " [6514, 6558, 6561, 6562, 6601, 6605, 6606, 6609, 6610, 6649  …  7136, 7137, 7138, 7139, 7174, 7175, 7176, 7177, 7178, 7179]"
      ]
     },
     "metadata": {},
     "output_type": "display_data"
    }
   ],
   "source": [
    "# frozen_atoms = []\n",
    "# z_coords = [coords[3] for coords in molly_system.coords]\n",
    "# frozen_atoms = [index for (index, z) in enumerate(z_coords) if z ≤ 1u\"Å\"]\n",
    "\n",
    "# simulator = ABCSimulator(sigma=1.0*u\"Å\", W=1.0*u\"eV\", max_steps=1, max_steps_minimize=20, step_size_minimize=5e-3u\"ps\", tol=1e-6u\"eV/Å\")\n",
    "# Minimize_FIRE!(molly_system, simulator, eamJulia, nothing, neighbors_all;\n",
    "#          n_threads=1, frozen_atoms=frozen_atoms, neig_interval=5, print_nsteps=true,\n",
    "#          mass=atom_mass)\n",
    "# neighbors_all = get_neighbors_all(molly_system)"
   ]
  },
  {
   "cell_type": "markdown",
   "metadata": {},
   "source": [
    "run ABC"
   ]
  },
  {
   "cell_type": "code",
   "execution_count": 8,
   "metadata": {},
   "outputs": [
    {
     "name": "stdout",
     "output_type": "stream",
     "text": [
      "exclude 0 atoms from E_phi calculation\n",
      "using 7180 atoms for E_phi calculation\n",
      "sigma^2 = 2.000000e-01, 3.047138e-03 Å/dof^1/2\n",
      " W = 1.000000e-01 eV\n",
      "step 0: -25030.681347432528 eV\n"
     ]
    },
    {
     "name": "stderr",
     "output_type": "stream",
     "text": [
      "\u001b[32mProgress: 100%|█████████████████████████████████████████| Time: 0:06:31\u001b[39m\n"
     ]
    },
    {
     "data": {
      "text/plain": [
       "System with 7180 atoms, boundary CubicBoundary{Quantity{Float64, 𝐋, Unitful.FreeUnits{(Å,), 𝐋, nothing}}}(Quantity{Float64, 𝐋, Unitful.FreeUnits{(Å,), 𝐋, nothing}}[43.290503414318835 Å, 43.290503414318835 Å, 72.15083902386472 Å])"
      ]
     },
     "metadata": {},
     "output_type": "display_data"
    }
   ],
   "source": [
    "# frozen_atoms = []\n",
    "z_coords = [coords[3] for coords in molly_system.coords]\n",
    "frozen_atoms = [index for (index, z) in enumerate(z_coords) if z ≤ 1u\"Å\"]\n",
    "\n",
    "nopenalty_atoms = []\n",
    "N_free = length(molly_system.coords)-length(nopenalty_atoms)\n",
    "print(\"exclude \",length(nopenalty_atoms),\" atoms from E_phi calculation\\n\")\n",
    "print(\"using \",N_free,\" atoms for E_phi calculation\\n\")\n",
    "\n",
    "# sigma = sqrt(0.006*3*N_free)\n",
    "sigma = sqrt(0.2)\n",
    "W = 0.1\n",
    "@printf(\"sigma^2 = %e, %e Å/dof^1/2\\n W = %e eV\\n\",ustrip(sigma^2), ustrip(sigma/sqrt(3*N_free)),ustrip(W))\n",
    "\n",
    "simulator = ABCSimulator(sigma=sigma*u\" Å\", W=W*u\"eV\", \n",
    "                         max_steps=100, max_steps_minimize=30, step_size_minimize=5e-3u\"ps\", tol=1e-3u\"eV/Å\")\n",
    "\n",
    "simulate!(molly_system, simulator, eamJulia, n_threads=1, \n",
    "         #   fname=\"output_stress_cube8.txt\", fname_dump=\"stress_cube8.dump\", fname_min_dump=\"min_stress_cube8.dump\",\n",
    "         fname=\"test.txt\", fname_dump=\"test.dump\", fname_min_dump=\"test.dump\", # for speed test\n",
    "         neig_interval=30, loggers_interval=10, dump_interval=10, start_dump=0,\n",
    "         minimize_only=false, \n",
    "         d_boost=1e-6u\"Å\", \n",
    "         frozen_atoms=frozen_atoms, nopenalty_atoms=nopenalty_atoms, \n",
    "         p_drop = 1-1/32, p_keep=0, n_memory=0, n_search=100,\n",
    "         p_stress = 1-192/7180, n_stress=12)"
   ]
  },
  {
   "cell_type": "code",
   "execution_count": 9,
   "metadata": {},
   "outputs": [],
   "source": []
  }
 ],
 "metadata": {
  "kernelspec": {
   "display_name": "Julia 1.11.2",
   "language": "julia",
   "name": "julia-1.11"
  },
  "language_info": {
   "file_extension": ".jl",
   "mimetype": "application/julia",
   "name": "julia",
   "version": "1.11.2"
  }
 },
 "nbformat": 4,
 "nbformat_minor": 2
}
