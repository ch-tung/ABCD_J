{
 "cells": [
  {
   "cell_type": "code",
   "execution_count": 1,
   "metadata": {},
   "outputs": [],
   "source": [
    "import numpy as np\n",
    "from scipy.interpolate import InterpolatedUnivariateSpline as spline\n",
    "\n",
    "from ase.build import bulk\n",
    "from ase.calculators.eam import EAM\n"
   ]
  },
  {
   "cell_type": "code",
   "execution_count": 2,
   "metadata": {},
   "outputs": [],
   "source": [
    "def test_eam(testdir):\n",
    "    # test to generate an EAM potential file using a simplified\n",
    "    # approximation to the Mishin potential Al99.eam.alloy data\n",
    "\n",
    "    cutoff = 6.28721\n",
    "\n",
    "    n = 401\n",
    "    rs = np.arange(0, n) * (cutoff / n)\n",
    "    rhos = np.arange(0, 2, 2. / n)\n",
    "\n",
    "    # generated from\n",
    "    mishin = EAM(potential='./Al99.eam.alloy')\n",
    "    m_density = mishin.electron_density[0](rs)\n",
    "    m_embedded = mishin.embedded_energy[0](rhos)\n",
    "    m_phi = mishin.phi[0,0](rs)\n",
    "\n",
    "    # m_density = np.array([2.78589606e-01, 2.02694937e-01, 1.45334053e-01,\n",
    "    #                       1.06069912e-01, 8.42517168e-02, 7.65140344e-02,\n",
    "    #                       7.76263116e-02, 8.23214224e-02, 8.53322309e-02,\n",
    "    #                       8.13915861e-02, 6.59095390e-02, 4.28915711e-02,\n",
    "    #                       2.27910928e-02, 1.13713167e-02, 6.05020311e-03,\n",
    "    #                       3.65836583e-03, 2.60587564e-03, 2.06750708e-03,\n",
    "    #                       1.48749693e-03, 7.40019174e-04, 6.21225205e-05])\n",
    "\n",
    "    # m_embedded = np.array([1.04222211e-10, -1.04142633e+00, -1.60359806e+00,\n",
    "    #                        -1.89287637e+00, -2.09490167e+00, -2.26456628e+00,\n",
    "    #                        -2.40590322e+00, -2.52245359e+00, -2.61385603e+00,\n",
    "    #                        -2.67744693e+00, -2.71053295e+00, -2.71110418e+00,\n",
    "    #                        -2.69287013e+00, -2.68464527e+00, -2.69204083e+00,\n",
    "    #                        -2.68976209e+00, -2.66001244e+00, -2.60122024e+00,\n",
    "    #                        -2.51338548e+00, -2.39650817e+00, -2.25058831e+00])\n",
    "\n",
    "    # m_phi = np.array([6.27032242e+01, 3.49638589e+01, 1.79007014e+01,\n",
    "    #                   8.69001383e+00, 4.51545250e+00, 2.83260884e+00,\n",
    "    #                   1.93216616e+00, 1.06795515e+00, 3.37740836e-01,\n",
    "    #                   1.61087890e-02, -6.20816372e-02, -6.51314297e-02,\n",
    "    #                   -5.35210341e-02, -5.20950200e-02, -5.51709524e-02,\n",
    "    #                   -4.89093894e-02, -3.28051688e-02, -1.13738785e-02,\n",
    "    #                   2.33833655e-03, 4.19132033e-03, 1.68600692e-04])\n",
    "\n",
    "    m_densityf = spline(rs, m_density)\n",
    "    m_embeddedf = spline(rhos, m_embedded)\n",
    "    m_phif = spline(rs, m_phi)\n",
    "\n",
    "    a = 4.05  # Angstrom lattice spacing\n",
    "    al = bulk('Al', 'fcc', a=a)\n",
    "\n",
    "    mishin_approx = EAM(\n",
    "        elements=['Al'], embedded_energy=np.array([m_embeddedf]),\n",
    "        electron_density=np.array([m_densityf]),\n",
    "        phi=np.array([[m_phif]]), cutoff=cutoff, form='alloy',\n",
    "        # the following terms are only required to write out a file\n",
    "        Z=[13], nr=n, nrho=n, dr=cutoff / n, drho=2. / n,\n",
    "        lattice=['fcc'], mass=[26.982], a=[a])\n",
    "\n",
    "    al.calc = mishin_approx\n",
    "    mishin_approx_energy = al.get_potential_energy()\n",
    "\n",
    "    mishin_approx.write_potential('Al99-test.eam.alloy')\n",
    "\n",
    "    mishin_check = EAM(potential='Al99.eam.alloy')\n",
    "    al.calc = mishin_check\n",
    "    mishin_check_energy = al.get_potential_energy()\n",
    "\n",
    "    print('Cohesive Energy for Al = ', mishin_check_energy, ' eV')\n",
    "\n",
    "    error = (mishin_approx_energy - mishin_check_energy) / mishin_approx_energy\n",
    "    print('read/write check error = ', error)\n",
    "\n",
    "    # assert abs(error) < 1e-4"
   ]
  },
  {
   "cell_type": "code",
   "execution_count": 3,
   "metadata": {},
   "outputs": [
    {
     "name": "stdout",
     "output_type": "stream",
     "text": [
      "Cohesive Energy for Al =  -3.3599999881349647  eV\n",
      "read/write check error =  -9.706744267127808e-09\n"
     ]
    }
   ],
   "source": [
    "test_eam(\"./\")"
   ]
  },
  {
   "cell_type": "code",
   "execution_count": null,
   "metadata": {},
   "outputs": [],
   "source": []
  }
 ],
 "metadata": {
  "kernelspec": {
   "display_name": "analysis",
   "language": "python",
   "name": "python3"
  },
  "language_info": {
   "codemirror_mode": {
    "name": "ipython",
    "version": 3
   },
   "file_extension": ".py",
   "mimetype": "text/x-python",
   "name": "python",
   "nbconvert_exporter": "python",
   "pygments_lexer": "ipython3",
   "version": "3.10.14"
  }
 },
 "nbformat": 4,
 "nbformat_minor": 2
}
