{
 "cells": [
  {
   "cell_type": "code",
   "execution_count": 1,
   "metadata": {},
   "outputs": [],
   "source": [
    "import numpy as np\n",
    "from matplotlib import pyplot as plt\n",
    "from tqdm import tqdm, trange"
   ]
  },
  {
   "cell_type": "markdown",
   "metadata": {},
   "source": [
    "## load dump file"
   ]
  },
  {
   "cell_type": "code",
   "execution_count": 2,
   "metadata": {},
   "outputs": [],
   "source": [
    "def load_lammps_dump(filename):\n",
    "    with open(filename, 'r') as file:\n",
    "        lines = file.readlines()\n",
    "\n",
    "    # Find the number of particles\n",
    "    for i, line in enumerate(lines):\n",
    "        if line.startswith('ITEM: NUMBER OF ATOMS'):\n",
    "            num_particles = int(lines[i+1].strip())\n",
    "            break\n",
    "        \n",
    "        # Find the box dimensions\n",
    "    for i, line in enumerate(lines):\n",
    "        if line.startswith('ITEM: BOX BOUNDS'):\n",
    "            box_bounds = [list(map(float, bounds.split())) for bounds in lines[i+1:i+4]]\n",
    "            break\n",
    "\n",
    "    # Find the starting line of the atomic positions\n",
    "    start_lines = []\n",
    "    for i, line in enumerate(lines):\n",
    "        if line.startswith('ITEM: ATOMS'):\n",
    "            start_line = i + 1\n",
    "            start_lines.append(start_line)\n",
    "\n",
    "    # Initialize arrays to store the data\n",
    "    ntime = len(start_lines)\n",
    "    positions = np.zeros((ntime, num_particles, 3))\n",
    "    atom_ids = np.zeros(num_particles, dtype=int)\n",
    "    atom_types = np.zeros(num_particles, dtype=int)\n",
    "    \n",
    "    # atom id and type\n",
    "    start_line_0 = start_lines[0]\n",
    "    for i in range(num_particles):\n",
    "        line = lines[start_line_0+i]\n",
    "        data = line.split()\n",
    "        atom_ids[i] = int(data[0])\n",
    "        atom_types[i] = int(data[1])\n",
    "\n",
    "    # Parse the atomic positions, atom IDs, and atom types\n",
    "    for it, start_line_t in tqdm(enumerate(start_lines)):\n",
    "        for i in range(num_particles):\n",
    "            line = lines[start_line_t+i]\n",
    "            data = line.split()\n",
    "            positions[it, i, :] = [float(data[2]), float(data[3]), float(data[4])]\n",
    "\n",
    "    return positions, atom_ids, atom_types, box_bounds\n"
   ]
  },
  {
   "cell_type": "code",
   "execution_count": 3,
   "metadata": {},
   "outputs": [
    {
     "name": "stderr",
     "output_type": "stream",
     "text": [
      "2501it [00:06, 379.52it/s]\n"
     ]
    }
   ],
   "source": [
    "positions, atom_ids, atom_types, box_bounds = load_lammps_dump(\"./dumps/min_stress_cube8.dump\")"
   ]
  },
  {
   "cell_type": "markdown",
   "metadata": {},
   "source": [
    "# calculate MSD"
   ]
  },
  {
   "cell_type": "code",
   "execution_count": 4,
   "metadata": {},
   "outputs": [
    {
     "name": "stderr",
     "output_type": "stream",
     "text": [
      "1250it [00:00, 103460.88it/s]\n"
     ]
    }
   ],
   "source": [
    "n_times = int((positions.shape[0]-1)/2)\n",
    "n_particles = len(atom_ids)\n",
    "\n",
    "msd = np.zeros(n_times)\n",
    "t_list = np.arange(n_times)*2\n",
    "\n",
    "position_0 = positions[t_list[0]]\n",
    "for it, t in tqdm(enumerate(t_list)):\n",
    "    position_t = positions[t]\n",
    "    msd_t = np.sum((position_t-position_0)**2)/n_particles\n",
    "    msd[it] += msd_t\n"
   ]
  },
  {
   "cell_type": "code",
   "execution_count": 5,
   "metadata": {},
   "outputs": [
    {
     "data": {
      "image/png": "[encoded data removed]",
      "text/plain": [
       "<Figure size 600x600 with 1 Axes>"
      ]
     },
     "metadata": {},
     "output_type": "display_data"
    },
    {
     "name": "stdout",
     "output_type": "stream",
     "text": [
      "diffusivity: 0.0002928689015715955 A^2/step\n",
      "vacancy jump distance: 2.91582534825298 A/step\n",
      "vacancy jump distance: 1.0182984943846445 d_Al\n"
     ]
    }
   ],
   "source": [
    "timestep = 1\n",
    "\n",
    "# do curve fitting to get slope\n",
    "x = np.vstack([t_list[1:]*timestep,np.ones_like(t_list[1:]*timestep)]).T \n",
    "y = msd[1:]\n",
    "A, B = np.linalg.lstsq(x, y, rcond=None)[0]    \n",
    "\n",
    "fig = plt.figure(figsize=(6,6))\n",
    "ax = fig.add_subplot(1,1,1)\n",
    "\n",
    "ax.plot(t_list[1:]*timestep,msd[1:],\".\", label=\"ABC\")\n",
    "ax.plot(t_list[1:]*timestep, A*t_list[1:]*timestep, \"--k\")\n",
    "\n",
    "\n",
    "ax.set_xscale(\"log\")\n",
    "ax.set_yscale(\"log\")\n",
    "# ax.set_ylim([1e-1,10])\n",
    "# ax.set_xlim([1,1e4])\n",
    "\n",
    "ax.set_xlabel(r\"ABC steps\")\n",
    "ax.set_ylabel(r\"$\\rm{MSD}$\")\n",
    "ax.legend(frameon=False)\n",
    "plt.show()\n",
    "\n",
    "diffusivity = A/6\n",
    "print(f\"diffusivity: {diffusivity} A^2/step\")\n",
    "d_vacancy = np.sqrt(A*2047/((1-1/12)/(1+1/12))*12/6)\n",
    "print(f\"vacancy jump distance: {d_vacancy} A/step\")\n",
    "print(f\"vacancy jump distance: {d_vacancy/4.0495*np.sqrt(2)} d_Al\")"
   ]
  },
  {
   "cell_type": "code",
   "execution_count": 6,
   "metadata": {},
   "outputs": [
    {
     "data": {
      "text/plain": [
       "0.8461538461538461"
      ]
     },
     "execution_count": 6,
     "metadata": {},
     "output_type": "execute_result"
    }
   ],
   "source": [
    "((1-1/12)/(1+1/12))"
   ]
  },
  {
   "cell_type": "code",
   "execution_count": null,
   "metadata": {},
   "outputs": [],
   "source": []
  }
 ],
 "metadata": {
  "kernelspec": {
   "display_name": "analysis",
   "language": "python",
   "name": "python3"
  },
  "language_info": {
   "codemirror_mode": {
    "name": "ipython",
    "version": 3
   },
   "file_extension": ".py",
   "mimetype": "text/x-python",
   "name": "python",
   "nbconvert_exporter": "python",
   "pygments_lexer": "ipython3",
   "version": "3.10.14"
  }
 },
 "nbformat": 4,
 "nbformat_minor": 2
}
