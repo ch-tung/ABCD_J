{
 "cells": [
  {
   "cell_type": "code",
   "execution_count": 1,
   "metadata": {},
   "outputs": [
    {
     "name": "stderr",
     "output_type": "stream",
     "text": [
      "\u001b[32m\u001b[1m  Activating\u001b[22m\u001b[39m new project at `~/Documents/ABCD_J/EAM`\n"
     ]
    },
    {
     "data": {
      "text/plain": [
       "\"/SNS/users/ccu/miniconda3/envs/analysis/bin/python\""
      ]
     },
     "metadata": {},
     "output_type": "display_data"
    }
   ],
   "source": [
    "cd(@__DIR__)\n",
    "ENV[\"CELLLISTMAP_8.3_WARNING\"] = \"false\"\n",
    "include(\"../src/juliaEAM.jl\")\n",
    "\n",
    "using Pkg\n",
    "Pkg.activate(\".\")\n",
    "\n",
    "using Printf\n",
    "using Unitful: Å, nm\n",
    "using StaticArrays: SVector\n",
    "using GLMakie\n",
    "using Molly\n",
    "using UnitfulAtomic\n",
    "using JLD2\n",
    "\n",
    "using PythonCall\n",
    "ENV[\"PYTHON\"] = \"/SNS/users/ccu/miniconda3/envs/analysis/bin/python\""
   ]
  },
  {
   "cell_type": "markdown",
   "metadata": {},
   "source": [
    "## Load jld2 object"
   ]
  },
  {
   "cell_type": "code",
   "execution_count": 2,
   "metadata": {},
   "outputs": [
    {
     "data": {
      "text/plain": [
       "System with 301 atoms, boundary CubicBoundary{Quantity{Float64, 𝐋, Unitful.FreeUnits{(Å,), 𝐋, nothing}}}(Quantity{Float64, 𝐋, Unitful.FreeUnits{(Å,), 𝐋, nothing}}[20.227252500000002 Å, 20.2677475 Å, 42.51975 Å])"
      ]
     },
     "metadata": {},
     "output_type": "display_data"
    }
   ],
   "source": [
    "# save_object(\"./test_Julia_556.jld2\", molly_system)\n",
    "molly_system_loaded = load_object(\"./jld2/n_phi_5/test_Julia_556.jld2\")"
   ]
  },
  {
   "cell_type": "markdown",
   "metadata": {},
   "source": [
    "## Make movie"
   ]
  },
  {
   "cell_type": "code",
   "execution_count": 3,
   "metadata": {},
   "outputs": [
    {
     "data": {
      "text/plain": [
       "visualize_wrap (generic function with 1 method)"
      ]
     },
     "metadata": {},
     "output_type": "display_data"
    }
   ],
   "source": [
    "function visualize_wrap(coord_logger,\n",
    "                    boundary,\n",
    "                    out_filepath::AbstractString,\n",
    "                    fig;\n",
    "                    connections=Tuple{Int, Int}[],\n",
    "                    connection_frames=[trues(length(connections)) for i in values(coord_logger)],\n",
    "                    trails::Integer=0,\n",
    "                    framerate::Integer=30,\n",
    "                    color=:purple,\n",
    "                    connection_color=:orange,\n",
    "                    markersize=0.05,\n",
    "                    linewidth=2.0,\n",
    "                    transparency=true,\n",
    "                    show_boundary::Bool=true,\n",
    "                    boundary_linewidth=2.0,\n",
    "                    boundary_color=:black,\n",
    "                    az=1.275pi,\n",
    "                    el=pi/8,\n",
    "                    kwargs...)\n",
    "    coords_start = first(values(coord_logger))\n",
    "    dist_unit = unit(first(first(coords_start)))\n",
    "    dims = n_dimensions(boundary)\n",
    "    # fig = Figure()\n",
    "\n",
    "    if dims == 3\n",
    "        PointType = Point3f\n",
    "        ax = Axis3(fig[1, 1], aspect=:data, azimuth=az, elevation=el)\n",
    "        max_connection_dist = cbrt(box_volume(boundary)) / 2\n",
    "    elseif dims == 2\n",
    "        PointType = Point2f\n",
    "        ax = Axis(fig[1, 1])\n",
    "        ax.aspect = DataAspect()\n",
    "        max_connection_dist = sqrt(box_volume(boundary)) / 2\n",
    "    else\n",
    "        throw(ArgumentError(\"found $dims dimensions but can only visualize 2 or 3 dimensions\"))\n",
    "    end\n",
    "\n",
    "    positions = Observable(PointType.(ustrip_vec.(coords_start)))\n",
    "    # scatter!(ax, positions; color=color, markersize=markersize, transparency=transparency,\n",
    "    #             markerspace=:data, kwargs...)\n",
    "    meshscatter!(ax, positions; color=color, markersize=markersize, transparency=transparency,\n",
    "    kwargs...)\n",
    "\n",
    "    if show_boundary\n",
    "        lines!(\n",
    "            ax,\n",
    "            Molly.bounding_box_lines(boundary, dist_unit)...;\n",
    "            color=boundary_color,\n",
    "            linewidth=boundary_linewidth,\n",
    "        )\n",
    "    end\n",
    "\n",
    "    connection_nodes = []\n",
    "    for (ci, (i, j)) in enumerate(connections)\n",
    "        # Don't display connected atoms that are likely connected over the box edge\n",
    "        if first(connection_frames)[ci] && norm(coords_start[i] - coords_start[j]) < max_connection_dist\n",
    "            if dims == 3\n",
    "                push!(connection_nodes, Observable(PointType.(\n",
    "                        ustrip.([coords_start[i][1], coords_start[j][1]]),\n",
    "                        ustrip.([coords_start[i][2], coords_start[j][2]]),\n",
    "                        ustrip.([coords_start[i][3], coords_start[j][3]]))))\n",
    "            elseif dims == 2\n",
    "                push!(connection_nodes, Observable(PointType.(\n",
    "                        ustrip.([coords_start[i][1], coords_start[j][1]]),\n",
    "                        ustrip.([coords_start[i][2], coords_start[j][2]]))))\n",
    "            end\n",
    "        else\n",
    "            if dims == 3\n",
    "                push!(connection_nodes, Observable(PointType.([0.0, 0.0], [0.0, 0.0],\n",
    "                                                        [0.0, 0.0])))\n",
    "            elseif dims == 2\n",
    "                push!(connection_nodes, Observable(PointType.([0.0, 0.0], [0.0, 0.0])))\n",
    "            end\n",
    "        end\n",
    "    end\n",
    "    for (ci, cn) in enumerate(connection_nodes)\n",
    "        lines!(ax, cn;\n",
    "                color=isa(connection_color, AbstractArray) ? connection_color[ci] : connection_color,\n",
    "                linewidth=isa(linewidth, AbstractArray) ? linewidth[ci] : linewidth,\n",
    "                transparency=transparency)\n",
    "    end\n",
    "\n",
    "    trail_positions = []\n",
    "    for trail_i in 1:trails\n",
    "        push!(trail_positions, Observable(PointType.(ustrip_vec.(coords_start))))\n",
    "        col = parse.(Colorant, color)\n",
    "        alpha = 1 - (trail_i / (trails + 1))\n",
    "        alpha_col = RGBA.(red.(col), green.(col), blue.(col), alpha)\n",
    "        # scatter!(ax, trail_positions[end]; color=alpha_col,  markersize=markersize,\n",
    "        #             transparency=transparency, markerspace=:data, kwargs...)\n",
    "        meshscatter!(ax, trail_positions[end]; color=alpha_col, markersize=markersize, transparency=transparency,\n",
    "                    kwargs...)\n",
    "    end\n",
    "\n",
    "    boundary_conv = ustrip.(dist_unit, Molly.cubic_bounding_box(boundary))\n",
    "    xlims!(ax, Molly.axis_limits(boundary_conv, coord_logger, 1))\n",
    "    ylims!(ax, Molly.axis_limits(boundary_conv, coord_logger, 2))\n",
    "    dims == 3 && zlims!(ax, Molly.axis_limits(boundary_conv, coord_logger, 3))\n",
    "\n",
    "    GLMakie.record(fig, out_filepath, eachindex(values(coord_logger)); framerate=framerate) do frame_i\n",
    "        coords = values(coord_logger)[frame_i]\n",
    "        coords = wrap_coords.(coords, (boundary,))\n",
    "        u_coords = unit(coords[1][1])\n",
    "        coords = [ustrip(c) for c in coords]*uconvert(u\"nm\", 1*u_coords)\n",
    "        # print(coords[1][1])\n",
    "\n",
    "        for (ci, (i, j)) in enumerate(connections)\n",
    "            if connection_frames[frame_i][ci] && norm(coords[i] - coords[j]) < max_connection_dist\n",
    "                if dims == 3\n",
    "                    connection_nodes[ci][] = PointType.(\n",
    "                                ustrip.([coords[i][1], coords[j][1]]),\n",
    "                                ustrip.([coords[i][2], coords[j][2]]),\n",
    "                                ustrip.([coords[i][3], coords[j][3]]))\n",
    "                elseif dims == 2\n",
    "                    connection_nodes[ci][] = PointType.(\n",
    "                                ustrip.([coords[i][1], coords[j][1]]),\n",
    "                                ustrip.([coords[i][2], coords[j][2]]))\n",
    "                end\n",
    "            else\n",
    "                if dims == 3\n",
    "                    connection_nodes[ci][] = PointType.([0.0, 0.0], [0.0, 0.0],\n",
    "                                                        [0.0, 0.0])\n",
    "                elseif dims == 2\n",
    "                    connection_nodes[ci][] = PointType.([0.0, 0.0], [0.0, 0.0])\n",
    "                end\n",
    "            end\n",
    "        end\n",
    "\n",
    "        positions[] = PointType.(ustrip_vec.(coords))\n",
    "        for (trail_i, trail_position) in enumerate(trail_positions)\n",
    "            trail_position[] = PointType.(ustrip_vec.(values(coord_logger)[max(frame_i - trail_i, 1)]))\n",
    "        end\n",
    "    end\n",
    "end\n"
   ]
  },
  {
   "cell_type": "code",
   "execution_count": 4,
   "metadata": {},
   "outputs": [
    {
     "data": {
      "text/plain": [
       "\"videos/n_phi_5/test_Julia_556.mp4\""
      ]
     },
     "metadata": {},
     "output_type": "display_data"
    }
   ],
   "source": [
    "## visualize\n",
    "using ColorSchemes\n",
    "using Colors\n",
    "\n",
    "# Define the color gradient\n",
    "color_0 = colorant\"#000000\"\n",
    "color_1 = colorant\"#FFFFFF\"\n",
    "color_gradient = ColorScheme(range(color_0, color_1, length=100))\n",
    "\n",
    "colors = []\n",
    "coords_z = [c[3] for c in molly_system_loaded.coords]\n",
    "z_max = maximum(coords_z[1:end-1])\n",
    "z_min = minimum(coords_z[1:end-1])\n",
    "for (index, value) in enumerate(molly_system_loaded.coords)\n",
    "    z_component = value[3]\n",
    "    z_ratio = 2*(z_component-z_min)/(z_max-z_min)-1\n",
    "    color = color_gradient[z_ratio]\n",
    "    push!(colors, index < length(molly_system_loaded.coords) ? color : :red)\n",
    "end\n",
    "framerate = 60\n",
    "\n",
    "filepath = \"videos/n_phi_5/\"\n",
    "# Specify boundary condition\n",
    "boundary_condition = Molly.CubicBoundary([molly_system_loaded.boundary[i] for i in 1:3]...)\n",
    "fig = Figure(size = (800, 800))\n",
    "visualize_wrap(molly_system_loaded.loggers.coords, boundary_condition, filepath*\"test_Julia_556_top.mp4\", fig; \n",
    "                markersize=0.1, color=colors, az=-pi/2, el=pi/2, framerate=framerate, transparency=false)\n",
    "fig = Figure(size = (800, 800))\n",
    "visualize_wrap(molly_system_loaded.loggers.coords, boundary_condition, filepath*\"test_Julia_556_side.mp4\", fig; \n",
    "                markersize=0.1, color=colors, az=0, el=0, framerate=framerate, transparency=false)\n",
    "fig = Figure(size = (800, 800))\n",
    "visualize_wrap(molly_system_loaded.loggers.coords, boundary_condition, filepath*\"test_Julia_556_side2.mp4\", fig; \n",
    "                markersize=0.1, color=colors, az=-pi/2, el=0, framerate=framerate, transparency=false)\n",
    "fig = Figure(size = (800, 800))\n",
    "visualize_wrap(molly_system_loaded.loggers.coords, boundary_condition, filepath*\"test_Julia_556.mp4\", fig; \n",
    "                markersize=0.1, color=colors, az=-5*pi/12, framerate=framerate, transparency=false)"
   ]
  }
 ],
 "metadata": {
  "kernelspec": {
   "display_name": "Julia 1.10.4",
   "language": "julia",
   "name": "julia-1.10"
  },
  "language_info": {
   "file_extension": ".jl",
   "mimetype": "application/julia",
   "name": "julia",
   "version": "1.10.4"
  }
 },
 "nbformat": 4,
 "nbformat_minor": 2
}
