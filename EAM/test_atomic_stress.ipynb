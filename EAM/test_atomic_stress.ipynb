{
 "cells": [
  {
   "cell_type": "code",
   "execution_count": 1,
   "metadata": {},
   "outputs": [
    {
     "name": "stderr",
     "output_type": "stream",
     "text": [
      "\u001b[32m\u001b[1m  Activating\u001b[22m\u001b[39m new project at `~/Documents/ABCD_J/EAM`\n",
      "\u001b[32m\u001b[1m  Activating\u001b[22m\u001b[39m new project at `~/Documents/ABCD_J/EAM`\n"
     ]
    }
   ],
   "source": [
    "cd(@__DIR__)\n",
    "ENV[\"CELLLISTMAP_8.3_WARNING\"] = \"false\"\n",
    "include(\"../src/juliaEAM.jl\")\n",
    "include(\"../src/lammpsIO.jl\")\n",
    "\n",
    "using Pkg\n",
    "Pkg.activate(\".\")\n",
    "\n",
    "using Printf\n",
    "using AtomsCalculators\n",
    "# using ASEconvert # use this PR:https://github.com/mfherbst/ASEconvert.jl/pull/17, Pkg.add(url=\"https://github.com/tjjarvinen/ASEconvert.jl.git\", rev=\"atomscalculators\")\n",
    "using Unitful: Å, nm\n",
    "# using PythonCall\n",
    "# ENV[\"PYTHON\"] = \"/SNS/users/ccu/miniconda3/envs/analysis/bin/python\"\n",
    "# install the following packages in julia REPL\n",
    "# using CondaPkg\n",
    "# CondaPkg.add_pip(\"IPython\")\n",
    "# CondaPkg.add_pip(\"nglview\")\n",
    "using StaticArrays: SVector\n",
    "# using GLMakie\n",
    "using Molly\n",
    "# using Zygote\n",
    "using LinearAlgebra\n",
    "# import Interpolations:cubic_spline_interpolation, linear_interpolation, interpolate, BSpline, Cubic, scale, Line, OnGrid, extrapolate, Gridded, extrapolate, Flat\n",
    "using DelimitedFiles\n",
    "using UnitfulAtomic\n",
    "import PeriodicTable\n",
    "using ProgressMeter\n",
    "using Random"
   ]
  },
  {
   "cell_type": "code",
   "execution_count": 3,
   "metadata": {},
   "outputs": [
    {
     "data": {
      "text/plain": [
       "26.9815 u"
      ]
     },
     "metadata": {},
     "output_type": "display_data"
    }
   ],
   "source": [
    "al_LatConst = 4.0495/10 # nm\n",
    "atom_mass = 26.9815u\"u\"  # Atomic mass of aluminum in grams per mole"
   ]
  },
  {
   "cell_type": "code",
   "execution_count": 4,
   "metadata": {},
   "outputs": [],
   "source": [
    "eam = EAM()\n",
    "fname = \"Al99.eam.alloy\"\n",
    "read_potential!(eam, fname)"
   ]
  },
  {
   "cell_type": "markdown",
   "metadata": {},
   "source": [
    "### Define customized interaction type in `AtomsCalculators`"
   ]
  },
  {
   "cell_type": "code",
   "execution_count": 6,
   "metadata": {},
   "outputs": [],
   "source": [
    "struct EAMInteractionJulia\n",
    "    calculator::Any  # Holds the ASE EAM calculator reference\n",
    "    f_energy::Any    # Holds the energy function\n",
    "    f_forces::Any    # Holds the forces function\n",
    "end"
   ]
  },
  {
   "cell_type": "markdown",
   "metadata": {},
   "source": [
    "### Initialize System and run simulator"
   ]
  },
  {
   "cell_type": "code",
   "execution_count": 7,
   "metadata": {},
   "outputs": [
    {
     "data": {
      "text/plain": [
       "initialize_system_dump (generic function with 1 method)"
      ]
     },
     "metadata": {},
     "output_type": "display_data"
    }
   ],
   "source": [
    "### Initialize System and run simulatoreamJulia = EAMInteractionJulia(eam,calculate_energy,calculate_forces)\n",
    "function initialize_system_dump(;loggers=(coords=CoordinateLogger(1),),filename_dump=\"\")\n",
    "    n_atoms, box_size, coords_molly, attypes = lmpDumpReader(filename_dump)\n",
    "    molly_atoms = [Molly.Atom(index=i, charge=0, mass=atom_mass, \n",
    "                    #   σ=2.0u\"Å\" |> x -> uconvert(u\"nm\", x), ϵ=ϵ_kJ_per_mol\n",
    "                    ) for i in 1:length(coords_molly)]\n",
    "    # Specify boundary condition\n",
    "    boundary_condition = Molly.CubicBoundary(box_size[1],box_size[2],box_size[3])\n",
    "\n",
    "    atom_positions_init = copy(coords_molly)\n",
    "    molly_atoms_init = copy(molly_atoms)\n",
    "    # Initialize the system with the initial positions and velocities\n",
    "    system_init = Molly.System(\n",
    "    atoms=molly_atoms_init,\n",
    "    atoms_data = [AtomData(element=\"Al\", atom_type=string(attypes[ia])) for (ia,a) in enumerate(molly_atoms_init)],\n",
    "    coords=atom_positions_init,  # Ensure these are SVector with correct units\n",
    "    boundary=boundary_condition,\n",
    "    # loggers=Dict(:kinetic_eng => Molly.KineticEnergyLogger(100), :pot_eng => Molly.PotentialEnergyLogger(100)),\n",
    "    neighbor_finder = DistanceNeighborFinder(\n",
    "    eligible=trues(length(molly_atoms_init), length(molly_atoms_init)),\n",
    "    n_steps=1e3,\n",
    "    dist_cutoff=7u\"Å\"),\n",
    "    loggers=loggers,\n",
    "    energy_units=u\"eV\",  # Ensure these units are correctly specified\n",
    "    force_units=u\"eV/Å\"  # Ensure these units are correctly specified\n",
    "    )\n",
    "    return system_init\n",
    "end"
   ]
  },
  {
   "cell_type": "code",
   "execution_count": 8,
   "metadata": {},
   "outputs": [
    {
     "data": {
      "text/plain": [
       "System with 2047 atoms, boundary CubicBoundary{Quantity{Float64, 𝐋, Unitful.FreeUnits{(Å,), 𝐋, nothing}}}(Quantity{Float64, 𝐋, Unitful.FreeUnits{(Å,), 𝐋, nothing}}[32.3974677930295 Å, 32.3974677930295 Å, 32.3974677930295 Å])"
      ]
     },
     "metadata": {},
     "output_type": "display_data"
    }
   ],
   "source": [
    "filename_dump = \"./LAMMPS/out_vacancy_cube8.dump\"\n",
    "molly_system = initialize_system_dump(filename_dump = filename_dump)"
   ]
  },
  {
   "cell_type": "code",
   "execution_count": 70,
   "metadata": {},
   "outputs": [
    {
     "data": {
      "text/plain": [
       "calculate_atomstress (generic function with 2 methods)"
      ]
     },
     "metadata": {},
     "output_type": "display_data"
    }
   ],
   "source": [
    "\"\"\"\n",
    "    calculate_atomstress(eam::EAM, sys::Molly.System, neighbors_all::Vector{Vector{Int}})\n",
    "    \n",
    "Calculate the atomic stress for a given EAM potential, system, and neighbor list.\n",
    "\n",
    "# Arguments\n",
    "- `eam::EAM`: The EAM potential.\n",
    "- `sys::Molly.System`: The system.\n",
    "- `neighbors_all::Vector{Vector{Int}}`: The neighbor list for each atom.\n",
    "\n",
    "# Returns\n",
    "- `stresses_particle::Array{Float64, 3}`: The atomic stress tensor for each atom.\n",
    "\n",
    "\"\"\"\n",
    "function calculate_atomstress(eam::EAM, sys::Molly.System, neighbors_all::Vector{Vector{Int}})\n",
    "    coords = [ustrip(coord) for coord in sys.coords]\n",
    "    boundary = @SVector [ustrip(sys.boundary[i]) for i in 1:3]\n",
    "    return calculate_atomstress(eam, coords, boundary, neighbors_all)\n",
    "end\n",
    "\n",
    "\"\"\"\n",
    "    calculate_atomstress(eam::EAM, coords::Vector{SVector{3, Float64}}, boundary::SVector{3, Float64}, neighbors_all::Vector{Vector{Int}})\n",
    "    \n",
    "Calculate the atomic stress for a given EAM potential, coordinates, boundary, and neighbor list.\n",
    "\n",
    "# Arguments\n",
    "- `eam::EAM`: The EAM potential.\n",
    "- `coords::Vector{SVector{3, Float64}}`: The coordinates of the atoms.\n",
    "- `boundary::SVector{3, Float64}`: The boundary of the system.\n",
    "- `neighbors_all::Vector{Vector{Int}}`: The neighbor list for each atom.\n",
    "\n",
    "# Returns\n",
    "- `stresses_particle::Array{Float64, 3}`: The atomic stress tensor for each atom.\n",
    "\n",
    "\"\"\"\n",
    "function calculate_atomstress(eam::EAM, coords::Vector{SVector{3, Float64}}, boundary::SVector{3, Float64}, neighbors_all::Vector{Vector{Int}})\n",
    "    n_threads::Int = 1\n",
    "    \n",
    "    ## for single element system, only one type is considered\n",
    "    typelist::Vector{Int} = [1]\n",
    "    i_type::Int = 1 in typelist ? indexin(1, typelist)[1] : error(\"1 not found in typelist\")\n",
    "    d_electron_density_i = eam.d_electron_density[i_type]\n",
    "    \n",
    "    # preallocate\n",
    "    # initialize forces_particle\n",
    "    # forces_particle::Matrix{Float64} = zeros(length(coords),3)\n",
    "    stresses_particle::Array{Float64, 3} = zeros(length(coords), 3, 3)\n",
    "    \n",
    "    # initialize total_density\n",
    "    total_density::Vector{Float64} = zeros(length(coords))\n",
    "\n",
    "    r_all::Vector{Matrix{Float64}} = []\n",
    "    d_all::Vector{Vector{Float64}} = []\n",
    "\n",
    "    n_neighbors_all::Vector{Int} = [length(neighbors_all[i]) for i in 1:length(coords)]\n",
    "    n_neighbors_max::Int = maximum(n_neighbors_all)\n",
    "\n",
    "    r_i::Matrix{Float64} = zeros(n_neighbors_max,3)\n",
    "    d_i::Vector{Float64} = zeros(n_neighbors_max)\n",
    "    for i::Int in 1:length(coords)\n",
    "        # i_type::Int = indexin(1, typelist)[1]\n",
    "        \n",
    "        # neighbors = get_neighbors(neig, i)\n",
    "        neighbors::Vector{Int} = neighbors_all[i]    \n",
    "        if isempty(neighbors)\n",
    "            continue\n",
    "        end\n",
    "\n",
    "        n_neighbors::Int = length(neighbors)\n",
    "        coords_i = coords[i]\n",
    "    \n",
    "        # distance between atom i and its neighbors\n",
    "        # r_i::Matrix{Float64} = zeros(n_neighbors,3)\n",
    "        # d_i::Vector{Float64} = zeros(n_neighbors)\n",
    "        for (index_j::Int, j::Int) in enumerate(neighbors)\n",
    "            r_ij = (vector(coords_i, coords[j], boundary)) # Å\n",
    "            d_ij = sqrt(sum(r_ij.^2))\n",
    "            r_i[index_j,1:3] = r_ij\n",
    "            d_i[index_j] = minimum((d_ij,eam.r[end]))\n",
    "        end\n",
    "\n",
    "        push!(r_all, r_i[1:n_neighbors,1:3])\n",
    "        push!(d_all, d_i[1:n_neighbors])\n",
    "    \n",
    "        for j_type::Int in 1:eam.Nelements # iterate over all types\n",
    "            # use = get_type(neighbors, typelist) .== j_type # get the index of the neighbors with type j\n",
    "            # if !any(use)\n",
    "            #     continue\n",
    "            # end\n",
    "            # d_use = d_i[use]\n",
    "            d_use = d_all[i]\n",
    "    \n",
    "            density = sum(eam.electron_density[j_type].(d_use)) # electron density\n",
    "            total_density[i] += density # total electron density around atom i\n",
    "        end\n",
    "    end\n",
    "    \n",
    "    # calculate stresses on particles\n",
    "    for i::Int in 1:length(coords)\n",
    "        # i_type::Int = indexin(1, typelist)[1]\n",
    "            \n",
    "        # neighbors = get_neighbors(neig, i)\n",
    "        neighbors::Vector{Int} = neighbors_all[i]\n",
    "        if isempty(neighbors)\n",
    "            continue\n",
    "        end\n",
    "        n_neighbors::Int = length(neighbors)\n",
    "        coords_i = coords[i]\n",
    "    \n",
    "        r_i = r_all[i]\n",
    "        d_i = d_all[i]\n",
    "        \n",
    "        # derivative of the embedded energy of atom i\n",
    "        d_embedded_energy_i::Float64 = eam.d_embedded_energy[i_type].(total_density[i])\n",
    "    \n",
    "        ur_i = r_i\n",
    "    \n",
    "        # unit directional vector\n",
    "        ur_i ./= d_i\n",
    "        \n",
    "        sigma_i::Matrix{Float64} = zeros(3, 3)\n",
    "        for j_type::Int in 1:eam.Nelements\n",
    "            # use = get_type(neighbors, typelist) .== j_type # get the index of the neighbors with type j\n",
    "            # if !any(use)\n",
    "            #     continue\n",
    "            # end\n",
    "            # r_use = r_i[use]\n",
    "            # d_use = d_i[use]\n",
    "            # ur_use = ur_i[use, :]\n",
    "            # neighbors_use = neighbors[use]\n",
    "            r_use = r_i\n",
    "            d_use = d_i\n",
    "            ur_use::Matrix{Float64} = ur_i[:,:]\n",
    "            neighbors_use = neighbors\n",
    "    \n",
    "            total_density_j = total_density[neighbors_use]\n",
    "            \n",
    "            scale::Vector{Float64} = eam.d_phi[i_type, j_type].(d_use)\n",
    "            scale .+= (d_embedded_energy_i .* eam.d_electron_density[j_type].(d_use)) \n",
    "            scale .+= (eam.d_embedded_energy[j_type].(total_density_j) .* d_electron_density_i.(d_use))\n",
    "            \n",
    "            # forces_particle[i, :] .+= (ur_use' * scale) # get pairwise force here\n",
    "            forces_particle_ij = ur_use .* scale\n",
    "            # print(size(forces_particle_ij))\n",
    "\n",
    "            # Calculate the outer product and add it to the stress tensor\n",
    "            for j in 1:size(forces_particle_ij, 1)\n",
    "                sigma_i .+= r_i[j, :] * transpose(forces_particle_ij[j, :])\n",
    "            end\n",
    "            stresses_particle[i,:,:] = sigma_i\n",
    "        end\n",
    "    end\n",
    "\n",
    "    return stresses_particle\n",
    "end"
   ]
  },
  {
   "cell_type": "code",
   "execution_count": 83,
   "metadata": {},
   "outputs": [
    {
     "name": "stdout",
     "output_type": "stream",
     "text": [
      "Array{Float64, 3}"
     ]
    },
    {
     "data": {
      "text/plain": [
       "2047-element Vector{Float64}:\n",
       " 8.416260535715272e-10\n",
       " 6.081627916047773e-6\n",
       " 6.081627916047776e-6\n",
       " 6.081627916242058e-6\n",
       " 5.4303555579053674e-6\n",
       " 6.754858623730678e-6\n",
       " 6.7548586237160425e-6\n",
       " 6.510533840769375e-7\n",
       " 2.2774234710903852e-5\n",
       " 5.268384345152409e-6\n",
       " ⋮\n",
       " 4.020913477427076e-5\n",
       " 4.116597036557926e-5\n",
       " 6.212874006989114e-6\n",
       " 3.9529752978575874e-5\n",
       " 3.952975297855346e-5\n",
       " 4.301434029412511e-5\n",
       " 3.105211615096748e-8\n",
       " 3.6799130386866876e-5\n",
       " 3.679913038678362e-5"
      ]
     },
     "metadata": {},
     "output_type": "display_data"
    }
   ],
   "source": [
    "neighbors_all = get_neighbors_all(molly_system)\n",
    "stresses = calculate_atomstress(eam, molly_system, neighbors_all)\n",
    "print(typeof(stresses))\n",
    "function f_vm_stress(stresses)\n",
    "    vm_stress = zeros(size(stresses)[1])\n",
    "    for i in 1:size(stresses)[1]\n",
    "        σ = stresses[i, :, :]\n",
    "        σ_xx, σ_yy, σ_zz = σ[1, 1], σ[2, 2], σ[3, 3]\n",
    "        σ_xy, σ_yz, σ_zx = σ[1, 2], σ[2, 3], σ[3, 1]\n",
    "        vm_stress[i] = sqrt(0.5 * ((σ_xx - σ_yy)^2 + (σ_yy - σ_zz)^2 + (σ_zz - σ_xx)^2 + 6*(σ_xy^2 + σ_yz^2 + σ_zx^2)))\n",
    "    end \n",
    "\n",
    "    return vm_stress\n",
    "end\n",
    "vm_stress = f_vm_stress(stresses)"
   ]
  },
  {
   "cell_type": "code",
   "execution_count": 84,
   "metadata": {},
   "outputs": [
    {
     "data": {
      "text/plain": [
       "(2047, 3, 3)"
      ]
     },
     "metadata": {},
     "output_type": "display_data"
    }
   ],
   "source": [
    "size(stresses)"
   ]
  },
  {
   "cell_type": "code",
   "execution_count": 89,
   "metadata": {},
   "outputs": [
    {
     "data": {
      "text/plain": [
       "lmpDataWriter_prop"
      ]
     },
     "metadata": {},
     "output_type": "display_data"
    }
   ],
   "source": [
    "\"\"\"\n",
    "    lmpDumpWriter_prop(file, timestep, sys, fname_dump, property)\n",
    "\n",
    "Write atomic data to a LAMMPS dump file with additional property.\n",
    "\n",
    "# Arguments\n",
    "- `file`: The file object to write the data to.\n",
    "- `timestep`: The current timestep.\n",
    "- `sys`: The system object containing atomic coordinates and properties.\n",
    "- `fname_dump`: The filename of the dump file.\n",
    "- `property`: An array of additional properties for each atom.\n",
    "\"\"\"\n",
    "function lmpDumpWriter_prop(file,timestep,sys,fname_dump,property)\n",
    "    # open(fname_dump, \"a\") do file\n",
    "    write(file, \"ITEM: TIMESTEP\\n\")\n",
    "    write(file, string(timestep)*\"\\n\")\n",
    "    write(file, \"ITEM: NUMBER OF ATOMS\\n\")\n",
    "    write(file, string(length(sys.coords))*\"\\n\")\n",
    "    write(file, \"ITEM: BOX BOUNDS pp pp pp\\n\")\n",
    "    write(file, \"0 \"*string(ustrip(sys.boundary[1]))*\"\\n\")\n",
    "    write(file, \"0 \"*string(ustrip(sys.boundary[2]))*\"\\n\")\n",
    "    write(file, \"0 \"*string(ustrip(sys.boundary[3]))*\"\\n\")\n",
    "    write(file, \"ITEM: ATOMS id type xu yu zu property\\n\")\n",
    "    for (i_c, coord) in enumerate(sys.coords)\n",
    "        atomdata = sys.atoms_data[i_c]\n",
    "        write(file, string(i_c)*\" \"*string(atomdata.atom_type)*\" \"*join(ustrip(coord),\" \")*\" \"*string(property[i_c])*\"\\n\")\n",
    "    end\n",
    "    # end\n",
    "end\n",
    "\n",
    "\"\"\"\n",
    "    lmpDataWriter_prop(file, timestep, sys, fname_dump, property)\n",
    "\n",
    "Write atomic data to a LAMMPS dump file with additional property.\n",
    "\n",
    "# Arguments\n",
    "- `file`: The file object to write the data to.\n",
    "- `timestep`: The current timestep.\n",
    "- `sys`: The system object containing atomic coordinates and properties.\n",
    "- `fname_dump`: The filename of the dump file.\n",
    "- `property`: An array of additional properties for each atom.\n",
    "\"\"\"\n",
    "function lmpDataWriter_prop(file,timestep,sys,fname_dump,property)\n",
    "    # open(fname_dump, \"a\") do file\n",
    "    n_types = length(unique([ad.atom_type for ad in molly_system.atoms_data]))\n",
    "    write(file, \"# LAMMPS data file written by lammpsIO.jl\\n\")       #1\n",
    "    write(file, \"\\n\")                                                #2\n",
    "    write(file, string(length(sys.coords))*\" atoms\\n\")               #3\n",
    "    write(file, string(n_types)*\" atom types\\n\")                     #4\n",
    "    write(file, \"\\n\")                                                #5\n",
    "    write(file, \"0 \"*string(ustrip(sys.boundary[1]))*\" xlo xhi\\n\")   #6\n",
    "    write(file, \"0 \"*string(ustrip(sys.boundary[2]))*\" ylo yhi\\n\")   #7\n",
    "    write(file, \"0 \"*string(ustrip(sys.boundary[3]))*\" zlo zhi\\n\")   #8\n",
    "    write(file, \"\\n\")                                                #9\n",
    "    write(file, \"Atoms  # atomic\\n\")                                 #10\n",
    "    write(file, \"\\n\")                                                #11\n",
    "    for (i_c, coord) in enumerate(sys.coords)\n",
    "        atomdata = sys.atoms_data[i_c]\n",
    "        write(file, string(i_c)*\" \"*string(atomdata.atom_type)*\" \"*join(ustrip(coord),\" \")*\" \"*string(property[i_c])*\"\\n\")\n",
    "    end\n",
    "    # end\n",
    "end\n",
    "\n"
   ]
  },
  {
   "cell_type": "code",
   "execution_count": 90,
   "metadata": {},
   "outputs": [],
   "source": [
    "open(\"test_stress.dump\", \"w\") do file\n",
    "    lmpDumpWriter_prop(file,0,molly_system,\"test_stress.dump\",vm_stress)\n",
    "end\n",
    "\n",
    "open(\"test_stress.data\", \"w\") do file\n",
    "    lmpDataWriter_prop(file,0,molly_system,\"test_stress.data\",vm_stress)\n",
    "end"
   ]
  },
  {
   "cell_type": "code",
   "execution_count": null,
   "metadata": {},
   "outputs": [],
   "source": []
  }
 ],
 "metadata": {
  "kernelspec": {
   "display_name": "Julia 1.10.4",
   "language": "julia",
   "name": "julia-1.10"
  },
  "language_info": {
   "file_extension": ".jl",
   "mimetype": "application/julia",
   "name": "julia",
   "version": "1.10.4"
  }
 },
 "nbformat": 4,
 "nbformat_minor": 2
}
