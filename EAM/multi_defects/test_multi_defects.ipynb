{
 "cells": [
  {
   "cell_type": "code",
   "execution_count": 1,
   "metadata": {},
   "outputs": [
    {
     "name": "stderr",
     "output_type": "stream",
     "text": [
      "\u001b[32m\u001b[1m  Activating\u001b[22m\u001b[39m new project at `~/Documents/ABCD_J/EAM/multi_defects`\n"
     ]
    }
   ],
   "source": [
    "cd(@__DIR__)\n",
    "ENV[\"CELLLISTMAP_8.3_WARNING\"] = \"false\"\n",
    "include(\"../../src/juliaEAM.jl\")\n",
    "include(\"../../src/lammpsIO.jl\")\n",
    "\n",
    "using Pkg\n",
    "Pkg.activate(\".\")\n",
    "\n",
    "using Printf\n",
    "using AtomsCalculators\n",
    "using Unitful: Å, nm\n",
    "using StaticArrays: SVector\n",
    "using Molly\n",
    "using LinearAlgebra\n",
    "using DelimitedFiles\n",
    "using UnitfulAtomic\n",
    "import PeriodicTable\n",
    "using ProgressMeter\n",
    "using Random"
   ]
  },
  {
   "cell_type": "markdown",
   "metadata": {},
   "source": [
    "## Define Aluminum"
   ]
  },
  {
   "cell_type": "code",
   "execution_count": 2,
   "metadata": {},
   "outputs": [],
   "source": [
    "al_LatConst = 4.0495/10 # nm\n",
    "atom_mass = 26.9815u\"u\"  # Atomic mass of aluminum in grams per mole\n",
    "\n",
    "## `AtomCalculators` force/energy calculator and `Molly` simulator\n",
    "eam = EAM()\n",
    "fname = \"Al99.eam.alloy\"\n",
    "read_potential!(eam, fname)\n",
    "\n",
    "### Define customized interaction type in `AtomsCalculators`\n",
    "struct EAMInteractionJulia\n",
    "    calculator::Any  # Holds the ASE EAM calculator reference\n",
    "    f_energy::Any    # Holds the energy function\n",
    "    f_forces::Any    # Holds the forces function\n",
    "    f_atomstress::Any  # Holds the atomic level stresses function\n",
    "end"
   ]
  },
  {
   "cell_type": "code",
   "execution_count": 3,
   "metadata": {},
   "outputs": [
    {
     "data": {
      "text/plain": [
       "EAMInteractionJulia(EAM(1, [\"Al\"], 10000, 0.0002, 10000, 0.000628721, 6.28721, [1.042222107228152e-10 -0.002833153928160009 … -2.076421465206393 -2.076023741417596], [0.2785894267518672 0.2784103240595593 … 0.0 0.0], [13], [26.982], [4.05], \"fcc\", [0.0;;; 0.03937793713511766;;; 0.07866615574588072;;; … ;;; -9.062527475633544e-10;;; -2.684334141141742e-10;;; -3.337655546827989e-11], 0.0:0.000628721:6.286581279000001, 0.0:0.0002:1.9998, [0.0, 0.000628721, 0.001257442, 0.0018861630000000002, 0.002514884, 0.0031436050000000003, 0.0037723260000000003, 0.004401047, 0.005029768, 0.005658489000000001  …  6.280922790000001, 6.281551511000001, 6.282180232000001, 6.282808953000001, 6.283437674000001, 6.284066395000001, 6.284695116000001, 6.285323837000001, 6.285952558000001, 6.286581279000001], [0.0, 0.0002, 0.0004, 0.0006, 0.0008, 0.001, 0.0012, 0.0014, 0.0016, 0.0018  …  1.998, 1.9982, 1.9984, 1.9986, 1.9988, 1.999, 1.9992, 1.9994, 1.9996, 1.9998], Interpolations.Extrapolation{Float64, 1, Interpolations.ScaledInterpolation{Float64, 1, Interpolations.BSplineInterpolation{Float64, 1, OffsetArrays.OffsetVector{Float64, Vector{Float64}}, BSpline{Cubic{Line{OnGrid}}}, Tuple{Base.OneTo{Int64}}}, BSpline{Cubic{Line{OnGrid}}}, Tuple{StepRangeLen{Float64, Base.TwicePrecision{Float64}, Base.TwicePrecision{Float64}, Int64}}}, BSpline{Cubic{Line{OnGrid}}}, Interpolations.Throw{Nothing}}[10000-element extrapolate(scale(interpolate(OffsetArray(::Vector{Float64}, 0:10001), BSpline(Cubic(Line(OnGrid())))), (0.0:0.0002:1.9998,)), Throw()) with element type Float64:\n",
       "  1.0422221077702534e-10\n",
       " -0.0028331539281600095\n",
       " -0.0056632863035733375\n",
       " -0.00849039893321778\n",
       " -0.011314493728293339\n",
       " -0.0141355726\n",
       " -0.016953637459537776\n",
       " -0.01976869021810666\n",
       " -0.02258073278690667\n",
       " -0.02538976707713778\n",
       "  ⋮\n",
       " -2.079201950746252\n",
       " -2.0788051229779345\n",
       " -2.078408166836492\n",
       " -2.078011082463367\n",
       " -2.0776138699999995\n",
       " -2.077216529577596\n",
       " -2.076819061286393\n",
       " -2.0764214652063924\n",
       " -2.076023741417596], Interpolations.Extrapolation{Float64, 1, Interpolations.ScaledInterpolation{Float64, 1, Interpolations.BSplineInterpolation{Float64, 1, OffsetArrays.OffsetVector{Float64, Vector{Float64}}, BSpline{Cubic{Line{OnGrid}}}, Tuple{Base.OneTo{Int64}}}, BSpline{Cubic{Line{OnGrid}}}, Tuple{StepRangeLen{Float64, Base.TwicePrecision{Float64}, Base.TwicePrecision{Float64}, Int64}}}, BSpline{Cubic{Line{OnGrid}}}, Interpolations.Throw{Nothing}}[10000-element extrapolate(scale(interpolate(OffsetArray(::Vector{Float64}, 0:10001), BSpline(Cubic(Line(OnGrid())))), (0.0:0.000628721:6.286581279000001,)), Throw()) with element type Float64:\n",
       "  0.2785894267518672\n",
       "  0.27841032405955923\n",
       "  0.2782313050229846\n",
       "  0.2780523696380973\n",
       "  0.2778735179008519\n",
       "  0.2776947498072021\n",
       "  0.2775160653531024\n",
       "  0.2773374645345068\n",
       "  0.2771589473473697\n",
       "  0.2769805137876451\n",
       "  ⋮\n",
       "  7.596454196607839e-64\n",
       " -1.5192908393215678e-63\n",
       "  2.8486703237279396e-65\n",
       " -1.4243351618639698e-65\n",
       "  8.308621777539824e-66\n",
       " -5.934729841099874e-66\n",
       " -3.338285535618679e-67\n",
       " -1.4836824602749686e-67\n",
       "  1.1127618452062264e-67], Interpolations.Extrapolation{Float64, 1, Interpolations.ScaledInterpolation{Float64, 1, Interpolations.BSplineInterpolation{Float64, 1, OffsetArrays.OffsetVector{Float64, Vector{Float64}}, BSpline{Cubic{Line{OnGrid}}}, Tuple{Base.OneTo{Int64}}}, BSpline{Cubic{Line{OnGrid}}}, Tuple{StepRangeLen{Float64, Base.TwicePrecision{Float64}, Base.TwicePrecision{Float64}, Int64}}}, BSpline{Cubic{Line{OnGrid}}}, Interpolations.Throw{Nothing}}[10000-element extrapolate(scale(interpolate(OffsetArray(::Vector{Float64}, 0:10001), BSpline(Cubic(Line(OnGrid())))), (0.0:0.0002:1.9998,)), Throw()) with element type Float64:\n",
       " -14.168963344926107\n",
       " -14.159383795881084\n",
       " -14.14279758848278\n",
       " -14.12810092605439\n",
       " -14.11291007809968\n",
       " -14.097863763280172\n",
       " -14.082790837446256\n",
       " -14.067737158534694\n",
       " -14.052690438948328\n",
       " -14.037653971138788\n",
       "   ⋮\n",
       "   1.9838176681363784\n",
       "   1.9844599105367513\n",
       "   1.985101336112738\n",
       "   1.9857424635438812\n",
       "   1.98638135709861\n",
       "   1.9870253946163707\n",
       "   1.9876477685409901\n",
       "   1.9883490992678166\n",
       "   1.9887538663410087], Interpolations.Extrapolation{Float64, 1, Interpolations.ScaledInterpolation{Float64, 1, Interpolations.BSplineInterpolation{Float64, 1, OffsetArrays.OffsetVector{Float64, Vector{Float64}}, BSpline{Cubic{Line{OnGrid}}}, Tuple{Base.OneTo{Int64}}}, BSpline{Cubic{Line{OnGrid}}}, Tuple{StepRangeLen{Float64, Base.TwicePrecision{Float64}, Base.TwicePrecision{Float64}, Int64}}}, BSpline{Cubic{Line{OnGrid}}}, Interpolations.Throw{Nothing}}[10000-element extrapolate(scale(interpolate(OffsetArray(::Vector{Float64}, 0:10001), BSpline(Cubic(Line(OnGrid())))), (0.0:0.000628721:6.286581279000001,)), Throw()) with element type Float64:\n",
       " -0.2848964342294716\n",
       " -0.28481207860631264\n",
       " -0.284665974460754\n",
       " -0.28453642394089806\n",
       " -0.2844024460498324\n",
       " -0.2842696626286497\n",
       " -0.28413656730940584\n",
       " -0.2840035637222552\n",
       " -0.2838705437146563\n",
       " -0.28373753626613524\n",
       "  ⋮\n",
       "  5.186381108574362e-44\n",
       " -1.3896866423677113e-44\n",
       "  3.7236546089621024e-45\n",
       " -9.977520121719559e-46\n",
       "  2.6735343972563765e-46\n",
       " -7.166174673058206e-47\n",
       "  1.9293547196695218e-47\n",
       " -5.51244205619864e-48\n",
       "  2.7562210280993085e-48], Interpolations.Extrapolation{Float64, 1, Interpolations.ScaledInterpolation{Float64, 1, Interpolations.BSplineInterpolation{Float64, 1, OffsetArrays.OffsetVector{Float64, Vector{Float64}}, BSpline{Cubic{Line{OnGrid}}}, Tuple{Base.OneTo{Int64}}}, BSpline{Cubic{Line{OnGrid}}}, Tuple{StepRangeLen{Float64, Base.TwicePrecision{Float64}, Base.TwicePrecision{Float64}, Int64}}}, BSpline{Cubic{Line{OnGrid}}}, Interpolations.Throw{Nothing}}[9999-element extrapolate(scale(interpolate(OffsetArray(::Vector{Float64}, 0:10000), BSpline(Cubic(Line(OnGrid())))), (0.000628721:0.000628721:6.286581279000001,)), Throw()) with element type Float64:\n",
       " 62.63181464452063\n",
       " 62.56046461457523\n",
       " 62.489174067088356\n",
       " 62.417942975909426\n",
       " 62.34677131488777\n",
       " 62.27565905787276\n",
       " 62.204606178713746\n",
       " 62.133612651260094\n",
       " 62.06267844936115\n",
       " 61.99180354686634\n",
       "  ⋮\n",
       " -3.891125025088003e-9\n",
       " -2.7331575697417296e-9\n",
       " -1.8311807183330836e-9\n",
       " -1.1532578394381617e-9\n",
       " -6.674462013717029e-10\n",
       " -3.417609898918443e-10\n",
       " -1.4418552982560576e-10\n",
       " -4.2703697114694983e-11\n",
       " -5.309174253385148e-12;;], Interpolations.Extrapolation{Float64, 1, Interpolations.ScaledInterpolation{Float64, 1, Interpolations.BSplineInterpolation{Float64, 1, OffsetArrays.OffsetVector{Float64, Vector{Float64}}, BSpline{Cubic{Line{OnGrid}}}, Tuple{Base.OneTo{Int64}}}, BSpline{Cubic{Line{OnGrid}}}, Tuple{StepRangeLen{Float64, Base.TwicePrecision{Float64}, Base.TwicePrecision{Float64}, Int64}}}, BSpline{Cubic{Line{OnGrid}}}, Interpolations.Throw{Nothing}}[9999-element extrapolate(scale(interpolate(OffsetArray(::Vector{Float64}, 0:10000), BSpline(Cubic(Line(OnGrid())))), (0.000628721:0.000628721:6.286581279000001,)), Throw()) with element type Float64:\n",
       " -113.50440216850322\n",
       " -113.44441710177705\n",
       " -113.34054628757805\n",
       " -113.24848736225253\n",
       " -113.1533161891785\n",
       " -113.05903167865044\n",
       " -112.96456232594267\n",
       " -112.87019523990645\n",
       " -112.77585348982288\n",
       " -112.6815576892473\n",
       "    ⋮\n",
       "    2.062276387447673e-6\n",
       "    1.629739801576911e-6\n",
       "    1.2479778733704196e-6\n",
       "    9.169853830716206e-7\n",
       "    6.369467319210416e-7\n",
       "    4.073594434546684e-7\n",
       "    2.3040185043145006e-7\n",
       "    9.801249594452655e-8\n",
       "    4.020945230172908e-8;;]), calculate_energy, calculate_forces, calculate_atomstress)"
      ]
     },
     "metadata": {},
     "output_type": "display_data"
    }
   ],
   "source": [
    "include(\"../../src/simulator.jl\")\n",
    "\n",
    "eamJulia = EAMInteractionJulia(eam,calculate_energy,calculate_forces,calculate_atomstress)"
   ]
  },
  {
   "cell_type": "code",
   "execution_count": 4,
   "metadata": {},
   "outputs": [
    {
     "data": {
      "text/plain": [
       "initialize_system_dump (generic function with 1 method)"
      ]
     },
     "metadata": {},
     "output_type": "display_data"
    }
   ],
   "source": [
    "function initialize_system_dump(;loggers=(coords=CoordinateLogger(1),),filename_dump=\"\")\n",
    "    n_atoms, box_size, coords_molly, attypes = lmpDumpReader(filename_dump)\n",
    "    molly_atoms = [Molly.Atom(index=i, charge=0, mass=atom_mass, \n",
    "                    #   σ=2.0u\"Å\" |> x -> uconvert(u\"nm\", x), ϵ=ϵ_kJ_per_mol\n",
    "                    ) for i in 1:length(coords_molly)]\n",
    "    # Specify boundary condition\n",
    "    boundary_condition = Molly.CubicBoundary(box_size[1],box_size[2],box_size[3])\n",
    "\n",
    "    atom_positions_init = copy(coords_molly)\n",
    "    molly_atoms_init = copy(molly_atoms)\n",
    "\n",
    "    DNF = DistanceNeighborFinder(\n",
    "        eligible=trues(length(molly_atoms_init), length(molly_atoms_init)),\n",
    "        n_steps=1e3,\n",
    "        dist_cutoff=8u\"Å\")\n",
    "    TNF = TreeNeighborFinder(\n",
    "        eligible=trues(length(molly_atoms_init), length(molly_atoms_init)), \n",
    "        n_steps=1e3,\n",
    "        dist_cutoff=8u\"Å\")\n",
    "\n",
    "    # Initialize the system with the initial positions and velocities\n",
    "    system_init = Molly.System(\n",
    "    atoms=molly_atoms_init,\n",
    "    atoms_data = [AtomData(element=\"Al\", atom_type=string(attypes[ia])) for (ia,a) in enumerate(molly_atoms_init)],\n",
    "    coords=atom_positions_init,  # Ensure these are SVector with correct units\n",
    "    boundary=boundary_condition,\n",
    "    # loggers=Dict(:kinetic_eng => Molly.KineticEnergyLogger(100), :pot_eng => Molly.PotentialEnergyLogger(100)),\n",
    "    neighbor_finder = DNF,\n",
    "    loggers=loggers,\n",
    "    energy_units=u\"eV\",  # Ensure these units are correctly specified\n",
    "    force_units=u\"eV/Å\"  # Ensure these units are correctly specified\n",
    "    )\n",
    "    return system_init\n",
    "end"
   ]
  },
  {
   "cell_type": "markdown",
   "metadata": {},
   "source": [
    "## Initialize sys"
   ]
  },
  {
   "cell_type": "code",
   "execution_count": 5,
   "metadata": {},
   "outputs": [
    {
     "data": {
      "text/plain": [
       "2046-element Vector{Vector{Int64}}:\n",
       " [263, 265, 266, 267, 268, 269, 270, 271, 272, 283  …  1552, 1632, 1633, 1635, 1648, 1649, 1650, 1651, 1664, 1776]\n",
       " [3, 4, 5, 6, 7, 8, 9, 12, 17, 18  …  1933, 1934, 1935, 1948, 1949, 1950, 1951, 1966, 2045, 2046]\n",
       " [2, 4, 5, 6, 7, 8, 9, 12, 17, 18  …  1279, 1293, 1405, 1600, 1933, 1934, 1935, 1950, 2045, 2046]\n",
       " [2, 3, 5, 6, 7, 8, 17, 18, 19, 20  …  1934, 1935, 1946, 1948, 1949, 1950, 1951, 1966, 2045, 2046]\n",
       " [2, 3, 4, 6, 7, 8, 9, 10, 11, 12  …  1054, 1149, 1150, 1165, 1277, 1933, 1934, 1950, 2045, 2046]\n",
       " [2, 3, 4, 5, 7, 8, 9, 10, 11, 12  …  1011, 1012, 1013, 1014, 1015, 1016, 1017, 1018, 1019, 1023]\n",
       " [2, 3, 4, 5, 6, 8, 9, 10, 11, 12  …  1011, 1012, 1013, 1014, 1015, 1016, 1017, 1018, 1019, 1023]\n",
       " [2, 3, 4, 5, 6, 7, 9, 10, 11, 12  …  1053, 1054, 1149, 1165, 1166, 1181, 1182, 1277, 1934, 1950]\n",
       " [2, 3, 5, 6, 7, 8, 10, 11, 12, 13  …  1014, 1015, 1016, 1017, 1018, 1019, 1020, 1021, 1022, 1023]\n",
       " [5, 6, 7, 8, 9, 11, 12, 13, 14, 15  …  1040, 1043, 1139, 1152, 1168, 1920, 1923, 1936, 1939, 2035]\n",
       " ⋮\n",
       " [1024, 1025, 1026, 1028, 1029, 1030, 1031, 1032, 1033, 1034  …  2034, 2035, 2036, 2037, 2039, 2040, 2041, 2042, 2043, 2044]\n",
       " [14, 15, 110, 126, 127, 782, 894, 909, 910, 1005  …  2033, 2034, 2035, 2036, 2037, 2038, 2040, 2041, 2042, 2043]\n",
       " [1028, 1029, 1030, 1032, 1033, 1034, 1036, 1109, 1113, 1121  …  2036, 2037, 2038, 2039, 2041, 2042, 2043, 2044, 2045, 2046]\n",
       " [113, 768, 771, 867, 880, 883, 896, 899, 995, 1008  …  2036, 2037, 2038, 2039, 2040, 2042, 2043, 2044, 2045, 2046]\n",
       " [97, 100, 113, 116, 867, 883, 896, 992, 995, 1008  …  2036, 2037, 2038, 2039, 2040, 2041, 2043, 2044, 2045, 2046]\n",
       " [1025, 1026, 1028, 1029, 1030, 1031, 1032, 1033, 1034, 1035  …  2036, 2037, 2038, 2039, 2040, 2041, 2042, 2044, 2045, 2046]\n",
       " [97, 98, 100, 113, 114, 116, 739, 755, 768, 770  …  2030, 2031, 2037, 2038, 2040, 2041, 2042, 2043, 2045, 2046]\n",
       " [2, 3, 4, 5, 17, 97, 98, 100, 113, 114  …  2028, 2029, 2030, 2031, 2040, 2041, 2042, 2043, 2044, 2046]\n",
       " [2, 3, 4, 5, 82, 84, 97, 98, 99, 100  …  2028, 2029, 2030, 2031, 2040, 2041, 2042, 2043, 2044, 2045]"
      ]
     },
     "metadata": {},
     "output_type": "display_data"
    }
   ],
   "source": [
    "filename_dump = \"./out_vacancy_2.dump\"\n",
    "molly_system = initialize_system_dump(filename_dump = filename_dump)\n",
    "neighbors_all = get_neighbors_all(molly_system)"
   ]
  },
  {
   "cell_type": "markdown",
   "metadata": {},
   "source": [
    "energy minimization"
   ]
  },
  {
   "cell_type": "code",
   "execution_count": 6,
   "metadata": {},
   "outputs": [
    {
     "data": {
      "text/plain": [
       "2046-element Vector{Vector{Int64}}:\n",
       " [263, 265, 266, 267, 268, 269, 270, 271, 272, 283  …  1552, 1632, 1633, 1635, 1648, 1649, 1650, 1651, 1664, 1776]\n",
       " [3, 4, 5, 6, 7, 8, 9, 12, 17, 18  …  1933, 1934, 1935, 1948, 1949, 1950, 1951, 1966, 2045, 2046]\n",
       " [2, 4, 5, 6, 7, 8, 9, 12, 17, 18  …  1279, 1293, 1405, 1600, 1933, 1934, 1935, 1950, 2045, 2046]\n",
       " [2, 3, 5, 6, 7, 8, 17, 18, 19, 20  …  1934, 1935, 1946, 1948, 1949, 1950, 1951, 1966, 2045, 2046]\n",
       " [2, 3, 4, 6, 7, 8, 9, 10, 11, 12  …  1054, 1149, 1150, 1165, 1277, 1933, 1934, 1950, 2045, 2046]\n",
       " [2, 3, 4, 5, 7, 8, 9, 10, 11, 12  …  1011, 1012, 1013, 1014, 1015, 1016, 1017, 1018, 1019, 1023]\n",
       " [2, 3, 4, 5, 6, 8, 9, 10, 11, 12  …  1011, 1012, 1013, 1014, 1015, 1016, 1017, 1018, 1019, 1023]\n",
       " [2, 3, 4, 5, 6, 7, 9, 10, 11, 12  …  1053, 1054, 1149, 1165, 1166, 1181, 1182, 1277, 1934, 1950]\n",
       " [2, 3, 5, 6, 7, 8, 10, 11, 12, 13  …  1014, 1015, 1016, 1017, 1018, 1019, 1020, 1021, 1022, 1023]\n",
       " [5, 6, 7, 8, 9, 11, 12, 13, 14, 15  …  1040, 1043, 1139, 1152, 1168, 1920, 1923, 1936, 1939, 2035]\n",
       " ⋮\n",
       " [1024, 1025, 1026, 1028, 1029, 1030, 1031, 1032, 1033, 1034  …  2034, 2035, 2036, 2037, 2039, 2040, 2041, 2042, 2043, 2044]\n",
       " [14, 15, 110, 126, 127, 782, 894, 909, 910, 1005  …  2033, 2034, 2035, 2036, 2037, 2038, 2040, 2041, 2042, 2043]\n",
       " [1028, 1029, 1030, 1032, 1033, 1034, 1036, 1109, 1113, 1121  …  2036, 2037, 2038, 2039, 2041, 2042, 2043, 2044, 2045, 2046]\n",
       " [113, 768, 771, 867, 880, 883, 896, 899, 995, 1008  …  2036, 2037, 2038, 2039, 2040, 2042, 2043, 2044, 2045, 2046]\n",
       " [97, 100, 113, 116, 867, 883, 896, 992, 995, 1008  …  2036, 2037, 2038, 2039, 2040, 2041, 2043, 2044, 2045, 2046]\n",
       " [1025, 1026, 1028, 1029, 1030, 1031, 1032, 1033, 1034, 1035  …  2036, 2037, 2038, 2039, 2040, 2041, 2042, 2044, 2045, 2046]\n",
       " [97, 98, 100, 113, 114, 116, 739, 755, 768, 770  …  2030, 2031, 2037, 2038, 2040, 2041, 2042, 2043, 2045, 2046]\n",
       " [2, 3, 4, 5, 17, 97, 98, 100, 113, 114  …  2028, 2029, 2030, 2031, 2040, 2041, 2042, 2043, 2044, 2046]\n",
       " [2, 3, 4, 5, 82, 84, 97, 98, 99, 100  …  2028, 2029, 2030, 2031, 2040, 2041, 2042, 2043, 2044, 2045]"
      ]
     },
     "metadata": {},
     "output_type": "display_data"
    }
   ],
   "source": [
    "simulator = ABCSimulator(sigma=1.0*u\"Å\", W=1.0*u\"eV\", max_steps=1, max_steps_minimize=20, step_size_minimize=5e-3u\"ps\", tol=1e-6u\"eV/Å\")\n",
    "Minimize_FIRE!(molly_system, simulator, eamJulia, nothing, neighbors_all;\n",
    "         n_threads=1, frozen_atoms=[], neig_interval=5, print_nsteps=true,\n",
    "         mass=26.9815u\"u\")\n",
    "neighbors_all = get_neighbors_all(molly_system)"
   ]
  },
  {
   "cell_type": "markdown",
   "metadata": {},
   "source": [
    "run ABC"
   ]
  },
  {
   "cell_type": "code",
   "execution_count": 7,
   "metadata": {},
   "outputs": [
    {
     "name": "stdout",
     "output_type": "stream",
     "text": [
      "exclude 0 atoms from E_phi calculation\n",
      "using 2046 atoms for E_phi calculation\n",
      "sigma^2 = 2.700000e-01, 6.632365e-03 Å/dof^1/2\n",
      " W = 1.000000e-01 eV\n",
      "step 0: -6873.2102638120095 eV\n"
     ]
    },
    {
     "name": "stderr",
     "output_type": "stream",
     "text": [
      "\u001b[32mProgress: 100%|█████████████████████████████████████████| Time: 6:47:02\u001b[39m\n"
     ]
    },
    {
     "data": {
      "text/plain": [
       "System with 2046 atoms, boundary CubicBoundary{Quantity{Float64, 𝐋, Unitful.FreeUnits{(Å,), 𝐋, nothing}}}(Quantity{Float64, 𝐋, Unitful.FreeUnits{(Å,), 𝐋, nothing}}[32.39491355457103 Å, 32.39491355457103 Å, 32.39491355457103 Å])"
      ]
     },
     "metadata": {},
     "output_type": "display_data"
    }
   ],
   "source": [
    "frozen_atoms = []\n",
    "nopenalty_atoms = []\n",
    "N_free = length(molly_system.coords)-length(nopenalty_atoms)\n",
    "print(\"exclude \",length(nopenalty_atoms),\" atoms from E_phi calculation\\n\")\n",
    "print(\"using \",N_free,\" atoms for E_phi calculation\\n\")\n",
    "\n",
    "# sigma = sqrt(0.006*3*N_free)\n",
    "sigma = sqrt(0.27)\n",
    "W = 0.1\n",
    "@printf(\"sigma^2 = %e, %e Å/dof^1/2\\n W = %e eV\\n\",ustrip(sigma^2), ustrip(sigma/sqrt(3*N_free)),ustrip(W))\n",
    "\n",
    "simulator = ABCSimulator(sigma=sigma*u\"Å\", W=W*u\"eV\", \n",
    "                         max_steps=20000, max_steps_minimize=30, step_size_minimize=5e-3u\"ps\", tol=1e-3u\"eV/Å\")\n",
    "\n",
    "simulate!(molly_system, simulator, eamJulia, n_threads=1, \n",
    "         #   fname=\"output_stress_cube8.txt\", fname_dump=\"stress_cube8.dump\", fname_min_dump=\"min_stress_cube8.dump\",\n",
    "         fname=\"test.txt\", fname_dump=\"test.dump\", fname_min_dump=\"test.dump\", # for speed test\n",
    "         neig_interval=30, loggers_interval=10, dump_interval=100, start_dump=0,\n",
    "         minimize_only=false, \n",
    "         d_boost=1e-6u\"Å\", \n",
    "         frozen_atoms=frozen_atoms, nopenalty_atoms=nopenalty_atoms, \n",
    "         p_drop = 1-1/32, p_keep=0, n_memory=0, n_search=100,\n",
    "         p_stress = 1-12/2047)"
   ]
  }
 ],
 "metadata": {
  "kernelspec": {
   "display_name": "Julia 1.10.5",
   "language": "julia",
   "name": "julia-1.10"
  },
  "language_info": {
   "file_extension": ".jl",
   "mimetype": "application/julia",
   "name": "julia",
   "version": "1.10.5"
  }
 },
 "nbformat": 4,
 "nbformat_minor": 2
}
