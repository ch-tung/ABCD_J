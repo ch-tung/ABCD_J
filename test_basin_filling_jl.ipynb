{
 "cells": [
  {
   "cell_type": "code",
   "execution_count": 1,
   "metadata": {},
   "outputs": [
    {
     "name": "stderr",
     "output_type": "stream",
     "text": [
      "\u001b[32m\u001b[1m  Activating\u001b[22m\u001b[39m new project at `c:\\Documents\\Project\\metadynamics`"
     ]
    },
    {
     "name": "stderr",
     "output_type": "stream",
     "text": [
      "\n"
     ]
    }
   ],
   "source": [
    "cd(@__DIR__)\n",
    "using Pkg\n",
    "Pkg.activate(\".\")\n",
    "\n",
    "# using Plots\n",
    "using Optim\n",
    "using LinearAlgebra\n",
    "using Random\n",
    "using Distributions\n",
    "using GLMakie"
   ]
  },
  {
   "cell_type": "code",
   "execution_count": 2,
   "metadata": {},
   "outputs": [
    {
     "data": {
      "text/plain": [
       "elementwise_f (generic function with 1 method)"
      ]
     },
     "metadata": {},
     "output_type": "display_data"
    }
   ],
   "source": [
    "function meshgrid(x, y)\n",
    "    ny, nx = length(y), length(x)\n",
    "    rx = repeat(reshape(x, 1, nx), ny, 1)\n",
    "    ry = repeat(reshape(y, ny, 1), 1, nx)\n",
    "    return rx, ry\n",
    "end\n",
    "\n",
    "function elementwise_f(f, X, Y)\n",
    "    # Check if X and Y have the same dimensions\n",
    "    if size(X) != size(Y)\n",
    "        error(\"Input arrays X and Y must have the same dimensions.\")\n",
    "    end\n",
    "\n",
    "    # Initialize the output array Z with zeros\n",
    "    Z = zeros(size(X))\n",
    "\n",
    "    # Apply f(x, y) element-wise and store in Z\n",
    "    for i = 1:size(X, 1)\n",
    "        for j = 1:size(X, 2)\n",
    "            x = X[i, j]\n",
    "            y = Y[i, j]\n",
    "            z = f([x, y])\n",
    "            Z[i, j] = z\n",
    "        end\n",
    "    end\n",
    "\n",
    "    # Return the result\n",
    "    return Z\n",
    "end"
   ]
  },
  {
   "cell_type": "code",
   "execution_count": 3,
   "metadata": {},
   "outputs": [
    {
     "data": {
      "text/plain": [
       "f_phi_p (generic function with 3 methods)"
      ]
     },
     "metadata": {},
     "output_type": "display_data"
    }
   ],
   "source": [
    "n_grid = 480\n",
    "x = range(-1.2, stop=1.2, length=n_grid+1)\n",
    "y = range(-1.2, stop=1.2, length=n_grid+1)\n",
    "\n",
    "# Create 2D meshgrid\n",
    "X, Y = meshgrid(x, y)\n",
    "\n",
    "# Compute Z as a function of X and Y\n",
    "# Define a common frequency for the landscape\n",
    "frequency = 2 * π * 1\n",
    "\n",
    "# A simple PES function\n",
    "function f_basin(x)\n",
    "    coord = [x..., 0.0]\n",
    "    rho_basin = 0.24 * sum((coord - [0.0, 0.0, 0.0]).^4)\n",
    "    return rho_basin\n",
    "end\n",
    "\n",
    "function f_z(x)\n",
    "    return sin.(frequency * x[1]) .* cos.(frequency * x[2]) + f_basin(x)\n",
    "end\n",
    "\n",
    "# Compute Z as a function of X and Y using the common frequency\n",
    "Z = elementwise_f(f_z, X, Y) + elementwise_f(f_basin, X, Y)\n",
    "\n",
    "# Penalty function\n",
    "function f_phi_p(x, x_0, sigma=0.01, W=0.5)\n",
    "    phi_p = sum([W * exp(-sum((x - c).^2) / (2*sigma^2)) for c in x_0])\n",
    "    return phi_p\n",
    "end"
   ]
  },
  {
   "cell_type": "code",
   "execution_count": 4,
   "metadata": {},
   "outputs": [
    {
     "data": {
      "text/plain": [
       "2-element Vector{Float64}:\n",
       " -0.2496217672537466\n",
       " -1.604668770529158e-10"
      ]
     },
     "metadata": {},
     "output_type": "display_data"
    }
   ],
   "source": [
    "x_0 = [-0.25, 0.01]\n",
    "# x_0 = [-0.1, 0.1]\n",
    "lower_bounds = [-1.0, -1.0]\n",
    "upper_bounds = [1.0, 1.0]\n",
    "\n",
    "inner_optimizer = LBFGS()\n",
    "opti = optimize(x -> f_z(x), lower_bounds, upper_bounds, x_0, Fminbox(inner_optimizer), Optim.Options(g_tol = 1e-6))\n",
    "x_i = Optim.minimizer(opti)"
   ]
  },
  {
   "cell_type": "code",
   "execution_count": 5,
   "metadata": {},
   "outputs": [],
   "source": [
    "# Initialize\n",
    "basin_list = [x_i]\n",
    "x_list = [x_i]\n",
    "rho_new = copy(Z)  # Assuming Z is the initial state similar to rho_bg in Python\n",
    "sigma = 0.03\n",
    "W = 0.2\n",
    "\n",
    "n_trial = 500\n",
    "for i in 1:n_trial\n",
    "    # Activation step\n",
    "    n_p = min(i, n_trial)  # Ensure we don't go beyond the length of x_list\n",
    "    start_index = max(1, length(x_list) - n_p + 1)\n",
    "    f_new = x -> f_z(x) + f_basin(x) + f_phi_p(x, x_list, sigma, W) \n",
    "    \n",
    "    # Relaxation step\n",
    "    d_b = 0.5\n",
    "    x_min = max(x_list[end][1] - d_b, -10)  \n",
    "    y_min = max(x_list[end][2] - d_b, -10)\n",
    "    x_max = min(x_list[end][1] + d_b, 10)\n",
    "    y_max = min(x_list[end][2] + d_b, 10)\n",
    "\n",
    "    lower_bounds = [x_min, y_min]\n",
    "    upper_bounds = [x_max, y_max]\n",
    "\n",
    "    x_init = x_list[end] + (rand(2).-0.5)*0.001\n",
    "\n",
    "    inner_optimizer = BFGS()\n",
    "    opti_phi_p = optimize(f_new, lower_bounds, upper_bounds, x_init, \n",
    "                          Fminbox(inner_optimizer), Optim.Options(g_tol = 1e-9))\n",
    "    x_new = Optim.minimizer(opti_phi_p)\n",
    "\n",
    "    # if x_list[end] != x_new\n",
    "    #     println(x_list)\n",
    "    # end\n",
    "\n",
    "    # Confirm the sampling of a new local minimum\n",
    "    if f_phi_p(x_new, x_list, sigma, W) < W * 0.0001\n",
    "        push!(basin_list, x_new)\n",
    "    end\n",
    "\n",
    "    push!(x_list, x_new)\n",
    "end"
   ]
  },
  {
   "cell_type": "code",
   "execution_count": 6,
   "metadata": {},
   "outputs": [
    {
     "data": {
      "text/plain": [
       "8-element Vector{Vector{Float64}}:\n",
       " [-0.2496217672537466, -1.604668770529158e-10]\n",
       " [0.24924642704954153, -0.4941309087971097]\n",
       " [0.7309603349075954, -1.029950446239997e-12]\n",
       " [0.24970923399604014, 0.49413096288575176]\n",
       " [-0.7309480992607653, 0.49409011660528973]\n",
       " [-0.24921866992685807, 0.9568651041056584]\n",
       " [1.1688004323145307, -0.4933075922428859]\n",
       " [0.692257701478393, -0.9541775487447799]"
      ]
     },
     "metadata": {},
     "output_type": "display_data"
    }
   ],
   "source": [
    "basin_list"
   ]
  },
  {
   "cell_type": "code",
   "execution_count": 7,
   "metadata": {},
   "outputs": [
    {
     "data": {
      "text/plain": [
       "501-element Vector{Float64}:\n",
       " -0.9981334973674625\n",
       " -0.9368595394497691\n",
       " -0.9358146142768097\n",
       " -0.9224961097634904\n",
       " -0.8532745220901997\n",
       " -0.9285048149815005\n",
       " -0.8518865686617956\n",
       " -0.7696790069005395\n",
       " -0.7052701944242626\n",
       " -0.8744808403725808\n",
       "  ⋮\n",
       " -0.16208364879162845\n",
       " -0.023427591588774725\n",
       " -0.1514983939480167\n",
       " -0.843969271991355\n",
       "  0.007041661903276935\n",
       " -0.9120532292512786\n",
       " -0.8394536108950036\n",
       " -0.38830473007687893\n",
       " -0.3996536003445689"
      ]
     },
     "metadata": {},
     "output_type": "display_data"
    }
   ],
   "source": [
    "# Assuming X, Y, Z are defined as before for the surface plot\n",
    "\n",
    "# Extract the X and Y coordinates from the basin filling process\n",
    "basin_list_x = [point[1] for point in basin_list]\n",
    "basin_list_y = [point[2] for point in basin_list]\n",
    "\n",
    "# Calculate the corresponding Z values for each point in x_list and y_list\n",
    "basin_list_z = [f_z(x) + f_basin(x) for x in zip(basin_list_x, basin_list_y)]\n",
    "\n",
    "# Extract the X and Y coordinates from the explored coordinates\n",
    "history_x = [point[1] for point in x_list]\n",
    "history_y = [point[2] for point in x_list]\n",
    "\n",
    "# Calculate the corresponding Z values for each point in x_list and y_list\n",
    "history_z = [f_z(x) + f_basin(x) for x in zip(history_x, history_y)]\n"
   ]
  },
  {
   "cell_type": "code",
   "execution_count": 8,
   "metadata": {},
   "outputs": [],
   "source": [
    "# Plot the PES and explored minima\n",
    "f = Figure()\n",
    "ax = Axis3(f[1, 1])\n",
    "\n",
    "surface!(ax, X, Y, Z, colormap = :viridis, shading = NoShading)\n",
    "scatter!(ax, basin_list_x, basin_list_y, basin_list_z.+0.01, color = :red, markersize = 12)\n",
    "lines!(ax, history_x, history_y, history_z.*0, color = :red, markersize = 0, linewidth = 1)\n",
    "\n",
    "f"
   ]
  },
  {
   "cell_type": "code",
   "execution_count": null,
   "metadata": {},
   "outputs": [],
   "source": [
    "# Plot the PES with bias potential\n",
    "f2 = Figure()\n",
    "ax = Axis3(f2[1, 1])\n",
    "\n",
    "f_new = x -> f_z(x) + f_basin(x) + f_phi_p(x, x_list, sigma, W) \n",
    "Z_bias = elementwise_f(f_new, X, Y)\n",
    "\n",
    "surface!(ax, X, Y, Z_bias, colormap = :viridis, shading = NoShading)\n",
    "\n",
    "f2"
   ]
  },
  {
   "cell_type": "code",
   "execution_count": null,
   "metadata": {},
   "outputs": [],
   "source": []
  }
 ],
 "metadata": {
  "kernelspec": {
   "display_name": "Julia 1.9.4",
   "language": "julia",
   "name": "julia-1.9"
  },
  "language_info": {
   "file_extension": ".jl",
   "mimetype": "application/julia",
   "name": "julia",
   "version": "1.9.4"
  }
 },
 "nbformat": 4,
 "nbformat_minor": 2
}
